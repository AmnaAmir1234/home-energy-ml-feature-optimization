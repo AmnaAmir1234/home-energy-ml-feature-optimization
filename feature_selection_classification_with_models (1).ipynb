{
  "nbformat": 4,
  "nbformat_minor": 0,
  "metadata": {
    "colab": {
      "provenance": []
    },
    "kernelspec": {
      "name": "python3",
      "display_name": "Python 3"
    },
    "language_info": {
      "name": "python"
    }
  },
  "cells": [
    {
      "cell_type": "markdown",
      "source": [
        "# Reading csv"
      ],
      "metadata": {
        "id": "HINeaM_tm8AS"
      }
    },
    {
      "cell_type": "code",
      "execution_count": null,
      "metadata": {
        "colab": {
          "base_uri": "https://localhost:8080/"
        },
        "id": "KKuyycYQqyyx",
        "outputId": "c9b4e161-c992-4530-b70c-be86d386aa6e"
      },
      "outputs": [
        {
          "output_type": "stream",
          "name": "stdout",
          "text": [
            "              datetime  Appliances     lights         T1       RH_1  \\\n",
            "0  2020-11-20 06:36:00    9.224074  11.780934  21.353076  28.785449   \n",
            "1  2020-03-13 20:22:00   39.255901  60.716264  35.487458  41.356428   \n",
            "2  2022-03-12 01:56:00   35.940710  65.406471  47.017619  63.418386   \n",
            "3  2021-12-14 07:10:00   41.084820  86.065163  23.978005  23.393887   \n",
            "4  2021-10-12 03:33:00   16.906166  10.180642  36.304494  66.095897   \n",
            "\n",
            "          T2       RH_2         T3       RH_3         T4  ...        T9  \\\n",
            "0   6.129020  27.960747  15.348167  28.330292   4.154281  ...  5.923630   \n",
            "1  15.903235  20.507539  27.672137  22.920486  12.124937  ...  6.061692   \n",
            "2  13.095685  54.531559  34.191016  61.558161   7.795195  ...  6.447738   \n",
            "3   9.435890  26.694852  16.212792  17.039071   4.614822  ...  5.286256   \n",
            "4   2.251706  51.922185  27.846892  66.290309   0.794317  ...  1.668838   \n",
            "\n",
            "        RH_9      T_out    Pressure     RH_out  Windspeed  Visibility  \\\n",
            "0  28.311018  11.236204  709.237084  39.363552   7.472816   49.967024   \n",
            "1  27.481087  28.521429  706.075373  47.343566   6.658242   74.674677   \n",
            "2  38.750060  21.959818  760.419195  85.454739   3.523078   56.266678   \n",
            "3   1.012943  17.959755  796.611632  34.000439  12.145333    8.330258   \n",
            "4  39.741581   4.680559  750.272131  86.964968   9.532483   18.558024   \n",
            "\n",
            "   Tdewpoint       rv1       rv2  \n",
            "0  21.899949  0.638145  0.609393  \n",
            "1   5.535360  0.459292  0.038903  \n",
            "2  10.399191  0.964499  0.612260  \n",
            "3  19.898419  0.218978  0.089669  \n",
            "4  14.462680  0.587856  0.710344  \n",
            "\n",
            "[5 rows x 29 columns]\n"
          ]
        }
      ],
      "source": [
        "import pandas as pd\n",
        "df = pd.read_csv('home_energy_data.csv')\n",
        "print(df.head())\n",
        "\n"
      ]
    },
    {
      "cell_type": "markdown",
      "source": [
        "## Checking for missing values"
      ],
      "metadata": {
        "id": "K5MUj9qhnCXq"
      }
    },
    {
      "cell_type": "code",
      "source": [
        "print(df.isnull().values.any())"
      ],
      "metadata": {
        "colab": {
          "base_uri": "https://localhost:8080/"
        },
        "id": "psbLHEQZrDqQ",
        "outputId": "98e6cad5-8dc9-45f2-ea4a-da6b87315431"
      },
      "execution_count": null,
      "outputs": [
        {
          "output_type": "stream",
          "name": "stdout",
          "text": [
            "False\n"
          ]
        }
      ]
    },
    {
      "cell_type": "markdown",
      "source": [
        "## Checking for outliers"
      ],
      "metadata": {
        "id": "YuBxDB6rnFZk"
      }
    },
    {
      "cell_type": "code",
      "source": [
        "import pandas as pd\n",
        "import numpy as np\n",
        "\n",
        "def has_outliers(df, col):\n",
        "    Q1 = df[col].quantile(0.25)\n",
        "    Q3 = df[col].quantile(0.75)\n",
        "    IQR = Q3 - Q1\n",
        "    lower_bound = Q1 - 1.5 * IQR\n",
        "    upper_bound = Q3 + 1.5 * IQR\n",
        "\n",
        "    return any((df[col] < lower_bound) | (df[col] > upper_bound))\n",
        "\n",
        "for col in df.columns:\n",
        "  if pd.api.types.is_numeric_dtype(df[col]): # check if column is numeric\n",
        "    if has_outliers(df, col):\n",
        "      print(f\"Column '{col}' has outliers.\")"
      ],
      "metadata": {
        "colab": {
          "base_uri": "https://localhost:8080/"
        },
        "id": "OE19yYxZrHma",
        "outputId": "b9b2a5c4-a7a6-4e9d-b84b-c7e394e96684"
      },
      "execution_count": null,
      "outputs": [
        {
          "output_type": "stream",
          "name": "stdout",
          "text": [
            "Column 'T4' has outliers.\n",
            "Column 'T5' has outliers.\n",
            "Column 'T6' has outliers.\n",
            "Column 'T9' has outliers.\n"
          ]
        }
      ]
    },
    {
      "cell_type": "markdown",
      "source": [
        "# Calculating average of Appliances column"
      ],
      "metadata": {
        "id": "NEMEqGzAnIc6"
      }
    },
    {
      "cell_type": "code",
      "source": [
        "# prompt: calculate average of Appliances column\n",
        "\n",
        "print(f\"Average of Appliances column: {df['Appliances'].mean()}\")"
      ],
      "metadata": {
        "colab": {
          "base_uri": "https://localhost:8080/"
        },
        "id": "CAiOxpwcreq4",
        "outputId": "d712982b-b2c5-402e-d266-169d68293235"
      },
      "execution_count": null,
      "outputs": [
        {
          "output_type": "stream",
          "name": "stdout",
          "text": [
            "Average of Appliances column: 30.341510420861812\n"
          ]
        }
      ]
    },
    {
      "cell_type": "markdown",
      "source": [
        "# Converting Appliances column in classes"
      ],
      "metadata": {
        "id": "H6aKXVBenOZp"
      }
    },
    {
      "cell_type": "code",
      "source": [
        "df['Appliances'] = np.where(df['Appliances'] > 30, 'high', 'low')\n",
        "\n",
        "print(df.head())"
      ],
      "metadata": {
        "colab": {
          "base_uri": "https://localhost:8080/"
        },
        "id": "0WItlyPNrkrX",
        "outputId": "47447a3c-7441-45b1-9534-96d2893e7fca"
      },
      "execution_count": null,
      "outputs": [
        {
          "output_type": "stream",
          "name": "stdout",
          "text": [
            "              datetime Appliances     lights         T1       RH_1         T2  \\\n",
            "0  2020-11-20 06:36:00        low  11.780934  21.353076  28.785449   6.129020   \n",
            "1  2020-03-13 20:22:00       high  60.716264  35.487458  41.356428  15.903235   \n",
            "2  2022-03-12 01:56:00       high  65.406471  47.017619  63.418386  13.095685   \n",
            "3  2021-12-14 07:10:00       high  86.065163  23.978005  23.393887   9.435890   \n",
            "4  2021-10-12 03:33:00        low  10.180642  36.304494  66.095897   2.251706   \n",
            "\n",
            "        RH_2         T3       RH_3         T4  ...        T9       RH_9  \\\n",
            "0  27.960747  15.348167  28.330292   4.154281  ...  5.923630  28.311018   \n",
            "1  20.507539  27.672137  22.920486  12.124937  ...  6.061692  27.481087   \n",
            "2  54.531559  34.191016  61.558161   7.795195  ...  6.447738  38.750060   \n",
            "3  26.694852  16.212792  17.039071   4.614822  ...  5.286256   1.012943   \n",
            "4  51.922185  27.846892  66.290309   0.794317  ...  1.668838  39.741581   \n",
            "\n",
            "       T_out    Pressure     RH_out  Windspeed  Visibility  Tdewpoint  \\\n",
            "0  11.236204  709.237084  39.363552   7.472816   49.967024  21.899949   \n",
            "1  28.521429  706.075373  47.343566   6.658242   74.674677   5.535360   \n",
            "2  21.959818  760.419195  85.454739   3.523078   56.266678  10.399191   \n",
            "3  17.959755  796.611632  34.000439  12.145333    8.330258  19.898419   \n",
            "4   4.680559  750.272131  86.964968   9.532483   18.558024  14.462680   \n",
            "\n",
            "        rv1       rv2  \n",
            "0  0.638145  0.609393  \n",
            "1  0.459292  0.038903  \n",
            "2  0.964499  0.612260  \n",
            "3  0.218978  0.089669  \n",
            "4  0.587856  0.710344  \n",
            "\n",
            "[5 rows x 29 columns]\n"
          ]
        }
      ]
    },
    {
      "cell_type": "markdown",
      "source": [
        "# Dropping datetime, rv1 and rv2"
      ],
      "metadata": {
        "id": "0vI4JagonUT_"
      }
    },
    {
      "cell_type": "code",
      "source": [
        "df = df.drop(['datetime', 'rv1', 'rv2'], axis=1, errors='ignore')\n",
        "print(df.head())"
      ],
      "metadata": {
        "colab": {
          "base_uri": "https://localhost:8080/"
        },
        "id": "99TqxB39r6NF",
        "outputId": "b10583b2-ea6b-470e-bb4a-93f6885de1df"
      },
      "execution_count": null,
      "outputs": [
        {
          "output_type": "stream",
          "name": "stdout",
          "text": [
            "  Appliances     lights         T1       RH_1         T2       RH_2  \\\n",
            "0        low  11.780934  21.353076  28.785449   6.129020  27.960747   \n",
            "1       high  60.716264  35.487458  41.356428  15.903235  20.507539   \n",
            "2       high  65.406471  47.017619  63.418386  13.095685  54.531559   \n",
            "3       high  86.065163  23.978005  23.393887   9.435890  26.694852   \n",
            "4        low  10.180642  36.304494  66.095897   2.251706  51.922185   \n",
            "\n",
            "          T3       RH_3         T4       RH_4  ...         T8       RH_8  \\\n",
            "0  15.348167  28.330292   4.154281  10.516710  ...   5.080271  17.303610   \n",
            "1  27.672137  22.920486  12.124937  15.332914  ...  17.414417  22.810967   \n",
            "2  34.191016  61.558161   7.795195  37.133818  ...  12.687376  34.153399   \n",
            "3  16.212792  17.039071   4.614822  15.888899  ...  11.876056   9.455302   \n",
            "4  27.846892  66.290309   0.794317  42.855128  ...   2.018645  30.325235   \n",
            "\n",
            "         T9       RH_9      T_out    Pressure     RH_out  Windspeed  \\\n",
            "0  5.923630  28.311018  11.236204  709.237084  39.363552   7.472816   \n",
            "1  6.061692  27.481087  28.521429  706.075373  47.343566   6.658242   \n",
            "2  6.447738  38.750060  21.959818  760.419195  85.454739   3.523078   \n",
            "3  5.286256   1.012943  17.959755  796.611632  34.000439  12.145333   \n",
            "4  1.668838  39.741581   4.680559  750.272131  86.964968   9.532483   \n",
            "\n",
            "   Visibility  Tdewpoint  \n",
            "0   49.967024  21.899949  \n",
            "1   74.674677   5.535360  \n",
            "2   56.266678  10.399191  \n",
            "3    8.330258  19.898419  \n",
            "4   18.558024  14.462680  \n",
            "\n",
            "[5 rows x 26 columns]\n"
          ]
        }
      ]
    },
    {
      "cell_type": "markdown",
      "source": [
        "# Normalizing numerical columns"
      ],
      "metadata": {
        "id": "8Fq9zFTnnad2"
      }
    },
    {
      "cell_type": "code",
      "source": [
        "for column in df.columns:\n",
        "    if pd.api.types.is_numeric_dtype(df[column]):\n",
        "        df[column] = (df[column] - df[column].min()) / (df[column].max() - df[column].min())\n",
        "print(df.head())"
      ],
      "metadata": {
        "colab": {
          "base_uri": "https://localhost:8080/"
        },
        "id": "uu_2pVUOsfHn",
        "outputId": "01d88d07-3d39-4477-b572-21dcc470366a"
      },
      "execution_count": null,
      "outputs": [
        {
          "output_type": "stream",
          "name": "stdout",
          "text": [
            "  Appliances    lights        T1      RH_1        T2      RH_2        T3  \\\n",
            "0        low  0.117800  0.385667  0.427057  0.415540  0.477257  0.358687   \n",
            "1       high  0.607222  0.615161  0.561159  0.920887  0.392103  0.644814   \n",
            "2       high  0.654131  0.802371  0.796507  0.775731  0.780835  0.796163   \n",
            "3       high  0.860747  0.428286  0.369542  0.586512  0.462794  0.378761   \n",
            "4        low  0.101795  0.628426  0.825070  0.215075  0.751022  0.648871   \n",
            "\n",
            "       RH_3        T4      RH_4  ...        T8      RH_8        T9      RH_9  \\\n",
            "0  0.448773  0.503577  0.268733  ...  0.330525  0.459134  0.554378  0.531894   \n",
            "1  0.389608  0.925015  0.330983  ...  0.891079  0.544002  0.560436  0.521397   \n",
            "2  0.812170  0.696085  0.612765  ...  0.676248  0.718789  0.577378  0.663927   \n",
            "3  0.325286  0.527927  0.338169  ...  0.639376  0.338192  0.526407  0.186627   \n",
            "4  0.863924  0.325923  0.686715  ...  0.191383  0.659797  0.367659  0.676468   \n",
            "\n",
            "      T_out  Pressure    RH_out  Windspeed  Visibility  Tdewpoint  \n",
            "0  0.374639  0.092296  0.393798   0.373615    0.499581   0.730058  \n",
            "1  0.950982  0.060666  0.473642   0.332872    0.746739   0.184491  \n",
            "2  0.732198  0.604310  0.854963   0.176058    0.562599   0.346643  \n",
            "3  0.598823  0.966372  0.340138   0.607323    0.083077   0.663330  \n",
            "4  0.156053  0.502801  0.870073   0.476634    0.185389   0.482112  \n",
            "\n",
            "[5 rows x 26 columns]\n"
          ]
        }
      ]
    },
    {
      "cell_type": "markdown",
      "source": [
        "# Encoding Apliances column"
      ],
      "metadata": {
        "id": "DiUmduqynfMB"
      }
    },
    {
      "cell_type": "code",
      "source": [
        "df['Appliances'] = df['Appliances'].map({'high': 1, 'low': 0})\n",
        "\n",
        "print(df.head())"
      ],
      "metadata": {
        "colab": {
          "base_uri": "https://localhost:8080/"
        },
        "id": "9NurqVebto7C",
        "outputId": "29ab2fbc-7a0e-4e1f-d3de-9f653de323c2"
      },
      "execution_count": null,
      "outputs": [
        {
          "output_type": "stream",
          "name": "stdout",
          "text": [
            "   Appliances    lights        T1      RH_1        T2      RH_2        T3  \\\n",
            "0           0  0.117800  0.385667  0.427057  0.415540  0.477257  0.358687   \n",
            "1           1  0.607222  0.615161  0.561159  0.920887  0.392103  0.644814   \n",
            "2           1  0.654131  0.802371  0.796507  0.775731  0.780835  0.796163   \n",
            "3           1  0.860747  0.428286  0.369542  0.586512  0.462794  0.378761   \n",
            "4           0  0.101795  0.628426  0.825070  0.215075  0.751022  0.648871   \n",
            "\n",
            "       RH_3        T4      RH_4  ...        T8      RH_8        T9      RH_9  \\\n",
            "0  0.448773  0.503577  0.268733  ...  0.330525  0.459134  0.554378  0.531894   \n",
            "1  0.389608  0.925015  0.330983  ...  0.891079  0.544002  0.560436  0.521397   \n",
            "2  0.812170  0.696085  0.612765  ...  0.676248  0.718789  0.577378  0.663927   \n",
            "3  0.325286  0.527927  0.338169  ...  0.639376  0.338192  0.526407  0.186627   \n",
            "4  0.863924  0.325923  0.686715  ...  0.191383  0.659797  0.367659  0.676468   \n",
            "\n",
            "      T_out  Pressure    RH_out  Windspeed  Visibility  Tdewpoint  \n",
            "0  0.374639  0.092296  0.393798   0.373615    0.499581   0.730058  \n",
            "1  0.950982  0.060666  0.473642   0.332872    0.746739   0.184491  \n",
            "2  0.732198  0.604310  0.854963   0.176058    0.562599   0.346643  \n",
            "3  0.598823  0.966372  0.340138   0.607323    0.083077   0.663330  \n",
            "4  0.156053  0.502801  0.870073   0.476634    0.185389   0.482112  \n",
            "\n",
            "[5 rows x 26 columns]\n"
          ]
        }
      ]
    },
    {
      "cell_type": "markdown",
      "source": [
        "# Counting records in each class of Appliances"
      ],
      "metadata": {
        "id": "3ODJMazFni8J"
      }
    },
    {
      "cell_type": "code",
      "source": [
        "import pandas as pd\n",
        "import numpy as np\n",
        "\n",
        "print(df['Appliances'].value_counts())"
      ],
      "metadata": {
        "colab": {
          "base_uri": "https://localhost:8080/"
        },
        "id": "F5F61NV6t8Ad",
        "outputId": "97951dc9-0d88-4007-d78b-69cd36763b01"
      },
      "execution_count": null,
      "outputs": [
        {
          "output_type": "stream",
          "name": "stdout",
          "text": [
            "Appliances\n",
            "1    2508\n",
            "0    2492\n",
            "Name: count, dtype: int64\n"
          ]
        }
      ]
    },
    {
      "cell_type": "markdown",
      "source": [
        "# Pearson correlation"
      ],
      "metadata": {
        "id": "NUK2EFxqntN9"
      }
    },
    {
      "cell_type": "code",
      "source": [
        "correlations = df.corr()['Appliances']\n",
        "selected_features = correlations[abs(correlations) > 0.1].index  # Get column names, not values\n",
        "selected_features = selected_features.drop('Appliances', errors='ignore')\n",
        "selected_features\n",
        "\n"
      ],
      "metadata": {
        "colab": {
          "base_uri": "https://localhost:8080/"
        },
        "id": "RdeoZJ4CupQN",
        "outputId": "2e4cae07-2d32-4066-d294-b609017f7c69"
      },
      "execution_count": null,
      "outputs": [
        {
          "output_type": "execute_result",
          "data": {
            "text/plain": [
              "Index(['lights', 'T1', 'T2', 'T3', 'T4', 'T5', 'T6', 'T7', 'T8', 'T9',\n",
              "       'T_out'],\n",
              "      dtype='object')"
            ]
          },
          "metadata": {},
          "execution_count": 11
        }
      ]
    },
    {
      "cell_type": "markdown",
      "source": [
        "# Forward selection"
      ],
      "metadata": {
        "id": "9am5r0rXn24Q"
      }
    },
    {
      "cell_type": "code",
      "source": [
        "from sklearn.feature_selection import SequentialFeatureSelector\n",
        "from sklearn.linear_model import LogisticRegression\n",
        "from sklearn.model_selection import train_test_split\n",
        "from sklearn.metrics import accuracy_score\n",
        "\n",
        "# Split the data into features (X) and target (y)\n",
        "X = df[selected_features]  # Exclude the target column from features\n",
        "y = df['Appliances']\n",
        "\n",
        "# Split the data into training and testing sets\n",
        "X_train, X_test, y_train, y_test = train_test_split(X, y, test_size=0.3, random_state=42)\n",
        "\n",
        "# Initialize the Logistic Regression model\n",
        "logreg = LogisticRegression(max_iter=1000, random_state=42)\n",
        "\n",
        "# Perform forward selection\n",
        "sfs = SequentialFeatureSelector(logreg, n_features_to_select='auto', direction='forward', scoring='accuracy', cv=5)\n",
        "\n",
        "# Fit the selector on the training data\n",
        "sfs.fit(X_train, y_train)\n",
        "\n",
        "# Get the selected feature names\n",
        "selected_features_forward = X_train.columns[sfs.get_support()]\n",
        "\n",
        "# Print selected features\n",
        "print(\"Selected features using forward selection:\", selected_features_forward)\n",
        "\n",
        "# Evaluate the model using the selected features\n",
        "X_train_selected = X_train[selected_features_forward]\n",
        "X_test_selected = X_test[selected_features_forward]\n",
        "\n",
        "# Train the model with selected features\n",
        "logreg.fit(X_train_selected, y_train)\n",
        "\n",
        "# Predict on the test set\n",
        "y_pred = logreg.predict(X_test_selected)\n",
        "\n",
        "# Calculate accuracy\n",
        "accuracy = accuracy_score(y_test, y_pred)\n",
        "print(\"Accuracy with selected features:\", accuracy)\n"
      ],
      "metadata": {
        "colab": {
          "base_uri": "https://localhost:8080/"
        },
        "id": "tjoiyMNFgCl_",
        "outputId": "9b6b650a-fde4-4976-da73-591a2ecace47"
      },
      "execution_count": null,
      "outputs": [
        {
          "output_type": "stream",
          "name": "stdout",
          "text": [
            "Selected features using forward selection: Index(['lights', 'T1', 'T7', 'T8', 'T_out'], dtype='object')\n",
            "Accuracy with selected features: 0.9106666666666666\n"
          ]
        }
      ]
    },
    {
      "cell_type": "markdown",
      "source": [
        "# Backward selection"
      ],
      "metadata": {
        "id": "V81z5wP1n9oL"
      }
    },
    {
      "cell_type": "code",
      "source": [
        "import pandas as pd\n",
        "from sklearn.linear_model import LogisticRegression\n",
        "from sklearn.model_selection import train_test_split\n",
        "from sklearn.metrics import accuracy_score\n",
        "\n",
        "# Prepare the feature set (X) and target (y)\n",
        "X = df[selected_features]  # Features based on selected_features\n",
        "y = df['Appliances']  # Target variable\n",
        "\n",
        "# Split the data into training and testing sets\n",
        "X_train, X_test, y_train, y_test = train_test_split(X, y, test_size=0.3, random_state=42)\n",
        "\n",
        "# Initialize logistic regression model\n",
        "logreg = LogisticRegression(max_iter=1000, random_state=42)\n",
        "\n",
        "# Backward elimination based on accuracy\n",
        "def backward_elimination_accuracy(X_train, y_train, X_test, y_test):\n",
        "    features = X_train.columns\n",
        "    best_accuracy = 0\n",
        "    selected_features = features\n",
        "\n",
        "    while len(features) > 0:\n",
        "        accuracies = []\n",
        "        # Test by removing one feature at a time and measuring accuracy\n",
        "        for feature in features:\n",
        "            features_subset = features.drop(feature)\n",
        "            X_train_subset = X_train[features_subset]\n",
        "            X_test_subset = X_test[features_subset]\n",
        "\n",
        "            # Train the model\n",
        "            logreg.fit(X_train_subset, y_train)\n",
        "            y_pred = logreg.predict(X_test_subset)\n",
        "            accuracy = accuracy_score(y_test, y_pred)\n",
        "            accuracies.append((feature, accuracy))\n",
        "\n",
        "        # Find the feature whose removal results in the highest accuracy\n",
        "        feature_to_remove, best_accuracy_new = max(accuracies, key=lambda x: x[1])\n",
        "\n",
        "        # If the accuracy with the feature removed is better or equal, keep it\n",
        "        if best_accuracy_new >= best_accuracy:\n",
        "            best_accuracy = best_accuracy_new\n",
        "            features = features.drop(feature_to_remove)\n",
        "            selected_features = features\n",
        "        else:\n",
        "            break  # Stop if removing features decreases accuracy\n",
        "\n",
        "    # Return the final selected features and accuracy\n",
        "    X_train_selected = X_train[selected_features]\n",
        "    X_test_selected = X_test[selected_features]\n",
        "\n",
        "    logreg.fit(X_train_selected, y_train)\n",
        "    y_pred = logreg.predict(X_test_selected)\n",
        "    accuracy = accuracy_score(y_test, y_pred)\n",
        "\n",
        "    return selected_features, accuracy\n",
        "\n",
        "# Perform backward elimination based on accuracy\n",
        "selected_features_backward, accuracy = backward_elimination_accuracy(X_train, y_train, X_test, y_test)\n",
        "\n",
        "# Print selected features and accuracy\n",
        "print(\"Selected features after backward elimination based on accuracy:\", selected_features_backward)\n",
        "print(f\"Accuracy with selected features: {accuracy:.4f}\")\n"
      ],
      "metadata": {
        "colab": {
          "base_uri": "https://localhost:8080/"
        },
        "id": "1u8RBBwTj3AI",
        "outputId": "da5ff6bd-3fdb-4a1c-d278-7f4e89955d6a"
      },
      "execution_count": null,
      "outputs": [
        {
          "output_type": "stream",
          "name": "stdout",
          "text": [
            "Selected features after backward elimination based on accuracy: Index(['lights', 'T1', 'T3', 'T4', 'T7', 'T8', 'T9', 'T_out'], dtype='object')\n",
            "Accuracy with selected features: 0.9140\n"
          ]
        }
      ]
    },
    {
      "cell_type": "markdown",
      "source": [
        "# PSO"
      ],
      "metadata": {
        "id": "AyGvbqV1oBMD"
      }
    },
    {
      "cell_type": "code",
      "source": [
        "import numpy as np\n",
        "import pandas as pd\n",
        "from sklearn.linear_model import LogisticRegression\n",
        "from sklearn.model_selection import train_test_split\n",
        "from sklearn.metrics import accuracy_score\n",
        "\n",
        "# Prepare the feature set (X) and target (y)\n",
        "X = df[selected_features]  # Features based on selected_features\n",
        "y = df['Appliances']  # Target variable\n",
        "\n",
        "# Split the data into training and testing sets\n",
        "X_train, X_test, y_train, y_test = train_test_split(X, y, test_size=0.3, random_state=42)\n",
        "\n",
        "# Initialize logistic regression model\n",
        "logreg = LogisticRegression(max_iter=1000, random_state=42)\n",
        "\n",
        "# Define PSO parameters\n",
        "n_particles = 30  # Number of particles\n",
        "n_features = X_train.shape[1]  # Number of features\n",
        "iterations = 50  # Number of PSO iterations\n",
        "w = 0.5  # Inertia weight\n",
        "c1 = 0.8  # Cognitive weight\n",
        "c2 = 0.9  # Social weight\n",
        "\n",
        "# Initialize particle positions and velocities\n",
        "positions = np.random.randint(2, size=(n_particles, n_features))  # Binary positions (0 or 1) indicating feature selection\n",
        "velocities = np.random.uniform(-1, 1, size=(n_particles, n_features))  # Particle velocities\n",
        "\n",
        "# Initialize personal best positions and global best\n",
        "personal_best_positions = positions.copy()\n",
        "personal_best_scores = np.zeros(n_particles)  # Store personal best accuracy for each particle\n",
        "global_best_position = positions[0].copy()\n",
        "global_best_score = 0  # Store the best accuracy\n",
        "\n",
        "# Fitness function: train logistic regression and return accuracy\n",
        "def fitness_function(position):\n",
        "    selected_features = X_train.columns[position == 1]  # Select features where position == 1\n",
        "    if len(selected_features) == 0:\n",
        "        return 0  # If no features are selected, return an accuracy of 0\n",
        "\n",
        "    X_train_selected = X_train[selected_features]\n",
        "    X_test_selected = X_test[selected_features]\n",
        "\n",
        "    logreg.fit(X_train_selected, y_train)\n",
        "    y_pred = logreg.predict(X_test_selected)\n",
        "\n",
        "    accuracy = accuracy_score(y_test, y_pred)\n",
        "    return accuracy\n",
        "\n",
        "# PSO Main Loop\n",
        "for iteration in range(iterations):\n",
        "    for i in range(n_particles):\n",
        "        # Calculate fitness (accuracy) for each particle\n",
        "        fitness = fitness_function(positions[i])\n",
        "\n",
        "        # Update personal best if current fitness is better\n",
        "        if fitness > personal_best_scores[i]:\n",
        "            personal_best_scores[i] = fitness\n",
        "            personal_best_positions[i] = positions[i].copy()\n",
        "\n",
        "        # Update global best if current fitness is better\n",
        "        if fitness > global_best_score:\n",
        "            global_best_score = fitness\n",
        "            global_best_position = positions[i].copy()\n",
        "\n",
        "    # Update particle velocities and positions\n",
        "    for i in range(n_particles):\n",
        "        r1 = np.random.rand(n_features)\n",
        "        r2 = np.random.rand(n_features)\n",
        "\n",
        "        # Velocity update equation\n",
        "        velocities[i] = w * velocities[i] + c1 * r1 * (personal_best_positions[i] - positions[i]) + c2 * r2 * (global_best_position - positions[i])\n",
        "\n",
        "        # Update positions (binary)\n",
        "        positions[i] = np.where(np.random.rand(n_features) < 1 / (1 + np.exp(-velocities[i])), 1, 0)\n",
        "\n",
        "    # Print progress\n",
        "    print(f\"Iteration {iteration+1}/{iterations} - Best Accuracy: {global_best_score:.4f}\")\n",
        "\n",
        "# Final selected features from the global best position\n",
        "selected_features_pso= X_train.columns[global_best_position == 1]\n",
        "print(\"Selected Features after PSO:\", selected_features_pso)\n",
        "print(f\"Best Accuracy with selected features: {global_best_score:.4f}\")\n"
      ],
      "metadata": {
        "colab": {
          "base_uri": "https://localhost:8080/"
        },
        "id": "IYdnIQbHkle0",
        "outputId": "2b3a0722-d73c-4854-bbd8-5c7971908be7"
      },
      "execution_count": null,
      "outputs": [
        {
          "output_type": "stream",
          "name": "stdout",
          "text": [
            "Iteration 1/50 - Best Accuracy: 0.9133\n",
            "Iteration 2/50 - Best Accuracy: 0.9140\n",
            "Iteration 3/50 - Best Accuracy: 0.9140\n",
            "Iteration 4/50 - Best Accuracy: 0.9140\n",
            "Iteration 5/50 - Best Accuracy: 0.9140\n",
            "Iteration 6/50 - Best Accuracy: 0.9140\n",
            "Iteration 7/50 - Best Accuracy: 0.9147\n",
            "Iteration 8/50 - Best Accuracy: 0.9147\n",
            "Iteration 9/50 - Best Accuracy: 0.9147\n",
            "Iteration 10/50 - Best Accuracy: 0.9147\n",
            "Iteration 11/50 - Best Accuracy: 0.9147\n",
            "Iteration 12/50 - Best Accuracy: 0.9147\n",
            "Iteration 13/50 - Best Accuracy: 0.9147\n",
            "Iteration 14/50 - Best Accuracy: 0.9147\n",
            "Iteration 15/50 - Best Accuracy: 0.9147\n",
            "Iteration 16/50 - Best Accuracy: 0.9147\n",
            "Iteration 17/50 - Best Accuracy: 0.9147\n",
            "Iteration 18/50 - Best Accuracy: 0.9147\n",
            "Iteration 19/50 - Best Accuracy: 0.9147\n",
            "Iteration 20/50 - Best Accuracy: 0.9147\n",
            "Iteration 21/50 - Best Accuracy: 0.9147\n",
            "Iteration 22/50 - Best Accuracy: 0.9147\n",
            "Iteration 23/50 - Best Accuracy: 0.9147\n",
            "Iteration 24/50 - Best Accuracy: 0.9147\n",
            "Iteration 25/50 - Best Accuracy: 0.9147\n",
            "Iteration 26/50 - Best Accuracy: 0.9147\n",
            "Iteration 27/50 - Best Accuracy: 0.9147\n",
            "Iteration 28/50 - Best Accuracy: 0.9147\n",
            "Iteration 29/50 - Best Accuracy: 0.9147\n",
            "Iteration 30/50 - Best Accuracy: 0.9147\n",
            "Iteration 31/50 - Best Accuracy: 0.9147\n",
            "Iteration 32/50 - Best Accuracy: 0.9147\n",
            "Iteration 33/50 - Best Accuracy: 0.9147\n",
            "Iteration 34/50 - Best Accuracy: 0.9147\n",
            "Iteration 35/50 - Best Accuracy: 0.9147\n",
            "Iteration 36/50 - Best Accuracy: 0.9147\n",
            "Iteration 37/50 - Best Accuracy: 0.9147\n",
            "Iteration 38/50 - Best Accuracy: 0.9147\n",
            "Iteration 39/50 - Best Accuracy: 0.9147\n",
            "Iteration 40/50 - Best Accuracy: 0.9147\n",
            "Iteration 41/50 - Best Accuracy: 0.9147\n",
            "Iteration 42/50 - Best Accuracy: 0.9147\n",
            "Iteration 43/50 - Best Accuracy: 0.9147\n",
            "Iteration 44/50 - Best Accuracy: 0.9147\n",
            "Iteration 45/50 - Best Accuracy: 0.9147\n",
            "Iteration 46/50 - Best Accuracy: 0.9147\n",
            "Iteration 47/50 - Best Accuracy: 0.9147\n",
            "Iteration 48/50 - Best Accuracy: 0.9147\n",
            "Iteration 49/50 - Best Accuracy: 0.9147\n",
            "Iteration 50/50 - Best Accuracy: 0.9147\n",
            "Selected Features after PSO: Index(['lights', 'T1', 'T2', 'T3', 'T4', 'T5', 'T7', 'T8'], dtype='object')\n",
            "Best Accuracy with selected features: 0.9147\n"
          ]
        }
      ]
    },
    {
      "cell_type": "markdown",
      "source": [
        "# Genetic algorithm"
      ],
      "metadata": {
        "id": "aRz_navfoGOL"
      }
    },
    {
      "cell_type": "code",
      "source": [
        "!pip install deap"
      ],
      "metadata": {
        "colab": {
          "base_uri": "https://localhost:8080/"
        },
        "id": "-tqUqoE4oJnT",
        "outputId": "6f5ee0d1-6926-41a9-e54f-83af272979ff"
      },
      "execution_count": null,
      "outputs": [
        {
          "output_type": "stream",
          "name": "stdout",
          "text": [
            "Collecting deap\n",
            "  Downloading deap-1.4.1-cp310-cp310-manylinux_2_5_x86_64.manylinux1_x86_64.manylinux_2_17_x86_64.manylinux2014_x86_64.whl.metadata (13 kB)\n",
            "Requirement already satisfied: numpy in /usr/local/lib/python3.10/dist-packages (from deap) (1.26.4)\n",
            "Downloading deap-1.4.1-cp310-cp310-manylinux_2_5_x86_64.manylinux1_x86_64.manylinux_2_17_x86_64.manylinux2014_x86_64.whl (135 kB)\n",
            "\u001b[?25l   \u001b[90m━━━━━━━━━━━━━━━━━━━━━━━━━━━━━━━━━━━━━━━━\u001b[0m \u001b[32m0.0/135.4 kB\u001b[0m \u001b[31m?\u001b[0m eta \u001b[36m-:--:--\u001b[0m\r\u001b[2K   \u001b[91m━━━━━━━━━━━━━━━━━━━━━━━━━━━━━━━━━━━━━━━\u001b[0m\u001b[90m╺\u001b[0m \u001b[32m133.1/135.4 kB\u001b[0m \u001b[31m5.7 MB/s\u001b[0m eta \u001b[36m0:00:01\u001b[0m\r\u001b[2K   \u001b[90m━━━━━━━━━━━━━━━━━━━━━━━━━━━━━━━━━━━━━━━━\u001b[0m \u001b[32m135.4/135.4 kB\u001b[0m \u001b[31m2.9 MB/s\u001b[0m eta \u001b[36m0:00:00\u001b[0m\n",
            "\u001b[?25hInstalling collected packages: deap\n",
            "Successfully installed deap-1.4.1\n"
          ]
        }
      ]
    },
    {
      "cell_type": "code",
      "source": [
        "import numpy as np\n",
        "import pandas as pd\n",
        "from sklearn.linear_model import LogisticRegression\n",
        "from sklearn.model_selection import train_test_split\n",
        "from sklearn.metrics import accuracy_score\n",
        "from deap import base, creator, tools, algorithms\n",
        "\n",
        "# Sample dataset\n",
        "X = df[selected_features]  # Replace with your feature columns\n",
        "y = df[\"Appliances\"]  # Replace with your target column\n",
        "\n",
        "# Split data\n",
        "X_train, X_test, y_train, y_test = train_test_split(X, y, test_size=0.3, random_state=42)\n",
        "\n",
        "# Fitness function: Accuracy based on selected features\n",
        "def evaluate(individual):\n",
        "    selected_features = [bool(i) for i in individual]  # Convert 0/1 to True/False\n",
        "    if not any(selected_features):\n",
        "        return 0,  # Return 0 accuracy if no features are selected\n",
        "\n",
        "    X_train_selected = X_train.loc[:, selected_features]\n",
        "    X_test_selected = X_test.loc[:, selected_features]\n",
        "\n",
        "    model = LogisticRegression(max_iter=1000, random_state=42)\n",
        "    model.fit(X_train_selected, y_train)\n",
        "    y_pred = model.predict(X_test_selected)\n",
        "    accuracy = accuracy_score(y_test, y_pred)\n",
        "    return accuracy,  # Return as a tuple\n",
        "\n",
        "# Genetic Algorithm setup\n",
        "n_features = X_train.shape[1]\n",
        "\n",
        "creator.create(\"FitnessMax\", base.Fitness, weights=(1.0,))  # Maximize accuracy\n",
        "creator.create(\"Individual\", list, fitness=creator.FitnessMax)\n",
        "\n",
        "toolbox = base.Toolbox()\n",
        "toolbox.register(\"attr_bool\", np.random.randint, 2)  # Binary 0/1 for each feature\n",
        "toolbox.register(\"individual\", tools.initRepeat, creator.Individual, toolbox.attr_bool, n=n_features)\n",
        "toolbox.register(\"population\", tools.initRepeat, list, toolbox.individual)\n",
        "\n",
        "toolbox.register(\"evaluate\", evaluate)\n",
        "toolbox.register(\"mate\", tools.cxTwoPoint)\n",
        "toolbox.register(\"mutate\", tools.mutFlipBit, indpb=0.1)  # Flip bit with 10% probability\n",
        "toolbox.register(\"select\", tools.selTournament, tournsize=3)\n",
        "\n",
        "# Run Genetic Algorithm\n",
        "population = toolbox.population(n=30)  # 30 individuals in population\n",
        "n_generations = 50\n",
        "\n",
        "result_population, log = algorithms.eaSimple(population, toolbox, cxpb=0.5, mutpb=0.2,\n",
        "                                             ngen=n_generations, verbose=True)\n",
        "\n",
        "# Get the best individual (feature set)\n",
        "best_individual = tools.selBest(result_population, k=1)[0]\n",
        "selected_features = X_train.columns[[bool(i) for i in best_individual]]\n",
        "\n",
        "print(\"Selected Features:\", list(selected_features))\n"
      ],
      "metadata": {
        "colab": {
          "base_uri": "https://localhost:8080/"
        },
        "id": "IlV9hnadnh7D",
        "outputId": "4cbbefab-26b9-4aa6-d21a-1e3eae07845c"
      },
      "execution_count": null,
      "outputs": [
        {
          "output_type": "stream",
          "name": "stdout",
          "text": [
            "gen\tnevals\n",
            "0  \t30    \n",
            "1  \t18    \n",
            "2  \t22    \n",
            "3  \t19    \n",
            "4  \t14    \n",
            "5  \t16    \n",
            "6  \t21    \n",
            "7  \t16    \n",
            "8  \t22    \n",
            "9  \t14    \n",
            "10 \t17    \n",
            "11 \t22    \n",
            "12 \t16    \n",
            "13 \t13    \n",
            "14 \t22    \n",
            "15 \t18    \n",
            "16 \t14    \n",
            "17 \t16    \n",
            "18 \t21    \n",
            "19 \t16    \n",
            "20 \t20    \n",
            "21 \t26    \n",
            "22 \t19    \n",
            "23 \t17    \n",
            "24 \t18    \n",
            "25 \t21    \n",
            "26 \t20    \n",
            "27 \t16    \n",
            "28 \t22    \n",
            "29 \t19    \n",
            "30 \t21    \n",
            "31 \t22    \n",
            "32 \t20    \n",
            "33 \t16    \n",
            "34 \t13    \n",
            "35 \t21    \n",
            "36 \t11    \n",
            "37 \t16    \n",
            "38 \t15    \n",
            "39 \t22    \n",
            "40 \t13    \n",
            "41 \t24    \n",
            "42 \t16    \n",
            "43 \t12    \n",
            "44 \t12    \n",
            "45 \t17    \n",
            "46 \t17    \n",
            "47 \t18    \n",
            "48 \t14    \n",
            "49 \t18    \n",
            "50 \t16    \n",
            "Selected Features: ['lights', 'T1', 'T3', 'T7', 'T8']\n"
          ]
        }
      ]
    },
    {
      "cell_type": "markdown",
      "source": [
        "# Logistic regression on Forward selected features"
      ],
      "metadata": {
        "id": "vDlFhKNbvqvM"
      }
    },
    {
      "cell_type": "code",
      "source": [
        "# Import necessary libraries\n",
        "from sklearn.linear_model import LogisticRegression\n",
        "from sklearn.model_selection import train_test_split, GridSearchCV\n",
        "from sklearn.metrics import accuracy_score, precision_score, recall_score, f1_score\n",
        "\n",
        "# Assuming you have a DataFrame 'df' with the relevant columns\n",
        "# Replace 'df' with the actual DataFrame name or data loading process\n",
        "# df = pd.read_csv('your_data.csv')\n",
        "\n",
        "# Define the features (X) and target (y)\n",
        "X = df[['lights', 'T1', 'T7', 'T8', 'T_out']]\n",
        "y = df['Appliances']\n",
        "\n",
        "# Split the data into training and test sets\n",
        "X_train, X_test, y_train, y_test = train_test_split(X, y, test_size=0.3, random_state=42)\n",
        "\n",
        "# Initialize the Logistic Regression model\n",
        "logreg_model = LogisticRegression(solver='liblinear', max_iter=1000)\n",
        "\n",
        "# Define the parameter grid for GridSearchCV\n",
        "param_grid = {\n",
        "    'C': [0.01, 0.1, 1, 10, 100],       # Regularization strength\n",
        "    'penalty': ['l1', 'l2']             # L1 (Lasso) and L2 (Ridge) penalties\n",
        "}\n",
        "\n",
        "# Set up GridSearchCV with cross-validation\n",
        "grid_search = GridSearchCV(logreg_model, param_grid, cv=5, scoring='accuracy')\n",
        "grid_search.fit(X_train, y_train)\n",
        "\n",
        "# Get the best parameters\n",
        "best_params = grid_search.best_params_\n",
        "print(f\"Best Parameters: {best_params}\")\n",
        "\n",
        "# Train the Logistic Regression model with the best parameters\n",
        "optimal_logreg = LogisticRegression(**best_params, solver='liblinear', max_iter=1000)\n",
        "optimal_logreg.fit(X_train, y_train)\n",
        "\n",
        "# Make predictions on the test set\n",
        "y_pred = optimal_logreg.predict(X_test)\n",
        "\n",
        "# Calculate performance metrics\n",
        "accuracy = accuracy_score(y_test, y_pred)\n",
        "precision = precision_score(y_test, y_pred, average='binary')  # Adjust for multi-class if needed\n",
        "recall = recall_score(y_test, y_pred, average='binary')        # Adjust for multi-class if needed\n",
        "f1 = f1_score(y_test, y_pred, average='binary')                # Adjust for multi-class if needed\n",
        "\n",
        "# Output the results\n",
        "print(f'Accuracy: {accuracy:.4f}')\n",
        "print(f'Precision: {precision:.4f}')\n",
        "print(f'Recall: {recall:.4f}')\n",
        "print(f'F1 Score: {f1:.4f}')\n"
      ],
      "metadata": {
        "colab": {
          "base_uri": "https://localhost:8080/"
        },
        "id": "fbhvdWoPtzUB",
        "outputId": "77ee7857-3e41-4ce7-84bb-ac89ea2e3ad1"
      },
      "execution_count": null,
      "outputs": [
        {
          "output_type": "stream",
          "name": "stdout",
          "text": [
            "Best Parameters: {'C': 1, 'penalty': 'l1'}\n",
            "Accuracy: 0.9127\n",
            "Precision: 0.9093\n",
            "Recall: 0.9106\n",
            "F1 Score: 0.9100\n"
          ]
        }
      ]
    },
    {
      "cell_type": "markdown",
      "source": [
        "# Naive bayes classifier(guassianNB) on Forward selected features"
      ],
      "metadata": {
        "id": "CQDWOrR0vx2F"
      }
    },
    {
      "cell_type": "code",
      "source": [
        "# Import necessary libraries\n",
        "from sklearn.naive_bayes import GaussianNB\n",
        "from sklearn.metrics import accuracy_score, precision_score, recall_score, f1_score\n",
        "from sklearn.model_selection import train_test_split\n",
        "\n",
        "# Assuming you have a DataFrame 'df' with the relevant columns\n",
        "# Replace 'df' with the actual DataFrame name or data loading process\n",
        "# df = pd.read_csv('your_data.csv')\n",
        "\n",
        "# Define the features (X) and target (y)\n",
        "X = df[['lights', 'T1', 'T7', 'T8', 'T_out']]\n",
        "y = df['Appliances']\n",
        "\n",
        "# Split the data into training and test sets\n",
        "X_train, X_test, y_train, y_test = train_test_split(X, y, test_size=0.3, random_state=42)\n",
        "\n",
        "# Initialize the Naive Bayes classifier\n",
        "nb_model = GaussianNB()\n",
        "\n",
        "# Fit the model to the training data\n",
        "nb_model.fit(X_train, y_train)\n",
        "\n",
        "# Make predictions on the test set\n",
        "y_pred = nb_model.predict(X_test)\n",
        "\n",
        "# Calculate accuracy, precision, recall, and F1 score\n",
        "accuracy = accuracy_score(y_test, y_pred)\n",
        "precision = precision_score(y_test, y_pred, average='binary')  # Adjust for multi-class if needed\n",
        "recall = recall_score(y_test, y_pred, average='binary')  # Adjust for multi-class if needed\n",
        "f1 = f1_score(y_test, y_pred, average='binary')  # Adjust for multi-class if needed\n",
        "\n",
        "# Output the results\n",
        "print(f'Accuracy: {accuracy:.4f}')\n",
        "print(f'Precision: {precision:.4f}')\n",
        "print(f'Recall: {recall:.4f}')\n",
        "print(f'F1 Score: {f1:.4f}')\n"
      ],
      "metadata": {
        "colab": {
          "base_uri": "https://localhost:8080/"
        },
        "id": "V63TU_vjvjF7",
        "outputId": "72629c20-0d2e-491e-a00a-0aa18fd8dafd"
      },
      "execution_count": null,
      "outputs": [
        {
          "output_type": "stream",
          "name": "stdout",
          "text": [
            "Accuracy: 0.9013\n",
            "Precision: 0.8982\n",
            "Recall: 0.8982\n",
            "F1 Score: 0.8982\n"
          ]
        }
      ]
    },
    {
      "cell_type": "markdown",
      "source": [
        "# KNN on Forward selected features"
      ],
      "metadata": {
        "id": "h57MnNH1wKAv"
      }
    },
    {
      "cell_type": "code",
      "source": [
        "# Import necessary libraries\n",
        "from sklearn.neighbors import KNeighborsClassifier\n",
        "from sklearn.model_selection import train_test_split, GridSearchCV\n",
        "from sklearn.metrics import accuracy_score, precision_score, recall_score, f1_score\n",
        "\n",
        "# Assuming you have a DataFrame 'df' with the relevant columns\n",
        "# Replace 'df' with the actual DataFrame name or data loading process\n",
        "# df = pd.read_csv('your_data.csv')\n",
        "\n",
        "# Define the features (X) and target (y)\n",
        "X = df[['lights', 'T1', 'T7', 'T8', 'T_out']]\n",
        "y = df['Appliances']\n",
        "\n",
        "# Split the data into training and test sets\n",
        "X_train, X_test, y_train, y_test = train_test_split(X, y, test_size=0.3, random_state=42)\n",
        "\n",
        "# Define the KNN model\n",
        "knn_model = KNeighborsClassifier()\n",
        "\n",
        "# Set up GridSearchCV to find the best value of k (neighbors)\n",
        "param_grid = {'n_neighbors': list(range(1, 10))}  # Testing k values from 1 to 20\n",
        "\n",
        "# Perform GridSearchCV with cross-validation\n",
        "grid_search = GridSearchCV(knn_model, param_grid, cv=5, scoring='accuracy')\n",
        "grid_search.fit(X_train, y_train)\n",
        "\n",
        "# Get the best k value\n",
        "best_k = grid_search.best_params_['n_neighbors']\n",
        "print(f\"Best value of k: {best_k}\")\n",
        "\n",
        "# Train the KNN model with the best k value\n",
        "optimal_knn = KNeighborsClassifier(n_neighbors=best_k)\n",
        "optimal_knn.fit(X_train, y_train)\n",
        "\n",
        "# Make predictions on the test set\n",
        "y_pred = optimal_knn.predict(X_test)\n",
        "\n",
        "# Calculate performance metrics\n",
        "accuracy = accuracy_score(y_test, y_pred)\n",
        "precision = precision_score(y_test, y_pred, average='binary')  # Adjust for multi-class if needed\n",
        "recall = recall_score(y_test, y_pred, average='binary')  # Adjust for multi-class if needed\n",
        "f1 = f1_score(y_test, y_pred, average='binary')  # Adjust for multi-class if needed\n",
        "\n",
        "# Output the results\n",
        "print(f'Accuracy: {accuracy:.4f}')\n",
        "print(f'Precision: {precision:.4f}')\n",
        "print(f'Recall: {recall:.4f}')\n",
        "print(f'F1 Score: {f1:.4f}')\n"
      ],
      "metadata": {
        "colab": {
          "base_uri": "https://localhost:8080/"
        },
        "id": "d3wQ229VwFUN",
        "outputId": "2093832d-192e-4eb8-8820-d4dc2bffc85b"
      },
      "execution_count": null,
      "outputs": [
        {
          "output_type": "stream",
          "name": "stdout",
          "text": [
            "Best value of k: 7\n",
            "Accuracy: 0.9013\n",
            "Precision: 0.9049\n",
            "Recall: 0.8900\n",
            "F1 Score: 0.8974\n"
          ]
        }
      ]
    },
    {
      "cell_type": "markdown",
      "source": [
        "#  SVM on forward selected features"
      ],
      "metadata": {
        "id": "zIaRyIBCxO4B"
      }
    },
    {
      "cell_type": "code",
      "source": [
        "# Import necessary libraries\n",
        "from sklearn.svm import SVC\n",
        "from sklearn.model_selection import train_test_split, GridSearchCV\n",
        "from sklearn.metrics import accuracy_score, precision_score, recall_score, f1_score\n",
        "\n",
        "# Assuming you have a DataFrame 'df' with the relevant columns\n",
        "# Replace 'df' with the actual DataFrame name or data loading process\n",
        "# df = pd.read_csv('your_data.csv')\n",
        "\n",
        "# Define the features (X) and target (y)\n",
        "X = df[['lights', 'T1', 'T7', 'T8', 'T_out']]\n",
        "y = df['Appliances']\n",
        "\n",
        "# Split the data into training and test sets\n",
        "X_train, X_test, y_train, y_test = train_test_split(X, y, test_size=0.3, random_state=42)\n",
        "\n",
        "# Initialize the SVM model\n",
        "svm_model = SVC()\n",
        "\n",
        "# Define the parameter grid for GridSearchCV, including 'sigmoid' kernel\n",
        "param_grid = {\n",
        "    'C': [0.1, 1, 10, 100],          # Regularization parameter\n",
        "    'kernel': ['linear', 'rbf', 'poly', 'sigmoid'],  # Kernel types including 'sigmoid'\n",
        "    'gamma': ['scale', 'auto']       # Kernel coefficient for 'rbf', 'poly', and 'sigmoid'\n",
        "}\n",
        "\n",
        "# Set up GridSearchCV\n",
        "grid_search = GridSearchCV(svm_model, param_grid, cv=5, scoring='accuracy')\n",
        "grid_search.fit(X_train, y_train)\n",
        "\n",
        "# Get the best parameters\n",
        "best_params = grid_search.best_params_\n",
        "print(f\"Best Parameters: {best_params}\")\n",
        "\n",
        "# Train the SVM model with the best parameters\n",
        "optimal_svm = SVC(**best_params)\n",
        "optimal_svm.fit(X_train, y_train)\n",
        "\n",
        "# Make predictions on the test set\n",
        "y_pred = optimal_svm.predict(X_test)\n",
        "\n",
        "# Calculate performance metrics\n",
        "accuracy = accuracy_score(y_test, y_pred)\n",
        "precision = precision_score(y_test, y_pred, average='binary')  # Adjust for multi-class if needed\n",
        "recall = recall_score(y_test, y_pred, average='binary')  # Adjust for multi-class if needed\n",
        "f1 = f1_score(y_test, y_pred, average='binary')  # Adjust for multi-class if needed\n",
        "\n",
        "# Output the results\n",
        "print(f'Accuracy: {accuracy:.4f}')\n",
        "print(f'Precision: {precision:.4f}')\n",
        "print(f'Recall: {recall:.4f}')\n",
        "print(f'F1 Score: {f1:.4f}')\n"
      ],
      "metadata": {
        "colab": {
          "base_uri": "https://localhost:8080/"
        },
        "id": "mu3IzkWkxL5Q",
        "outputId": "b0e2aa0c-3d3a-4c29-97f1-86c6613d67a3"
      },
      "execution_count": null,
      "outputs": [
        {
          "output_type": "stream",
          "name": "stdout",
          "text": [
            "Best Parameters: {'C': 0.1, 'gamma': 'scale', 'kernel': 'linear'}\n",
            "Accuracy: 0.9113\n",
            "Precision: 0.9114\n",
            "Recall: 0.9051\n",
            "F1 Score: 0.9082\n"
          ]
        }
      ]
    },
    {
      "cell_type": "markdown",
      "source": [
        "# Logistic regression on backward selected features"
      ],
      "metadata": {
        "id": "A19xGrNfxyhO"
      }
    },
    {
      "cell_type": "code",
      "source": [
        "# Import necessary libraries\n",
        "from sklearn.linear_model import LogisticRegression\n",
        "from sklearn.model_selection import train_test_split, GridSearchCV\n",
        "from sklearn.metrics import accuracy_score, precision_score, recall_score, f1_score\n",
        "\n",
        "# Assuming you have a DataFrame 'df' with the relevant columns\n",
        "# Replace 'df' with the actual DataFrame name or data loading process\n",
        "# df = pd.read_csv('your_data.csv')\n",
        "\n",
        "# Define the features (X) and target (y)\n",
        "X = df[['lights', 'T1', 'T3', 'T4', 'T7', 'T8', 'T9', 'T_out']]\n",
        "y = df['Appliances']\n",
        "\n",
        "# Split the data into training and test sets\n",
        "X_train, X_test, y_train, y_test = train_test_split(X, y, test_size=0.3, random_state=42)\n",
        "\n",
        "# Initialize the Logistic Regression model\n",
        "logreg_model = LogisticRegression(solver='liblinear', max_iter=1000)\n",
        "\n",
        "# Define the parameter grid for GridSearchCV\n",
        "param_grid = {\n",
        "    'C': [0.01, 0.1, 1, 10, 100],       # Regularization strength\n",
        "    'penalty': ['l1', 'l2']             # L1 (Lasso) and L2 (Ridge) penalties\n",
        "}\n",
        "\n",
        "# Set up GridSearchCV with cross-validation\n",
        "grid_search = GridSearchCV(logreg_model, param_grid, cv=5, scoring='accuracy')\n",
        "grid_search.fit(X_train, y_train)\n",
        "\n",
        "# Get the best parameters\n",
        "best_params = grid_search.best_params_\n",
        "print(f\"Best Parameters: {best_params}\")\n",
        "\n",
        "# Train the Logistic Regression model with the best parameters\n",
        "optimal_logreg = LogisticRegression(**best_params, solver='liblinear', max_iter=1000)\n",
        "optimal_logreg.fit(X_train, y_train)\n",
        "\n",
        "# Make predictions on the test set\n",
        "y_pred = optimal_logreg.predict(X_test)\n",
        "\n",
        "# Calculate performance metrics\n",
        "accuracy = accuracy_score(y_test, y_pred)\n",
        "precision = precision_score(y_test, y_pred, average='binary')  # Adjust for multi-class if needed\n",
        "recall = recall_score(y_test, y_pred, average='binary')        # Adjust for multi-class if needed\n",
        "f1 = f1_score(y_test, y_pred, average='binary')                # Adjust for multi-class if needed\n",
        "\n",
        "# Output the results\n",
        "print(f'Accuracy: {accuracy:.4f}')\n",
        "print(f'Precision: {precision:.4f}')\n",
        "print(f'Recall: {recall:.4f}')\n",
        "print(f'F1 Score: {f1:.4f}')\n"
      ],
      "metadata": {
        "colab": {
          "base_uri": "https://localhost:8080/"
        },
        "id": "FBBs6Jorxxpl",
        "outputId": "7055e60d-913a-4443-a265-966a48da0c1f"
      },
      "execution_count": null,
      "outputs": [
        {
          "output_type": "stream",
          "name": "stdout",
          "text": [
            "Best Parameters: {'C': 1, 'penalty': 'l1'}\n",
            "Accuracy: 0.9133\n",
            "Precision: 0.9095\n",
            "Recall: 0.9120\n",
            "F1 Score: 0.9107\n"
          ]
        }
      ]
    },
    {
      "cell_type": "markdown",
      "source": [
        "# Naive bayes classifier on Backward selected features"
      ],
      "metadata": {
        "id": "dP-GPSlFzDYE"
      }
    },
    {
      "cell_type": "code",
      "source": [
        "# Import necessary libraries\n",
        "from sklearn.naive_bayes import GaussianNB\n",
        "from sklearn.metrics import accuracy_score, precision_score, recall_score, f1_score\n",
        "from sklearn.model_selection import train_test_split\n",
        "\n",
        "# Assuming you have a DataFrame 'df' with the relevant columns\n",
        "# Replace 'df' with the actual DataFrame name or data loading process\n",
        "# df = pd.read_csv('your_data.csv')\n",
        "\n",
        "# Define the features (X) and target (y)\n",
        "X = df[['lights', 'T1', 'T3', 'T4', 'T7', 'T8', 'T9', 'T_out']]\n",
        "y = df['Appliances']\n",
        "\n",
        "# Split the data into training and test sets\n",
        "X_train, X_test, y_train, y_test = train_test_split(X, y, test_size=0.3, random_state=42)\n",
        "\n",
        "# Initialize the Naive Bayes classifier\n",
        "nb_model = GaussianNB()\n",
        "\n",
        "# Fit the model to the training data\n",
        "nb_model.fit(X_train, y_train)\n",
        "\n",
        "# Make predictions on the test set\n",
        "y_pred = nb_model.predict(X_test)\n",
        "\n",
        "# Calculate accuracy, precision, recall, and F1 score\n",
        "accuracy = accuracy_score(y_test, y_pred)\n",
        "precision = precision_score(y_test, y_pred, average='binary')  # Adjust for multi-class if needed\n",
        "recall = recall_score(y_test, y_pred, average='binary')  # Adjust for multi-class if needed\n",
        "f1 = f1_score(y_test, y_pred, average='binary')  # Adjust for multi-class if needed\n",
        "\n",
        "# Output the results\n",
        "print(f'Accuracy: {accuracy:.4f}')\n",
        "print(f'Precision: {precision:.4f}')\n",
        "print(f'Recall: {recall:.4f}')\n",
        "print(f'F1 Score: {f1:.4f}')\n"
      ],
      "metadata": {
        "colab": {
          "base_uri": "https://localhost:8080/"
        },
        "id": "2yR4_hcQy622",
        "outputId": "9890cae4-e819-46bc-8bc6-11bbeb649c7d"
      },
      "execution_count": null,
      "outputs": [
        {
          "output_type": "stream",
          "name": "stdout",
          "text": [
            "Accuracy: 0.9060\n",
            "Precision: 0.9047\n",
            "Recall: 0.9010\n",
            "F1 Score: 0.9028\n"
          ]
        }
      ]
    },
    {
      "cell_type": "markdown",
      "source": [
        "# KNN on backward selected features"
      ],
      "metadata": {
        "id": "h1pjfDyqzRgJ"
      }
    },
    {
      "cell_type": "code",
      "source": [
        "# Import necessary libraries\n",
        "from sklearn.neighbors import KNeighborsClassifier\n",
        "from sklearn.model_selection import train_test_split, GridSearchCV\n",
        "from sklearn.metrics import accuracy_score, precision_score, recall_score, f1_score\n",
        "\n",
        "# Assuming you have a DataFrame 'df' with the relevant columns\n",
        "# Replace 'df' with the actual DataFrame name or data loading process\n",
        "# df = pd.read_csv('your_data.csv')\n",
        "\n",
        "# Define the features (X) and target (y)\n",
        "X = df[['lights', 'T1', 'T3', 'T4', 'T7', 'T8', 'T9', 'T_out']]\n",
        "y = df['Appliances']\n",
        "\n",
        "# Split the data into training and test sets\n",
        "X_train, X_test, y_train, y_test = train_test_split(X, y, test_size=0.3, random_state=42)\n",
        "\n",
        "# Define the KNN model\n",
        "knn_model = KNeighborsClassifier()\n",
        "\n",
        "# Set up GridSearchCV to find the best value of k (neighbors)\n",
        "param_grid = {'n_neighbors': list(range(1, 10))}  # Testing k values from 1 to 20\n",
        "\n",
        "# Perform GridSearchCV with cross-validation\n",
        "grid_search = GridSearchCV(knn_model, param_grid, cv=5, scoring='accuracy')\n",
        "grid_search.fit(X_train, y_train)\n",
        "\n",
        "# Get the best k value\n",
        "best_k = grid_search.best_params_['n_neighbors']\n",
        "print(f\"Best value of k: {best_k}\")\n",
        "\n",
        "# Train the KNN model with the best k value\n",
        "optimal_knn = KNeighborsClassifier(n_neighbors=best_k)\n",
        "optimal_knn.fit(X_train, y_train)\n",
        "\n",
        "# Make predictions on the test set\n",
        "y_pred = optimal_knn.predict(X_test)\n",
        "\n",
        "# Calculate performance metrics\n",
        "accuracy = accuracy_score(y_test, y_pred)\n",
        "precision = precision_score(y_test, y_pred, average='binary')  # Adjust for multi-class if needed\n",
        "recall = recall_score(y_test, y_pred, average='binary')  # Adjust for multi-class if needed\n",
        "f1 = f1_score(y_test, y_pred, average='binary')  # Adjust for multi-class if needed\n",
        "\n",
        "# Output the results\n",
        "print(f'Accuracy: {accuracy:.4f}')\n",
        "print(f'Precision: {precision:.4f}')\n",
        "print(f'Recall: {recall:.4f}')\n",
        "print(f'F1 Score: {f1:.4f}')\n"
      ],
      "metadata": {
        "colab": {
          "base_uri": "https://localhost:8080/"
        },
        "id": "S9WrRfpMzJxM",
        "outputId": "7ccf769d-7bb7-479a-a49b-c1dc91996ebb"
      },
      "execution_count": null,
      "outputs": [
        {
          "output_type": "stream",
          "name": "stdout",
          "text": [
            "Best value of k: 9\n",
            "Accuracy: 0.9053\n",
            "Precision: 0.9012\n",
            "Recall: 0.9037\n",
            "F1 Score: 0.9025\n"
          ]
        }
      ]
    },
    {
      "cell_type": "markdown",
      "source": [
        "# SVM on backward selected features"
      ],
      "metadata": {
        "id": "TszH_srfzo1w"
      }
    },
    {
      "cell_type": "code",
      "source": [
        "# Import necessary libraries\n",
        "from sklearn.svm import SVC\n",
        "from sklearn.model_selection import train_test_split, GridSearchCV\n",
        "from sklearn.metrics import accuracy_score, precision_score, recall_score, f1_score\n",
        "\n",
        "# Assuming you have a DataFrame 'df' with the relevant columns\n",
        "# Replace 'df' with the actual DataFrame name or data loading process\n",
        "# df = pd.read_csv('your_data.csv')\n",
        "\n",
        "# Define the features (X) and target (y)\n",
        "X = df[['lights', 'T1', 'T3', 'T4', 'T7', 'T8', 'T9', 'T_out']]\n",
        "y = df['Appliances']\n",
        "\n",
        "# Split the data into training and test sets\n",
        "X_train, X_test, y_train, y_test = train_test_split(X, y, test_size=0.3, random_state=42)\n",
        "\n",
        "# Initialize the SVM model\n",
        "svm_model = SVC()\n",
        "\n",
        "# Define the parameter grid for GridSearchCV, including 'sigmoid' kernel\n",
        "param_grid = {\n",
        "    'C': [0.1, 1, 10, 100],          # Regularization parameter\n",
        "    'kernel': ['linear', 'rbf', 'poly', 'sigmoid'],  # Kernel types including 'sigmoid'\n",
        "    'gamma': ['scale', 'auto']       # Kernel coefficient for 'rbf', 'poly', and 'sigmoid'\n",
        "}\n",
        "\n",
        "# Set up GridSearchCV\n",
        "grid_search = GridSearchCV(svm_model, param_grid, cv=5, scoring='accuracy')\n",
        "grid_search.fit(X_train, y_train)\n",
        "\n",
        "# Get the best parameters\n",
        "best_params = grid_search.best_params_\n",
        "print(f\"Best Parameters: {best_params}\")\n",
        "\n",
        "# Train the SVM model with the best parameters\n",
        "optimal_svm = SVC(**best_params)\n",
        "optimal_svm.fit(X_train, y_train)\n",
        "\n",
        "# Make predictions on the test set\n",
        "y_pred = optimal_svm.predict(X_test)\n",
        "\n",
        "# Calculate performance metrics\n",
        "accuracy = accuracy_score(y_test, y_pred)\n",
        "precision = precision_score(y_test, y_pred, average='binary')  # Adjust for multi-class if needed\n",
        "recall = recall_score(y_test, y_pred, average='binary')  # Adjust for multi-class if needed\n",
        "f1 = f1_score(y_test, y_pred, average='binary')  # Adjust for multi-class if needed\n",
        "\n",
        "# Output the results\n",
        "print(f'Accuracy: {accuracy:.4f}')\n",
        "print(f'Precision: {precision:.4f}')\n",
        "print(f'Recall: {recall:.4f}')\n",
        "print(f'F1 Score: {f1:.4f}')\n"
      ],
      "metadata": {
        "colab": {
          "base_uri": "https://localhost:8080/"
        },
        "id": "azUx3TbEzayc",
        "outputId": "01553a9a-46b7-4c26-fa94-0c6e63e6db8e"
      },
      "execution_count": null,
      "outputs": [
        {
          "output_type": "stream",
          "name": "stdout",
          "text": [
            "Best Parameters: {'C': 1, 'gamma': 'auto', 'kernel': 'rbf'}\n",
            "Accuracy: 0.9147\n",
            "Precision: 0.9108\n",
            "Recall: 0.9133\n",
            "F1 Score: 0.9121\n"
          ]
        }
      ]
    },
    {
      "cell_type": "markdown",
      "source": [
        "# Logistic regression on features selected by PSO"
      ],
      "metadata": {
        "id": "6pBzpEaCz0Uf"
      }
    },
    {
      "cell_type": "code",
      "source": [
        "# Import necessary libraries\n",
        "from sklearn.linear_model import LogisticRegression\n",
        "from sklearn.model_selection import train_test_split, GridSearchCV\n",
        "from sklearn.metrics import accuracy_score, precision_score, recall_score, f1_score\n",
        "\n",
        "# Assuming you have a DataFrame 'df' with the relevant columns\n",
        "# Replace 'df' with the actual DataFrame name or data loading process\n",
        "# df = pd.read_csv('your_data.csv')\n",
        "\n",
        "# Define the features (X) and target (y)\n",
        "X = df[['lights', 'T1', 'T2', 'T3', 'T4', 'T5', 'T7', 'T8']]\n",
        "y = df['Appliances']\n",
        "\n",
        "# Split the data into training and test sets\n",
        "X_train, X_test, y_train, y_test = train_test_split(X, y, test_size=0.3, random_state=42)\n",
        "\n",
        "# Initialize the Logistic Regression model\n",
        "logreg_model = LogisticRegression(solver='liblinear', max_iter=1000)\n",
        "\n",
        "# Define the parameter grid for GridSearchCV\n",
        "param_grid = {\n",
        "    'C': [0.01, 0.1, 1, 10, 100],       # Regularization strength\n",
        "    'penalty': ['l1', 'l2']             # L1 (Lasso) and L2 (Ridge) penalties\n",
        "}\n",
        "\n",
        "# Set up GridSearchCV with cross-validation\n",
        "grid_search = GridSearchCV(logreg_model, param_grid, cv=5, scoring='accuracy')\n",
        "grid_search.fit(X_train, y_train)\n",
        "\n",
        "# Get the best parameters\n",
        "best_params = grid_search.best_params_\n",
        "print(f\"Best Parameters: {best_params}\")\n",
        "\n",
        "# Train the Logistic Regression model with the best parameters\n",
        "optimal_logreg = LogisticRegression(**best_params, solver='liblinear', max_iter=1000)\n",
        "optimal_logreg.fit(X_train, y_train)\n",
        "\n",
        "# Make predictions on the test set\n",
        "y_pred = optimal_logreg.predict(X_test)\n",
        "\n",
        "# Calculate performance metrics\n",
        "accuracy = accuracy_score(y_test, y_pred)\n",
        "precision = precision_score(y_test, y_pred, average='binary')  # Adjust for multi-class if needed\n",
        "recall = recall_score(y_test, y_pred, average='binary')        # Adjust for multi-class if needed\n",
        "f1 = f1_score(y_test, y_pred, average='binary')                # Adjust for multi-class if needed\n",
        "\n",
        "# Output the results\n",
        "print(f'Accuracy: {accuracy:.4f}')\n",
        "print(f'Precision: {precision:.4f}')\n",
        "print(f'Recall: {recall:.4f}')\n",
        "print(f'F1 Score: {f1:.4f}')\n"
      ],
      "metadata": {
        "colab": {
          "base_uri": "https://localhost:8080/"
        },
        "id": "Bp7B2WiwzzV3",
        "outputId": "8aacc5be-a465-41d4-fe80-7a8ae4125fca"
      },
      "execution_count": null,
      "outputs": [
        {
          "output_type": "stream",
          "name": "stdout",
          "text": [
            "Best Parameters: {'C': 1, 'penalty': 'l1'}\n",
            "Accuracy: 0.9140\n",
            "Precision: 0.9130\n",
            "Recall: 0.9092\n",
            "F1 Score: 0.9111\n"
          ]
        }
      ]
    },
    {
      "cell_type": "markdown",
      "source": [
        "# Naive bayes classifier on PSO selected features"
      ],
      "metadata": {
        "id": "6tK7FWW_07f9"
      }
    },
    {
      "cell_type": "code",
      "source": [
        "# Import necessary libraries\n",
        "from sklearn.naive_bayes import GaussianNB\n",
        "from sklearn.metrics import accuracy_score, precision_score, recall_score, f1_score\n",
        "from sklearn.model_selection import train_test_split\n",
        "\n",
        "# Assuming you have a DataFrame 'df' with the relevant columns\n",
        "# Replace 'df' with the actual DataFrame name or data loading process\n",
        "# df = pd.read_csv('your_data.csv')\n",
        "\n",
        "# Define the features (X) and target (y)\n",
        "X = df[['lights', 'T1', 'T2', 'T3', 'T4', 'T5', 'T7', 'T8']]\n",
        "y = df['Appliances']\n",
        "\n",
        "# Split the data into training and test sets\n",
        "X_train, X_test, y_train, y_test = train_test_split(X, y, test_size=0.3, random_state=42)\n",
        "\n",
        "# Initialize the Naive Bayes classifier\n",
        "nb_model = GaussianNB()\n",
        "\n",
        "# Fit the model to the training data\n",
        "nb_model.fit(X_train, y_train)\n",
        "\n",
        "# Make predictions on the test set\n",
        "y_pred = nb_model.predict(X_test)\n",
        "\n",
        "# Calculate accuracy, precision, recall, and F1 score\n",
        "accuracy = accuracy_score(y_test, y_pred)\n",
        "precision = precision_score(y_test, y_pred, average='binary')  # Adjust for multi-class if needed\n",
        "recall = recall_score(y_test, y_pred, average='binary')  # Adjust for multi-class if needed\n",
        "f1 = f1_score(y_test, y_pred, average='binary')  # Adjust for multi-class if needed\n",
        "\n",
        "# Output the results\n",
        "print(f'Accuracy: {accuracy:.4f}')\n",
        "print(f'Precision: {precision:.4f}')\n",
        "print(f'Recall: {recall:.4f}')\n",
        "print(f'F1 Score: {f1:.4f}')\n"
      ],
      "metadata": {
        "colab": {
          "base_uri": "https://localhost:8080/"
        },
        "id": "gKgBm8oY0uso",
        "outputId": "25940439-247b-4002-e302-601cb2107de4"
      },
      "execution_count": null,
      "outputs": [
        {
          "output_type": "stream",
          "name": "stdout",
          "text": [
            "Accuracy: 0.9093\n",
            "Precision: 0.9065\n",
            "Recall: 0.9065\n",
            "F1 Score: 0.9065\n"
          ]
        }
      ]
    },
    {
      "cell_type": "markdown",
      "source": [
        "# KNN on PSO selected features"
      ],
      "metadata": {
        "id": "gYveDiFG1Beb"
      }
    },
    {
      "cell_type": "code",
      "source": [
        "# Import necessary libraries\n",
        "from sklearn.neighbors import KNeighborsClassifier\n",
        "from sklearn.model_selection import train_test_split, GridSearchCV\n",
        "from sklearn.metrics import accuracy_score, precision_score, recall_score, f1_score\n",
        "\n",
        "# Assuming you have a DataFrame 'df' with the relevant columns\n",
        "# Replace 'df' with the actual DataFrame name or data loading process\n",
        "# df = pd.read_csv('your_data.csv')\n",
        "\n",
        "# Define the features (X) and target (y)\n",
        "X = df[['lights', 'T1', 'T2', 'T3', 'T4', 'T5', 'T7', 'T8']]\n",
        "y = df['Appliances']\n",
        "\n",
        "# Split the data into training and test sets\n",
        "X_train, X_test, y_train, y_test = train_test_split(X, y, test_size=0.3, random_state=42)\n",
        "\n",
        "# Define the KNN model\n",
        "knn_model = KNeighborsClassifier()\n",
        "\n",
        "# Set up GridSearchCV to find the best value of k (neighbors)\n",
        "param_grid = {'n_neighbors': list(range(1, 10))}  # Testing k values from 1 to 20\n",
        "\n",
        "# Perform GridSearchCV with cross-validation\n",
        "grid_search = GridSearchCV(knn_model, param_grid, cv=5, scoring='accuracy')\n",
        "grid_search.fit(X_train, y_train)\n",
        "\n",
        "# Get the best k value\n",
        "best_k = grid_search.best_params_['n_neighbors']\n",
        "print(f\"Best value of k: {best_k}\")\n",
        "\n",
        "# Train the KNN model with the best k value\n",
        "optimal_knn = KNeighborsClassifier(n_neighbors=best_k)\n",
        "optimal_knn.fit(X_train, y_train)\n",
        "\n",
        "# Make predictions on the test set\n",
        "y_pred = optimal_knn.predict(X_test)\n",
        "\n",
        "# Calculate performance metrics\n",
        "accuracy = accuracy_score(y_test, y_pred)\n",
        "precision = precision_score(y_test, y_pred, average='binary')  # Adjust for multi-class if needed\n",
        "recall = recall_score(y_test, y_pred, average='binary')  # Adjust for multi-class if needed\n",
        "f1 = f1_score(y_test, y_pred, average='binary')  # Adjust for multi-class if needed\n",
        "\n",
        "# Output the results\n",
        "print(f'Accuracy: {accuracy:.4f}')\n",
        "print(f'Precision: {precision:.4f}')\n",
        "print(f'Recall: {recall:.4f}')\n",
        "print(f'F1 Score: {f1:.4f}')\n"
      ],
      "metadata": {
        "colab": {
          "base_uri": "https://localhost:8080/"
        },
        "id": "QZlBcifJ1A7f",
        "outputId": "ce306268-395c-4357-e722-882e8d8b62e4"
      },
      "execution_count": null,
      "outputs": [
        {
          "output_type": "stream",
          "name": "stdout",
          "text": [
            "Best value of k: 5\n",
            "Accuracy: 0.8940\n",
            "Precision: 0.8890\n",
            "Recall: 0.8927\n",
            "F1 Score: 0.8909\n"
          ]
        }
      ]
    },
    {
      "cell_type": "markdown",
      "source": [
        "# SVM on selected features by PSO"
      ],
      "metadata": {
        "id": "14U5_3xm1PRG"
      }
    },
    {
      "cell_type": "code",
      "source": [
        "# Import necessary libraries\n",
        "from sklearn.svm import SVC\n",
        "from sklearn.model_selection import train_test_split, GridSearchCV\n",
        "from sklearn.metrics import accuracy_score, precision_score, recall_score, f1_score\n",
        "\n",
        "# Assuming you have a DataFrame 'df' with the relevant columns\n",
        "# Replace 'df' with the actual DataFrame name or data loading process\n",
        "# df = pd.read_csv('your_data.csv')\n",
        "\n",
        "# Define the features (X) and target (y)\n",
        "X = df[['lights', 'T1', 'T2', 'T3', 'T4', 'T5', 'T7', 'T8']]\n",
        "y = df['Appliances']\n",
        "\n",
        "# Split the data into training and test sets\n",
        "X_train, X_test, y_train, y_test = train_test_split(X, y, test_size=0.3, random_state=42)\n",
        "\n",
        "# Initialize the SVM model\n",
        "svm_model = SVC()\n",
        "\n",
        "# Define the parameter grid for GridSearchCV, including 'sigmoid' kernel\n",
        "param_grid = {\n",
        "    'C': [0.1, 1, 10, 100],          # Regularization parameter\n",
        "    'kernel': ['linear', 'rbf', 'poly', 'sigmoid'],  # Kernel types including 'sigmoid'\n",
        "    'gamma': ['scale', 'auto']       # Kernel coefficient for 'rbf', 'poly', and 'sigmoid'\n",
        "}\n",
        "\n",
        "# Set up GridSearchCV\n",
        "grid_search = GridSearchCV(svm_model, param_grid, cv=5, scoring='accuracy')\n",
        "grid_search.fit(X_train, y_train)\n",
        "\n",
        "# Get the best parameters\n",
        "best_params = grid_search.best_params_\n",
        "print(f\"Best Parameters: {best_params}\")\n",
        "\n",
        "# Train the SVM model with the best parameters\n",
        "optimal_svm = SVC(**best_params)\n",
        "optimal_svm.fit(X_train, y_train)\n",
        "\n",
        "# Make predictions on the test set\n",
        "y_pred = optimal_svm.predict(X_test)\n",
        "\n",
        "# Calculate performance metrics\n",
        "accuracy = accuracy_score(y_test, y_pred)\n",
        "precision = precision_score(y_test, y_pred, average='binary')  # Adjust for multi-class if needed\n",
        "recall = recall_score(y_test, y_pred, average='binary')  # Adjust for multi-class if needed\n",
        "f1 = f1_score(y_test, y_pred, average='binary')  # Adjust for multi-class if needed\n",
        "\n",
        "# Output the results\n",
        "print(f'Accuracy: {accuracy:.4f}')\n",
        "print(f'Precision: {precision:.4f}')\n",
        "print(f'Recall: {recall:.4f}')\n",
        "print(f'F1 Score: {f1:.4f}')\n"
      ],
      "metadata": {
        "colab": {
          "base_uri": "https://localhost:8080/"
        },
        "id": "7qy1mz001OWV",
        "outputId": "8c075aad-bf00-40cc-9c0b-a7a7214e7965"
      },
      "execution_count": null,
      "outputs": [
        {
          "output_type": "stream",
          "name": "stdout",
          "text": [
            "Best Parameters: {'C': 1, 'gamma': 'auto', 'kernel': 'sigmoid'}\n",
            "Accuracy: 0.9067\n",
            "Precision: 0.9048\n",
            "Recall: 0.9023\n",
            "F1 Score: 0.9036\n"
          ]
        }
      ]
    },
    {
      "cell_type": "markdown",
      "source": [
        "# Logistic regression on features selected by Genetic algorithm"
      ],
      "metadata": {
        "id": "DiU9iKTp1nSq"
      }
    },
    {
      "cell_type": "code",
      "source": [
        "# Import necessary libraries\n",
        "from sklearn.linear_model import LogisticRegression\n",
        "from sklearn.model_selection import train_test_split, GridSearchCV\n",
        "from sklearn.metrics import accuracy_score, precision_score, recall_score, f1_score\n",
        "\n",
        "# Assuming you have a DataFrame 'df' with the relevant columns\n",
        "# Replace 'df' with the actual DataFrame name or data loading process\n",
        "# df = pd.read_csv('your_data.csv')\n",
        "\n",
        "# Define the features (X) and target (y)\n",
        "X = df[['lights', 'T1', 'T3', 'T7', 'T8']]\n",
        "y = df['Appliances']\n",
        "\n",
        "# Split the data into training and test sets\n",
        "X_train, X_test, y_train, y_test = train_test_split(X, y, test_size=0.3, random_state=42)\n",
        "\n",
        "# Initialize the Logistic Regression model\n",
        "logreg_model = LogisticRegression(solver='liblinear', max_iter=1000)\n",
        "\n",
        "# Define the parameter grid for GridSearchCV\n",
        "param_grid = {\n",
        "    'C': [0.01, 0.1, 1, 10, 100],       # Regularization strength\n",
        "    'penalty': ['l1', 'l2']             # L1 (Lasso) and L2 (Ridge) penalties\n",
        "}\n",
        "\n",
        "# Set up GridSearchCV with cross-validation\n",
        "grid_search = GridSearchCV(logreg_model, param_grid, cv=5, scoring='accuracy')\n",
        "grid_search.fit(X_train, y_train)\n",
        "\n",
        "# Get the best parameters\n",
        "best_params = grid_search.best_params_\n",
        "print(f\"Best Parameters: {best_params}\")\n",
        "\n",
        "# Train the Logistic Regression model with the best parameters\n",
        "optimal_logreg = LogisticRegression(**best_params, solver='liblinear', max_iter=1000)\n",
        "optimal_logreg.fit(X_train, y_train)\n",
        "\n",
        "# Make predictions on the test set\n",
        "y_pred = optimal_logreg.predict(X_test)\n",
        "\n",
        "# Calculate performance metrics\n",
        "accuracy = accuracy_score(y_test, y_pred)\n",
        "precision = precision_score(y_test, y_pred, average='binary')  # Adjust for multi-class if needed\n",
        "recall = recall_score(y_test, y_pred, average='binary')        # Adjust for multi-class if needed\n",
        "f1 = f1_score(y_test, y_pred, average='binary')                # Adjust for multi-class if needed\n",
        "\n",
        "# Output the results\n",
        "print(f'Accuracy: {accuracy:.4f}')\n",
        "print(f'Precision: {precision:.4f}')\n",
        "print(f'Recall: {recall:.4f}')\n",
        "print(f'F1 Score: {f1:.4f}')\n",
        "\n"
      ],
      "metadata": {
        "colab": {
          "base_uri": "https://localhost:8080/"
        },
        "id": "rviNTRwA1mqG",
        "outputId": "d4119681-8cbd-425a-f88b-465d51fe237c"
      },
      "execution_count": null,
      "outputs": [
        {
          "output_type": "stream",
          "name": "stdout",
          "text": [
            "Best Parameters: {'C': 100, 'penalty': 'l1'}\n",
            "Accuracy: 0.9153\n",
            "Precision: 0.9144\n",
            "Recall: 0.9106\n",
            "F1 Score: 0.9125\n"
          ]
        }
      ]
    },
    {
      "cell_type": "markdown",
      "source": [
        "# Naive bayes classifier on features selected by Genetic algorithm"
      ],
      "metadata": {
        "id": "xgmrur0A2vcK"
      }
    },
    {
      "cell_type": "code",
      "source": [
        "# Import necessary libraries\n",
        "from sklearn.naive_bayes import GaussianNB\n",
        "from sklearn.metrics import accuracy_score, precision_score, recall_score, f1_score\n",
        "from sklearn.model_selection import train_test_split\n",
        "\n",
        "# Assuming you have a DataFrame 'df' with the relevant columns\n",
        "# Replace 'df' with the actual DataFrame name or data loading process\n",
        "# df = pd.read_csv('your_data.csv')\n",
        "\n",
        "# Define the features (X) and target (y)\n",
        "X = df[['lights', 'T1', 'T3', 'T7', 'T8']]\n",
        "y = df['Appliances']\n",
        "\n",
        "# Split the data into training and test sets\n",
        "X_train, X_test, y_train, y_test = train_test_split(X, y, test_size=0.3, random_state=42)\n",
        "\n",
        "# Initialize the Naive Bayes classifier\n",
        "nb_model = GaussianNB()\n",
        "\n",
        "# Fit the model to the training data\n",
        "nb_model.fit(X_train, y_train)\n",
        "\n",
        "# Make predictions on the test set\n",
        "y_pred = nb_model.predict(X_test)\n",
        "\n",
        "# Calculate accuracy, precision, recall, and F1 score\n",
        "accuracy = accuracy_score(y_test, y_pred)\n",
        "precision = precision_score(y_test, y_pred, average='binary')  # Adjust for multi-class if needed\n",
        "recall = recall_score(y_test, y_pred, average='binary')  # Adjust for multi-class if needed\n",
        "f1 = f1_score(y_test, y_pred, average='binary')  # Adjust for multi-class if needed\n",
        "\n",
        "# Output the results\n",
        "print(f'Accuracy: {accuracy:.4f}')\n",
        "print(f'Precision: {precision:.4f}')\n",
        "print(f'Recall: {recall:.4f}')\n",
        "print(f'F1 Score: {f1:.4f}')\n"
      ],
      "metadata": {
        "colab": {
          "base_uri": "https://localhost:8080/"
        },
        "id": "zHehIN-Y2u1s",
        "outputId": "8fb6f4c6-c497-408e-b61e-7f5587965de3"
      },
      "execution_count": null,
      "outputs": [
        {
          "output_type": "stream",
          "name": "stdout",
          "text": [
            "Accuracy: 0.9087\n",
            "Precision: 0.9063\n",
            "Recall: 0.9051\n",
            "F1 Score: 0.9057\n"
          ]
        }
      ]
    },
    {
      "cell_type": "markdown",
      "source": [
        "# KNN on features selected by GA"
      ],
      "metadata": {
        "id": "cJFl3fUv3B4q"
      }
    },
    {
      "cell_type": "code",
      "source": [
        "# Import necessary libraries\n",
        "from sklearn.neighbors import KNeighborsClassifier\n",
        "from sklearn.model_selection import train_test_split, GridSearchCV\n",
        "from sklearn.metrics import accuracy_score, precision_score, recall_score, f1_score\n",
        "\n",
        "# Assuming you have a DataFrame 'df' with the relevant columns\n",
        "# Replace 'df' with the actual DataFrame name or data loading process\n",
        "# df = pd.read_csv('your_data.csv')\n",
        "\n",
        "# Define the features (X) and target (y)\n",
        "X = df[['lights', 'T1', 'T3', 'T7', 'T8']]\n",
        "y = df['Appliances']\n",
        "\n",
        "# Split the data into training and test sets\n",
        "X_train, X_test, y_train, y_test = train_test_split(X, y, test_size=0.3, random_state=42)\n",
        "\n",
        "# Define the KNN model\n",
        "knn_model = KNeighborsClassifier()\n",
        "\n",
        "# Set up GridSearchCV to find the best value of k (neighbors)\n",
        "param_grid = {'n_neighbors': list(range(1, 10))}  # Testing k values from 1 to 20\n",
        "\n",
        "# Perform GridSearchCV with cross-validation\n",
        "grid_search = GridSearchCV(knn_model, param_grid, cv=5, scoring='accuracy')\n",
        "grid_search.fit(X_train, y_train)\n",
        "\n",
        "# Get the best k value\n",
        "best_k = grid_search.best_params_['n_neighbors']\n",
        "print(f\"Best value of k: {best_k}\")\n",
        "\n",
        "# Train the KNN model with the best k value\n",
        "optimal_knn = KNeighborsClassifier(n_neighbors=best_k)\n",
        "optimal_knn.fit(X_train, y_train)\n",
        "\n",
        "# Make predictions on the test set\n",
        "y_pred = optimal_knn.predict(X_test)\n",
        "\n",
        "# Calculate performance metrics\n",
        "accuracy = accuracy_score(y_test, y_pred)\n",
        "precision = precision_score(y_test, y_pred, average='binary')  # Adjust for multi-class if needed\n",
        "recall = recall_score(y_test, y_pred, average='binary')  # Adjust for multi-class if needed\n",
        "f1 = f1_score(y_test, y_pred, average='binary')  # Adjust for multi-class if needed\n",
        "\n",
        "# Output the results\n",
        "print(f'Accuracy: {accuracy:.4f}')\n",
        "print(f'Precision: {precision:.4f}')\n",
        "print(f'Recall: {recall:.4f}')\n",
        "print(f'F1 Score: {f1:.4f}')\n",
        "\n"
      ],
      "metadata": {
        "colab": {
          "base_uri": "https://localhost:8080/"
        },
        "id": "Jl4NfQXi3BWq",
        "outputId": "9619cfeb-ef46-404c-ca8f-fc7d0ae7d2c2"
      },
      "execution_count": null,
      "outputs": [
        {
          "output_type": "stream",
          "name": "stdout",
          "text": [
            "Best value of k: 9\n",
            "Accuracy: 0.8987\n",
            "Precision: 0.8976\n",
            "Recall: 0.8927\n",
            "F1 Score: 0.8952\n"
          ]
        }
      ]
    },
    {
      "cell_type": "markdown",
      "source": [
        "# Svm on features selected by GA"
      ],
      "metadata": {
        "id": "Th7D_Zwy3Vg6"
      }
    },
    {
      "cell_type": "code",
      "source": [
        "# Import necessary libraries\n",
        "from sklearn.svm import SVC\n",
        "from sklearn.model_selection import train_test_split, GridSearchCV\n",
        "from sklearn.metrics import accuracy_score, precision_score, recall_score, f1_score\n",
        "\n",
        "# Assuming you have a DataFrame 'df' with the relevant columns\n",
        "# Replace 'df' with the actual DataFrame name or data loading process\n",
        "# df = pd.read_csv('your_data.csv')\n",
        "\n",
        "# Define the features (X) and target (y)\n",
        "X = df[['lights', 'T1', 'T3', 'T7', 'T8']]\n",
        "y = df['Appliances']\n",
        "\n",
        "# Split the data into training and test sets\n",
        "X_train, X_test, y_train, y_test = train_test_split(X, y, test_size=0.3, random_state=42)\n",
        "\n",
        "# Initialize the SVM model\n",
        "svm_model = SVC()\n",
        "\n",
        "# Define the parameter grid for GridSearchCV, including 'sigmoid' kernel\n",
        "param_grid = {\n",
        "    'C': [0.1, 1, 10, 100],          # Regularization parameter\n",
        "    'kernel': ['linear', 'rbf', 'poly', 'sigmoid'],  # Kernel types including 'sigmoid'\n",
        "    'gamma': ['scale', 'auto']       # Kernel coefficient for 'rbf', 'poly', and 'sigmoid'\n",
        "}\n",
        "\n",
        "# Set up GridSearchCV\n",
        "grid_search = GridSearchCV(svm_model, param_grid, cv=5, scoring='accuracy')\n",
        "grid_search.fit(X_train, y_train)\n",
        "\n",
        "# Get the best parameters\n",
        "best_params = grid_search.best_params_\n",
        "print(f\"Best Parameters: {best_params}\")\n",
        "\n",
        "# Train the SVM model with the best parameters\n",
        "optimal_svm = SVC(**best_params)\n",
        "optimal_svm.fit(X_train, y_train)\n",
        "\n",
        "# Make predictions on the test set\n",
        "y_pred = optimal_svm.predict(X_test)\n",
        "\n",
        "# Calculate performance metrics\n",
        "accuracy = accuracy_score(y_test, y_pred)\n",
        "precision = precision_score(y_test, y_pred, average='binary')  # Adjust for multi-class if needed\n",
        "recall = recall_score(y_test, y_pred, average='binary')  # Adjust for multi-class if needed\n",
        "f1 = f1_score(y_test, y_pred, average='binary')  # Adjust for multi-class if needed\n",
        "\n",
        "# Output the results\n",
        "print(f'Accuracy: {accuracy:.4f}')\n",
        "print(f'Precision: {precision:.4f}')\n",
        "print(f'Recall: {recall:.4f}')\n",
        "print(f'F1 Score: {f1:.4f}')\n"
      ],
      "metadata": {
        "colab": {
          "base_uri": "https://localhost:8080/"
        },
        "id": "6iYGnob43OXA",
        "outputId": "78ceaa18-5197-4586-9283-9987e7b4840c"
      },
      "execution_count": null,
      "outputs": [
        {
          "output_type": "stream",
          "name": "stdout",
          "text": [
            "Best Parameters: {'C': 0.1, 'gamma': 'scale', 'kernel': 'linear'}\n",
            "Accuracy: 0.9093\n",
            "Precision: 0.9076\n",
            "Recall: 0.9051\n",
            "F1 Score: 0.9063\n"
          ]
        }
      ]
    },
    {
      "cell_type": "code",
      "source": [
        "import numpy as np\n",
        "import matplotlib.pyplot as plt\n",
        "\n",
        "# Classification models\n",
        "models = ['Naive Bayes', 'LRM', 'KNN', 'SVM']\n",
        "\n",
        "# Feature selection methods with full names\n",
        "methods = ['Forward Selection', 'Backward Elimination', 'Genetic Algorithm', 'Particle Swarm Optimization']\n",
        "\n",
        "# Accuracy values provided\n",
        "accuracies = np.array([\n",
        "    [0.9013, 0.9060, 0.9087, 0.9093],  # Naive Bayes\n",
        "    [0.9127, 0.9133, 0.9153, 0.9140],  # LRM\n",
        "    [0.9013, 0.9053, 0.8987, 0.8940],  # KNN\n",
        "    [0.9113, 0.9147, 0.9093, 0.9067],  # SVM\n",
        "])\n",
        "\n",
        "# Color palette\n",
        "colors = ['#5AD4E6', '#F392B2', '#F9C349', '#A59BEF']\n",
        "\n",
        "# Plot configuration\n",
        "x = np.arange(len(models))  # Number of models\n",
        "width = 0.2  # Width of bars\n",
        "\n",
        "fig, ax = plt.subplots(figsize=(9, 5))  # Adjusted figure size\n",
        "\n",
        "# Create bars for each method\n",
        "for i, (method, color) in enumerate(zip(methods, colors)):\n",
        "    ax.bar(x + i * width, accuracies[:, i], width, label=method, color=color)\n",
        "\n",
        "# Labeling and aesthetics\n",
        "ax.set_xlabel('Classification Models', fontsize=12)\n",
        "ax.set_ylabel('Accuracy', fontsize=12)\n",
        "ax.set_title('Classification Model Accuracies by Feature Selection Method', fontsize=14)\n",
        "ax.set_xticks(x + width * 1.5)\n",
        "ax.set_xticklabels(models, fontsize=10, rotation=45)\n",
        "ax.grid(axis='y', linestyle='--', alpha=0.7)\n",
        "\n",
        "# Reposition legend outside the plot to the right\n",
        "ax.legend(title='Feature Selection Methods', fontsize=10, loc='upper left', bbox_to_anchor=(1.05, 1), ncol=1)\n",
        "\n",
        "plt.tight_layout()\n",
        "plt.show()\n"
      ],
      "metadata": {
        "colab": {
          "base_uri": "https://localhost:8080/",
          "height": 507
        },
        "id": "nzpKcJ0LT9IX",
        "outputId": "40023126-2b6a-4608-c408-c13f7937771e"
      },
      "execution_count": 5,
      "outputs": [
        {
          "output_type": "display_data",
          "data": {
            "text/plain": [
              "<Figure size 900x500 with 1 Axes>"
            ],
            "image/png": "[encoded data removed]"
          },
          "metadata": {}
        }
      ]
    }
  ]
}