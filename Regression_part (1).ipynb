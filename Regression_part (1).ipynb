{
  "nbformat": 4,
  "nbformat_minor": 0,
  "metadata": {
    "colab": {
      "provenance": []
    },
    "kernelspec": {
      "name": "python3",
      "display_name": "Python 3"
    },
    "language_info": {
      "name": "python"
    }
  },
  "cells": [
    {
      "cell_type": "markdown",
      "source": [
        "## Reading csv"
      ],
      "metadata": {
        "id": "gZrE6LRYEOMQ"
      }
    },
    {
      "cell_type": "code",
      "execution_count": null,
      "metadata": {
        "colab": {
          "base_uri": "https://localhost:8080/"
        },
        "id": "8Z1YT2IN-BiN",
        "outputId": "62bcc5a9-82ce-4615-f148-cc5578532727"
      },
      "outputs": [
        {
          "output_type": "stream",
          "name": "stdout",
          "text": [
            "              datetime  Appliances     lights         T1       RH_1  \\\n",
            "0  2020-11-20 06:36:00    9.224074  11.780934  21.353076  28.785449   \n",
            "1  2020-03-13 20:22:00   39.255901  60.716264  35.487458  41.356428   \n",
            "2  2022-03-12 01:56:00   35.940710  65.406471  47.017619  63.418386   \n",
            "3  2021-12-14 07:10:00   41.084820  86.065163  23.978005  23.393887   \n",
            "4  2021-10-12 03:33:00   16.906166  10.180642  36.304494  66.095897   \n",
            "\n",
            "          T2       RH_2         T3       RH_3         T4  ...        T9  \\\n",
            "0   6.129020  27.960747  15.348167  28.330292   4.154281  ...  5.923630   \n",
            "1  15.903235  20.507539  27.672137  22.920486  12.124937  ...  6.061692   \n",
            "2  13.095685  54.531559  34.191016  61.558161   7.795195  ...  6.447738   \n",
            "3   9.435890  26.694852  16.212792  17.039071   4.614822  ...  5.286256   \n",
            "4   2.251706  51.922185  27.846892  66.290309   0.794317  ...  1.668838   \n",
            "\n",
            "        RH_9      T_out    Pressure     RH_out  Windspeed  Visibility  \\\n",
            "0  28.311018  11.236204  709.237084  39.363552   7.472816   49.967024   \n",
            "1  27.481087  28.521429  706.075373  47.343566   6.658242   74.674677   \n",
            "2  38.750060  21.959818  760.419195  85.454739   3.523078   56.266678   \n",
            "3   1.012943  17.959755  796.611632  34.000439  12.145333    8.330258   \n",
            "4  39.741581   4.680559  750.272131  86.964968   9.532483   18.558024   \n",
            "\n",
            "   Tdewpoint       rv1       rv2  \n",
            "0  21.899949  0.638145  0.609393  \n",
            "1   5.535360  0.459292  0.038903  \n",
            "2  10.399191  0.964499  0.612260  \n",
            "3  19.898419  0.218978  0.089669  \n",
            "4  14.462680  0.587856  0.710344  \n",
            "\n",
            "[5 rows x 29 columns]\n"
          ]
        }
      ],
      "source": [
        "import pandas as pd\n",
        "try:\n",
        "  df = pd.read_csv('home_energy_data.csv')\n",
        "  print(df.head()) # Display the first few rows to verify\n",
        "except FileNotFoundError:\n",
        "  print(\"Error: 'home_energy_data.csv' not found. Please ensure the file exists in the current directory or provide the correct path.\")\n",
        "except pd.errors.EmptyDataError:\n",
        "  print(\"Error: 'home_energy_data.csv' is empty.\")\n",
        "except pd.errors.ParserError:\n",
        "  print(\"Error: Could not parse 'home_energy_data.csv'. Please check the file format.\")\n",
        "except Exception as e:\n",
        "  print(f\"An unexpected error occurred: {e}\")\n"
      ]
    },
    {
      "cell_type": "markdown",
      "source": [
        "## Checking missing values"
      ],
      "metadata": {
        "id": "AIIXRTVPER0w"
      }
    },
    {
      "cell_type": "code",
      "source": [
        "print(df.isnull().sum())"
      ],
      "metadata": {
        "colab": {
          "base_uri": "https://localhost:8080/"
        },
        "id": "FhqoJpNV-Pqx",
        "outputId": "70db99c4-035f-4c9b-e60d-dc64b2834dcd"
      },
      "execution_count": null,
      "outputs": [
        {
          "output_type": "stream",
          "name": "stdout",
          "text": [
            "datetime      0\n",
            "Appliances    0\n",
            "lights        0\n",
            "T1            0\n",
            "RH_1          0\n",
            "T2            0\n",
            "RH_2          0\n",
            "T3            0\n",
            "RH_3          0\n",
            "T4            0\n",
            "RH_4          0\n",
            "T5            0\n",
            "RH_5          0\n",
            "T6            0\n",
            "RH_6          0\n",
            "T7            0\n",
            "RH_7          0\n",
            "T8            0\n",
            "RH_8          0\n",
            "T9            0\n",
            "RH_9          0\n",
            "T_out         0\n",
            "Pressure      0\n",
            "RH_out        0\n",
            "Windspeed     0\n",
            "Visibility    0\n",
            "Tdewpoint     0\n",
            "rv1           0\n",
            "rv2           0\n",
            "dtype: int64\n"
          ]
        }
      ]
    },
    {
      "cell_type": "markdown",
      "source": [
        "## Detecting outliers"
      ],
      "metadata": {
        "id": "myzM3HyzEXsT"
      }
    },
    {
      "cell_type": "code",
      "source": [
        "\n",
        "def detect_outliers_iqr(data):\n",
        "    q1 = data.quantile(0.25)\n",
        "    q3 = data.quantile(0.75)\n",
        "    iqr = q3 - q1\n",
        "    lower_bound = q1 - 1.5 * iqr\n",
        "    upper_bound = q3 + 1.5 * iqr\n",
        "    outliers = data[(data < lower_bound) | (data > upper_bound)]\n",
        "    return outliers\n",
        "\n",
        "outlier_counts = {}\n",
        "for column in df.select_dtypes(include=['number']): # Check only numerical columns\n",
        "    outliers = detect_outliers_iqr(df[column])\n",
        "    if not outliers.empty:\n",
        "        outlier_counts[column] = len(outliers)\n",
        "\n",
        "if outlier_counts:\n",
        "    print(\"Outliers detected in the following columns:\")\n",
        "    for column, count in outlier_counts.items():\n",
        "        print(f\"{column}: {count} outliers\")\n",
        "else:\n",
        "    print(\"No outliers detected in any numerical column.\")"
      ],
      "metadata": {
        "colab": {
          "base_uri": "https://localhost:8080/"
        },
        "id": "nuS8V-AD-Y8v",
        "outputId": "84dbd762-f664-425a-e484-025ff9c9eb8c"
      },
      "execution_count": null,
      "outputs": [
        {
          "output_type": "stream",
          "name": "stdout",
          "text": [
            "Outliers detected in the following columns:\n",
            "T4: 1 outliers\n",
            "T5: 25 outliers\n",
            "T6: 1 outliers\n",
            "T9: 3 outliers\n"
          ]
        }
      ]
    },
    {
      "cell_type": "markdown",
      "source": [
        "## Dropping datetime, rv1 and rv2"
      ],
      "metadata": {
        "id": "HLvONDnvEbmI"
      }
    },
    {
      "cell_type": "code",
      "source": [
        "columns_to_drop = ['datetime', 'rv1', 'rv2']\n",
        "for column in columns_to_drop:\n",
        "    if column in df.columns:\n",
        "        df = df.drop(column, axis=1)\n",
        "    else:\n",
        "        print(f\"Warning: Column '{column}' not found in the DataFrame.\")"
      ],
      "metadata": {
        "id": "YxRV_6Ln-kL7"
      },
      "execution_count": null,
      "outputs": []
    },
    {
      "cell_type": "markdown",
      "source": [
        "## Normalizing the data"
      ],
      "metadata": {
        "id": "LH2ui-E1Ef_k"
      }
    },
    {
      "cell_type": "code",
      "source": [
        "from sklearn.preprocessing import MinMaxScaler\n",
        "scaler = MinMaxScaler()\n",
        "numerical_cols = df.select_dtypes(include=['number']).columns\n",
        "df[numerical_cols] = scaler.fit_transform(df[numerical_cols])\n",
        "print(df.head())"
      ],
      "metadata": {
        "colab": {
          "base_uri": "https://localhost:8080/"
        },
        "id": "oF74GxEH-yAr",
        "outputId": "f35a4122-f326-418b-8110-ab830c385c63"
      },
      "execution_count": null,
      "outputs": [
        {
          "output_type": "stream",
          "name": "stdout",
          "text": [
            "   Appliances    lights        T1      RH_1        T2      RH_2        T3  \\\n",
            "0    0.238863  0.117800  0.385667  0.427057  0.415540  0.477257  0.358687   \n",
            "1    0.639465  0.607222  0.615161  0.561159  0.920887  0.392103  0.644814   \n",
            "2    0.595243  0.654131  0.802371  0.796507  0.775731  0.780835  0.796163   \n",
            "3    0.663861  0.860747  0.428286  0.369542  0.586512  0.462794  0.378761   \n",
            "4    0.341337  0.101795  0.628426  0.825070  0.215075  0.751022  0.648871   \n",
            "\n",
            "       RH_3        T4      RH_4  ...        T8      RH_8        T9      RH_9  \\\n",
            "0  0.448773  0.503577  0.268733  ...  0.330525  0.459134  0.554378  0.531894   \n",
            "1  0.389608  0.925015  0.330983  ...  0.891079  0.544002  0.560436  0.521397   \n",
            "2  0.812170  0.696085  0.612765  ...  0.676248  0.718789  0.577378  0.663927   \n",
            "3  0.325286  0.527927  0.338169  ...  0.639376  0.338192  0.526407  0.186627   \n",
            "4  0.863924  0.325923  0.686715  ...  0.191383  0.659797  0.367659  0.676468   \n",
            "\n",
            "      T_out  Pressure    RH_out  Windspeed  Visibility  Tdewpoint  \n",
            "0  0.374639  0.092296  0.393798   0.373615    0.499581   0.730058  \n",
            "1  0.950982  0.060666  0.473642   0.332872    0.746739   0.184491  \n",
            "2  0.732198  0.604310  0.854963   0.176058    0.562599   0.346643  \n",
            "3  0.598823  0.966372  0.340138   0.607323    0.083077   0.663330  \n",
            "4  0.156053  0.502801  0.870073   0.476634    0.185389   0.482112  \n",
            "\n",
            "[5 rows x 26 columns]\n"
          ]
        }
      ]
    },
    {
      "cell_type": "markdown",
      "source": [
        "## Filter method:Pearson correlation (threshold 0.1)"
      ],
      "metadata": {
        "id": "WLgv0AQVEkWE"
      }
    },
    {
      "cell_type": "code",
      "source": [
        "correlation_with_target = df.corr()['Appliances']\n",
        "selected_features = correlation_with_target[correlation_with_target > 0.1].index.tolist()\n",
        "selected_features.remove('Appliances')\n",
        "print(\"Features with correlation > 0.1 with 'Appliances':\")\n",
        "print(selected_features)"
      ],
      "metadata": {
        "colab": {
          "base_uri": "https://localhost:8080/"
        },
        "id": "m23T0e8s-2pD",
        "outputId": "fc880b40-6cb7-46a4-a5f2-f64217635142"
      },
      "execution_count": null,
      "outputs": [
        {
          "output_type": "stream",
          "name": "stdout",
          "text": [
            "Features with correlation > 0.1 with 'Appliances':\n",
            "['lights', 'T1', 'RH_1', 'T2', 'RH_2', 'T3', 'RH_3', 'T4', 'RH_4', 'T5', 'RH_5', 'T6', 'RH_6', 'T7', 'RH_7', 'T8', 'RH_8', 'T9', 'RH_9', 'T_out', 'RH_out']\n"
          ]
        }
      ]
    },
    {
      "cell_type": "markdown",
      "source": [
        "# Feature selection methods"
      ],
      "metadata": {
        "id": "VO9CZEwIEr4M"
      }
    },
    {
      "cell_type": "markdown",
      "source": [
        "## Forward Selection"
      ],
      "metadata": {
        "id": "nroJzsQWEwTJ"
      }
    },
    {
      "cell_type": "code",
      "source": [
        "X = df[selected_features]\n",
        "y = df['Appliances']\n",
        "X_train, X_test, y_train, y_test = train_test_split(X, y, test_size=0.2, random_state=42)\n",
        "\n",
        "def forward_selection(X_train, X_test, y_train, y_test):\n",
        "    selected_features_forward = []  # To store selected features\n",
        "    remaining_features = list(X_train.columns)  # Features to evaluate\n",
        "    best_r2 = 0  # Best R² value so far\n",
        "\n",
        "    while remaining_features:\n",
        "        r2_scores = {}\n",
        "        for feature in remaining_features:\n",
        "            # Create a temporary feature set including the current feature\n",
        "            temp_features = selected_features_forward + [feature]\n",
        "\n",
        "            # Train a linear regression model\n",
        "            model = LinearRegression()\n",
        "            model.fit(X_train[temp_features], y_train)\n",
        "\n",
        "            # Evaluate on the test set\n",
        "            y_pred = model.predict(X_test[temp_features])\n",
        "            r2_scores[feature] = r2_score(y_test, y_pred)\n",
        "\n",
        "        # Find the feature that gives the highest R²\n",
        "        best_feature = max(r2_scores, key=r2_scores.get)\n",
        "        best_feature_r2 = r2_scores[best_feature]\n",
        "\n",
        "        # If the best R² improves, add the feature\n",
        "        if best_feature_r2 > best_r2:\n",
        "            selected_features_forward.append(best_feature)\n",
        "            remaining_features.remove(best_feature)\n",
        "            best_r2 = best_feature_r2\n",
        "        else:\n",
        "            break  # Stop if no improvement\n",
        "\n",
        "    return selected_features_forward\n",
        "\n",
        "# Apply forward selection\n",
        "final_selected_features_forward = forward_selection(X_train, X_test, y_train, y_test)\n",
        "\n",
        "# Display the results\n",
        "print(\"Final selected features based on forward selection:\")\n",
        "print(final_selected_features_forward)"
      ],
      "metadata": {
        "colab": {
          "base_uri": "https://localhost:8080/"
        },
        "id": "jHEIKcbQAZ0V",
        "outputId": "6298fa44-77d5-4673-9136-0baf1fd098bc"
      },
      "execution_count": null,
      "outputs": [
        {
          "output_type": "stream",
          "name": "stdout",
          "text": [
            "Final selected features based on forward selection:\n",
            "['lights', 'T1', 'T_out', 'RH_9', 'T4', 'T9', 'RH_2', 'T2', 'T8']\n"
          ]
        }
      ]
    },
    {
      "cell_type": "markdown",
      "source": [
        "## Backward Elimination"
      ],
      "metadata": {
        "id": "KxFTw0x3E2hZ"
      }
    },
    {
      "cell_type": "code",
      "source": [
        "import pandas as pd\n",
        "from sklearn.linear_model import LinearRegression\n",
        "from sklearn.model_selection import train_test_split\n",
        "from sklearn.metrics import r2_score\n",
        "\n",
        "# Step 5: Split data into training and testing sets\n",
        "X_train, X_test, y_train, y_test = train_test_split(X, y, test_size=0.2, random_state=42)\n",
        "\n",
        "# Step 6: Perform backward elimination based on R²\n",
        "def backward_elimination(X_train, X_test, y_train, y_test):\n",
        "    selected_features_forward = X_train.columns.tolist()  # Start with all selected features\n",
        "    best_r2 = -float(\"inf\")  # Start with a very low R² value\n",
        "\n",
        "    while len(selected_features_forward) > 0:\n",
        "        r2_scores = {}\n",
        "        for feature in selected_features_forward:\n",
        "            # Create a temporary feature set excluding the current feature\n",
        "            temp_features = [f for f in selected_features_forward if f != feature]\n",
        "\n",
        "            # Train a linear regression model\n",
        "            model = LinearRegression()\n",
        "            model.fit(X_train[temp_features], y_train)\n",
        "\n",
        "            # Evaluate on the test set\n",
        "            y_pred = model.predict(X_test[temp_features])\n",
        "            r2_scores[feature] = r2_score(y_test, y_pred)\n",
        "\n",
        "        # Find the feature that gives the lowest R² when removed\n",
        "        feature_to_remove = min(r2_scores, key=r2_scores.get)\n",
        "        new_r2 = r2_scores[feature_to_remove]\n",
        "\n",
        "        # If the R² decreases too much, stop the elimination\n",
        "        if new_r2 >= best_r2:\n",
        "            best_r2 = new_r2\n",
        "            selected_features_forward.remove(feature_to_remove)\n",
        "        else:\n",
        "            break  # Stop if removing any more features worsens R²\n",
        "\n",
        "    return selected_features_forward\n",
        "\n",
        "# Apply backward elimination\n",
        "final_selected_features_backward = backward_elimination(X_train, X_test, y_train, y_test)\n",
        "\n",
        "# Display the results\n",
        "print(\"Final selected features based on backward elimination:\")\n",
        "print(final_selected_features_backward)"
      ],
      "metadata": {
        "colab": {
          "base_uri": "https://localhost:8080/"
        },
        "id": "rU3-xuyuJYIu",
        "outputId": "b73ec065-0310-4241-a760-ae94296088c4"
      },
      "execution_count": null,
      "outputs": [
        {
          "output_type": "stream",
          "name": "stdout",
          "text": [
            "Final selected features based on backward elimination:\n",
            "['T1', 'RH_1', 'T2', 'RH_2', 'T3', 'RH_3', 'T4', 'RH_4', 'T5', 'RH_5', 'T6', 'RH_6', 'T7', 'RH_7', 'T8', 'RH_8', 'T9', 'RH_9', 'T_out', 'RH_out']\n"
          ]
        }
      ]
    },
    {
      "cell_type": "markdown",
      "source": [
        "## Particle swarm optimization"
      ],
      "metadata": {
        "id": "KX98_KRbE6fZ"
      }
    },
    {
      "cell_type": "code",
      "source": [
        "!pip install pyswarms\n"
      ],
      "metadata": {
        "colab": {
          "base_uri": "https://localhost:8080/"
        },
        "id": "kMd48y9tKdXs",
        "outputId": "271f3dc5-b41b-4bdb-eef1-cc589e69f0af"
      },
      "execution_count": null,
      "outputs": [
        {
          "output_type": "stream",
          "name": "stdout",
          "text": [
            "Requirement already satisfied: pyswarms in /usr/local/lib/python3.10/dist-packages (1.3.0)\n",
            "Requirement already satisfied: scipy in /usr/local/lib/python3.10/dist-packages (from pyswarms) (1.13.1)\n",
            "Requirement already satisfied: numpy in /usr/local/lib/python3.10/dist-packages (from pyswarms) (1.26.4)\n",
            "Requirement already satisfied: matplotlib>=1.3.1 in /usr/local/lib/python3.10/dist-packages (from pyswarms) (3.8.0)\n",
            "Requirement already satisfied: attrs in /usr/local/lib/python3.10/dist-packages (from pyswarms) (24.2.0)\n",
            "Requirement already satisfied: tqdm in /usr/local/lib/python3.10/dist-packages (from pyswarms) (4.66.6)\n",
            "Requirement already satisfied: future in /usr/local/lib/python3.10/dist-packages (from pyswarms) (1.0.0)\n",
            "Requirement already satisfied: pyyaml in /usr/local/lib/python3.10/dist-packages (from pyswarms) (6.0.2)\n",
            "Requirement already satisfied: contourpy>=1.0.1 in /usr/local/lib/python3.10/dist-packages (from matplotlib>=1.3.1->pyswarms) (1.3.1)\n",
            "Requirement already satisfied: cycler>=0.10 in /usr/local/lib/python3.10/dist-packages (from matplotlib>=1.3.1->pyswarms) (0.12.1)\n",
            "Requirement already satisfied: fonttools>=4.22.0 in /usr/local/lib/python3.10/dist-packages (from matplotlib>=1.3.1->pyswarms) (4.55.1)\n",
            "Requirement already satisfied: kiwisolver>=1.0.1 in /usr/local/lib/python3.10/dist-packages (from matplotlib>=1.3.1->pyswarms) (1.4.7)\n",
            "Requirement already satisfied: packaging>=20.0 in /usr/local/lib/python3.10/dist-packages (from matplotlib>=1.3.1->pyswarms) (24.2)\n",
            "Requirement already satisfied: pillow>=6.2.0 in /usr/local/lib/python3.10/dist-packages (from matplotlib>=1.3.1->pyswarms) (11.0.0)\n",
            "Requirement already satisfied: pyparsing>=2.3.1 in /usr/local/lib/python3.10/dist-packages (from matplotlib>=1.3.1->pyswarms) (3.2.0)\n",
            "Requirement already satisfied: python-dateutil>=2.7 in /usr/local/lib/python3.10/dist-packages (from matplotlib>=1.3.1->pyswarms) (2.8.2)\n",
            "Requirement already satisfied: six>=1.5 in /usr/local/lib/python3.10/dist-packages (from python-dateutil>=2.7->matplotlib>=1.3.1->pyswarms) (1.16.0)\n"
          ]
        }
      ]
    },
    {
      "cell_type": "code",
      "source": [
        "!pip install pyswarm\n"
      ],
      "metadata": {
        "colab": {
          "base_uri": "https://localhost:8080/"
        },
        "id": "dy6JK3NdRnhg",
        "outputId": "af920135-e303-4f2d-afc5-4657e6703300"
      },
      "execution_count": null,
      "outputs": [
        {
          "output_type": "stream",
          "name": "stdout",
          "text": [
            "Collecting pyswarm\n",
            "  Downloading pyswarm-0.6.tar.gz (4.3 kB)\n",
            "  Preparing metadata (setup.py) ... \u001b[?25l\u001b[?25hdone\n",
            "Requirement already satisfied: numpy in /usr/local/lib/python3.10/dist-packages (from pyswarm) (1.26.4)\n",
            "Building wheels for collected packages: pyswarm\n",
            "  Building wheel for pyswarm (setup.py) ... \u001b[?25l\u001b[?25hdone\n",
            "  Created wheel for pyswarm: filename=pyswarm-0.6-py3-none-any.whl size=4464 sha256=c7f9c4ce3a8d070f8230c0d6b961cca33a1c3a7c7a3f91da68957be0971733f9\n",
            "  Stored in directory: /root/.cache/pip/wheels/71/67/40/62fa158f497f942277cbab8199b05cb61c571ab324e67ad0d6\n",
            "Successfully built pyswarm\n",
            "Installing collected packages: pyswarm\n",
            "Successfully installed pyswarm-0.6\n"
          ]
        }
      ]
    },
    {
      "cell_type": "code",
      "source": [
        "import pandas as pd\n",
        "from sklearn.preprocessing import MinMaxScaler\n",
        "from sklearn.linear_model import LinearRegression\n",
        "from sklearn.model_selection import train_test_split\n",
        "from sklearn.metrics import r2_score\n",
        "import numpy as np\n",
        "import pyswarms as ps\n",
        "\n",
        "# ... (Your existing code for data loading, preprocessing, and outlier detection)\n",
        "\n",
        "# Step 2: Define fitness function based on R² value\n",
        "def fitness_function(selected_indices):\n",
        "\n",
        "\n",
        "    X_selected = X[selected_features]\n",
        "    X_train_selected, X_test_selected, y_train, y_test = train_test_split(\n",
        "        X_selected, y, test_size=0.2, random_state=42\n",
        "    )\n",
        "\n",
        "    model = LinearRegression()\n",
        "    model.fit(X_train_selected, y_train)\n",
        "    y_pred = model.predict(X_test_selected)\n",
        "    r2 = r2_score(y_test, y_pred)\n",
        "\n",
        "    return 1 - r2  # Minimize 1 - R² to maximize R²\n",
        "\n",
        "# Step 3: Initialize PSO\n",
        "options = {'c1': 0.5, 'c2': 0.3, 'w': 0.9}\n",
        "dimensions = len(selected_features) # Number of features\n",
        "optimizer = ps.single.GlobalBestPSO(n_particles=10, dimensions=dimensions, options=options)\n",
        "\n",
        "# Step 4: Run PSO\n",
        "cost, pos = optimizer.optimize(fitness_function, iters=50)\n",
        "\n",
        "# Step 5: Select features based on the best position\n",
        "selected_indices_pso = [i for i, p in enumerate(pos) if p > 0.5]\n",
        "selected_features_pso = [selected_features[i] for i in selected_indices_pso]\n",
        "print(\"Selected features using PSO:\")\n",
        "print(selected_features_pso)\n",
        "\n",
        "# Step 6: Evaluate the model with selected features from PSO\n",
        "X_pso = df[selected_features_pso]\n",
        "\n",
        "X_train_pso, X_test_pso, y_train_pso, y_test_pso = train_test_split(\n",
        "    X_pso, y, test_size=0.2, random_state=42)\n",
        "model = LinearRegression()\n",
        "model.fit(X_train_pso, y_train_pso)\n",
        "\n",
        "y_pred_pso = model.predict(X_test_pso)\n",
        "r2_pso = r2_score(y_test_pso, y_pred_pso)\n",
        "print(f\"R² score with PSO-selected features: {r2_pso}\")"
      ],
      "metadata": {
        "colab": {
          "base_uri": "https://localhost:8080/"
        },
        "id": "OJa0ucJIW49c",
        "outputId": "d387b430-e300-44fb-8866-cb4df0c8f008"
      },
      "execution_count": null,
      "outputs": [
        {
          "output_type": "stream",
          "name": "stderr",
          "text": [
            "2024-12-12 14:54:13,195 - pyswarms.single.global_best - INFO - Optimize for 50 iters with {'c1': 0.5, 'c2': 0.3, 'w': 0.9}\n",
            "pyswarms.single.global_best: 100%|██████████|50/50, best_cost=0.141\n",
            "2024-12-12 14:54:16,241 - pyswarms.single.global_best - INFO - Optimization finished | best cost: 0.14072749004847573, best pos: [8.70516474e-04 7.50850853e-01 3.28260838e-01 7.90945105e-02\n",
            " 8.03371642e-01 9.92683881e-01 2.26995608e-01 5.75870729e-01\n",
            " 7.31762246e-01 6.02557221e-02 5.13855995e-01 5.47690222e-02\n",
            " 6.43235887e-01 4.70831233e-02 1.14513095e-01 6.35758652e-01\n",
            " 5.54985503e-02 2.93757877e-01 3.64726449e-01 1.40875528e-01\n",
            " 7.64364070e-02]\n"
          ]
        },
        {
          "output_type": "stream",
          "name": "stdout",
          "text": [
            "Selected features using PSO:\n",
            "['T1', 'RH_2', 'T3', 'T4', 'RH_4', 'RH_5', 'RH_6', 'T8']\n",
            "R² score with PSO-selected features: 0.08028765840502727\n"
          ]
        }
      ]
    },
    {
      "cell_type": "markdown",
      "source": [
        "# Genetic algorithm"
      ],
      "metadata": {
        "id": "S5WB1Xh5E--U"
      }
    },
    {
      "cell_type": "code",
      "source": [
        "!pip install pygad"
      ],
      "metadata": {
        "colab": {
          "base_uri": "https://localhost:8080/"
        },
        "id": "sVAr86_g5gu3",
        "outputId": "fb9997f8-f7e5-435d-faec-192f16c347c0"
      },
      "execution_count": null,
      "outputs": [
        {
          "output_type": "stream",
          "name": "stdout",
          "text": [
            "Collecting pygad\n",
            "  Downloading pygad-3.3.1-py3-none-any.whl.metadata (19 kB)\n",
            "Requirement already satisfied: cloudpickle in /usr/local/lib/python3.10/dist-packages (from pygad) (3.1.0)\n",
            "Requirement already satisfied: matplotlib in /usr/local/lib/python3.10/dist-packages (from pygad) (3.8.0)\n",
            "Requirement already satisfied: numpy in /usr/local/lib/python3.10/dist-packages (from pygad) (1.26.4)\n",
            "Requirement already satisfied: contourpy>=1.0.1 in /usr/local/lib/python3.10/dist-packages (from matplotlib->pygad) (1.3.1)\n",
            "Requirement already satisfied: cycler>=0.10 in /usr/local/lib/python3.10/dist-packages (from matplotlib->pygad) (0.12.1)\n",
            "Requirement already satisfied: fonttools>=4.22.0 in /usr/local/lib/python3.10/dist-packages (from matplotlib->pygad) (4.55.1)\n",
            "Requirement already satisfied: kiwisolver>=1.0.1 in /usr/local/lib/python3.10/dist-packages (from matplotlib->pygad) (1.4.7)\n",
            "Requirement already satisfied: packaging>=20.0 in /usr/local/lib/python3.10/dist-packages (from matplotlib->pygad) (24.2)\n",
            "Requirement already satisfied: pillow>=6.2.0 in /usr/local/lib/python3.10/dist-packages (from matplotlib->pygad) (11.0.0)\n",
            "Requirement already satisfied: pyparsing>=2.3.1 in /usr/local/lib/python3.10/dist-packages (from matplotlib->pygad) (3.2.0)\n",
            "Requirement already satisfied: python-dateutil>=2.7 in /usr/local/lib/python3.10/dist-packages (from matplotlib->pygad) (2.8.2)\n",
            "Requirement already satisfied: six>=1.5 in /usr/local/lib/python3.10/dist-packages (from python-dateutil>=2.7->matplotlib->pygad) (1.16.0)\n",
            "Downloading pygad-3.3.1-py3-none-any.whl (84 kB)\n",
            "\u001b[?25l   \u001b[90m━━━━━━━━━━━━━━━━━━━━━━━━━━━━━━━━━━━━━━━━\u001b[0m \u001b[32m0.0/84.1 kB\u001b[0m \u001b[31m?\u001b[0m eta \u001b[36m-:--:--\u001b[0m\r\u001b[2K   \u001b[90m━━━━━━━━━━━━━━━━━━━━━━━━━━━━━━━━━━━━━━━━\u001b[0m \u001b[32m84.1/84.1 kB\u001b[0m \u001b[31m2.6 MB/s\u001b[0m eta \u001b[36m0:00:00\u001b[0m\n",
            "\u001b[?25hInstalling collected packages: pygad\n",
            "Successfully installed pygad-3.3.1\n"
          ]
        }
      ]
    },
    {
      "cell_type": "code",
      "source": [
        "import pygad\n",
        "\n",
        "# Define the fitness function for GA\n",
        "def fitness_function(ga_instance, solution, solution_idx): # Added ga_instance as a parameter\n",
        "    selected_columns = X_train.columns[np.array(solution) == 1]\n",
        "\n",
        "    if len(selected_columns) == 0:  # Avoid empty feature selection\n",
        "        return -float('inf')\n",
        "\n",
        "    X_train_selected = X_train[selected_columns]\n",
        "    X_test_selected = X_test[selected_columns]\n",
        "\n",
        "    model = LinearRegression()\n",
        "    model.fit(X_train_selected, y_train)\n",
        "    y_pred = model.predict(X_test_selected)\n",
        "\n",
        "    r2 = r2_score(y_test, y_pred)\n",
        "    return r2  # Higher R² is better\n",
        "\n",
        "# GA parameters\n",
        "ga_instance = pygad.GA(\n",
        "    num_generations=50,\n",
        "    num_parents_mating=10,\n",
        "    fitness_func=fitness_function,\n",
        "    sol_per_pop=20,\n",
        "    num_genes=X_train.shape[1],\n",
        "    gene_space=[0, 1],  # Binary selection: 0 (not selected), 1 (selected)\n",
        ")\n",
        "\n",
        "# Run the GA\n",
        "ga_instance.run()\n",
        "\n",
        "# Extract the best solution\n",
        "best_solution, best_solution_fitness, _ = ga_instance.best_solution()\n",
        "selected_columns_ga = X_train.columns[np.array(best_solution) == 1]\n",
        "print(\"Selected Features using GA:\", selected_columns_ga)"
      ],
      "metadata": {
        "colab": {
          "base_uri": "https://localhost:8080/"
        },
        "id": "NOH-qxLf5dde",
        "outputId": "3326ec10-fb68-4d90-9316-c5a093185279"
      },
      "execution_count": null,
      "outputs": [
        {
          "output_type": "stream",
          "name": "stderr",
          "text": [
            "/usr/local/lib/python3.10/dist-packages/pygad/pygad.py:1139: UserWarning: The 'delay_after_gen' parameter is deprecated starting from PyGAD 3.3.0. To delay or pause the evolution after each generation, assign a callback function/method to the 'on_generation' parameter to adds some time delay.\n",
            "  warnings.warn(\"The 'delay_after_gen' parameter is deprecated starting from PyGAD 3.3.0. To delay or pause the evolution after each generation, assign a callback function/method to the 'on_generation' parameter to adds some time delay.\")\n"
          ]
        },
        {
          "output_type": "stream",
          "name": "stdout",
          "text": [
            "Selected Features using GA: Index(['lights', 'T1', 'T2', 'RH_2', 'RH_3', 'T4', 'T9', 'RH_9', 'RH_out'], dtype='object')\n"
          ]
        }
      ]
    },
    {
      "cell_type": "markdown",
      "source": [
        "## Linear regression on final_selected_features_forward\n",
        "\n",
        "---\n",
        "\n"
      ],
      "metadata": {
        "id": "FI_Oj0AQFDw6"
      }
    },
    {
      "cell_type": "code",
      "source": [
        "import pandas as pd\n",
        "from sklearn.linear_model import LinearRegression\n",
        "from sklearn.model_selection import train_test_split\n",
        "from sklearn.metrics import mean_squared_error, mean_absolute_error, r2_score\n",
        "import numpy as np\n",
        "\n",
        "# Assuming 'df' is your DataFrame and 'final_selected_features_forward' is the list of selected features\n",
        "# Example: final_selected_features_forward = ['Feature1', 'Feature2', 'Feature3']\n",
        "\n",
        "# Define X (features) and y (target)\n",
        "X = df[final_selected_features_forward]\n",
        "y = df['Appliances']\n",
        "\n",
        "# Split the data into training and testing sets\n",
        "X_train, X_test, y_train, y_test = train_test_split(X, y, test_size=0.2, random_state=42)\n",
        "\n",
        "# Initialize and train the Linear Regression model\n",
        "model = LinearRegression()\n",
        "model.fit(X_train, y_train)\n",
        "\n",
        "# Predict on the test set\n",
        "y_pred = model.predict(X_test)\n",
        "\n",
        "# Calculate evaluation metrics\n",
        "mse = mean_squared_error(y_test, y_pred)\n",
        "rmse = np.sqrt(mse)\n",
        "mae = mean_absolute_error(y_test, y_pred)\n",
        "r2 = r2_score(y_test, y_pred)\n",
        "\n",
        "# Print the metrics\n",
        "print(\"Metrics for Linear Regression:\")\n",
        "print(f\"Mean Squared Error (MSE): {mse:.4f}\")\n",
        "print(f\"Root Mean Squared Error (RMSE): {rmse:.4f}\")\n",
        "print(f\"Mean Absolute Error (MAE): {mae:.4f}\")\n",
        "print(f\"R-squared (R²): {r2:.4f}\")\n",
        "\n"
      ],
      "metadata": {
        "colab": {
          "base_uri": "https://localhost:8080/"
        },
        "id": "2ASGYTuU7__G",
        "outputId": "a7839c14-1702-4313-e56e-c458062d17f6"
      },
      "execution_count": null,
      "outputs": [
        {
          "output_type": "stream",
          "name": "stdout",
          "text": [
            "Metrics for Linear Regression:\n",
            "Mean Squared Error (MSE): 0.0045\n",
            "Root Mean Squared Error (RMSE): 0.0670\n",
            "Mean Absolute Error (MAE): 0.0528\n",
            "R-squared (R²): 0.8608\n"
          ]
        }
      ]
    },
    {
      "cell_type": "markdown",
      "source": [
        "## KNN on final_selected_features_forward"
      ],
      "metadata": {
        "id": "miLJHYbjFKS_"
      }
    },
    {
      "cell_type": "code",
      "source": [
        "from sklearn.neighbors import KNeighborsRegressor\n",
        "from sklearn.metrics import mean_squared_error, mean_absolute_error, r2_score\n",
        "import numpy as np\n",
        "\n",
        "# Assuming you have final_selected_features_forward already defined\n",
        "X = df[final_selected_features_forward]\n",
        "y = df['Appliances']\n",
        "\n",
        "# Split the dataset into training and testing sets\n",
        "X_train, X_test, y_train, y_test = train_test_split(X, y, test_size=0.2, random_state=42)\n",
        "\n",
        "# Initialize the KNN Regressor\n",
        "knn = KNeighborsRegressor(n_neighbors=5)  # You can tune n_neighbors for better performance\n",
        "\n",
        "# Fit the model to the training data\n",
        "knn.fit(X_train, y_train)\n",
        "\n",
        "# Make predictions on the test data\n",
        "y_pred = knn.predict(X_test)\n",
        "\n",
        "# Calculate evaluation metrics\n",
        "mse = mean_squared_error(y_test, y_pred)\n",
        "rmse = np.sqrt(mse)\n",
        "mae = mean_absolute_error(y_test, y_pred)\n",
        "r2 = r2_score(y_test, y_pred)\n",
        "\n",
        "# Print the results\n",
        "print(\"KNN Regressor Performance Metrics:\")\n",
        "print(f\"Mean Squared Error (MSE): {mse:.4f}\")\n",
        "print(f\"Root Mean Squared Error (RMSE): {rmse:.4f}\")\n",
        "print(f\"Mean Absolute Error (MAE): {mae:.4f}\")\n",
        "print(f\"R-squared (R²): {r2:.4f}\")\n",
        "\n"
      ],
      "metadata": {
        "colab": {
          "base_uri": "https://localhost:8080/"
        },
        "id": "zQJqSZZ-8ERZ",
        "outputId": "cfeeab2d-132c-4b6a-9d8f-c793f9e649c9"
      },
      "execution_count": null,
      "outputs": [
        {
          "output_type": "stream",
          "name": "stdout",
          "text": [
            "KNN Regressor Performance Metrics:\n",
            "Mean Squared Error (MSE): 0.0058\n",
            "Root Mean Squared Error (RMSE): 0.0759\n",
            "Mean Absolute Error (MAE): 0.0592\n",
            "R-squared (R²): 0.8216\n"
          ]
        }
      ]
    },
    {
      "cell_type": "markdown",
      "source": [
        "## SVR on final_selected_features_forward (rbf)"
      ],
      "metadata": {
        "id": "eHQM-XQhFNhm"
      }
    },
    {
      "cell_type": "code",
      "source": [
        "from sklearn.svm import SVR\n",
        "from sklearn.metrics import mean_squared_error, mean_absolute_error, r2_score\n",
        "from sklearn.model_selection import train_test_split\n",
        "import numpy as np\n",
        "\n",
        "# Assuming 'df' is your DataFrame, 'final_selected_features_forward' is the list of selected features, and 'Appliances' is the target column\n",
        "\n",
        "# Step 1: Define the input features and target\n",
        "X = df[final_selected_features_forward]\n",
        "y = df['Appliances']\n",
        "\n",
        "# Step 2: Split the dataset into training and testing sets\n",
        "X_train_forward, X_test_forward, y_train, y_test = train_test_split(X, y, test_size=0.2, random_state=42)\n",
        "\n",
        "# Step 3: Initialize SVR with RBF kernel (you can customize kernel and parameters)\n",
        "svr = SVR(kernel='rbf', C=1.0, epsilon=0.1)\n",
        "\n",
        "# Step 4: Train the SVR model on the training data\n",
        "svr.fit(X_train_forward, y_train)\n",
        "\n",
        "# Step 5: Predict on the test data\n",
        "y_pred = svr.predict(X_test_forward)\n",
        "\n",
        "# Step 6: Calculate metrics\n",
        "mse = mean_squared_error(y_test, y_pred)\n",
        "rmse = np.sqrt(mse)\n",
        "mae = mean_absolute_error(y_test, y_pred)\n",
        "r2 = r2_score(y_test, y_pred)\n",
        "\n",
        "# Step 7: Display the metrics\n",
        "print(\"Metrics for SVR:\")\n",
        "print(f\"Mean Squared Error (MSE): {mse:.4f}\")\n",
        "print(f\"Root Mean Squared Error (RMSE): {rmse:.4f}\")\n",
        "print(f\"Mean Absolute Error (MAE): {mae:.4f}\")\n",
        "print(f\"R-squared (R²): {r2:.4f}\")\n",
        "\n"
      ],
      "metadata": {
        "colab": {
          "base_uri": "https://localhost:8080/"
        },
        "id": "HK4_z-ua8c3C",
        "outputId": "af6a1108-03b0-4825-d8c6-7131694401d3"
      },
      "execution_count": null,
      "outputs": [
        {
          "output_type": "stream",
          "name": "stdout",
          "text": [
            "Metrics for SVR:\n",
            "Mean Squared Error (MSE): 0.0049\n",
            "Root Mean Squared Error (RMSE): 0.0702\n",
            "Mean Absolute Error (MAE): 0.0555\n",
            "R-squared (R²): 0.8475\n"
          ]
        }
      ]
    },
    {
      "cell_type": "markdown",
      "source": [
        "# SVR on final_selected_features_forward (sigmoid)"
      ],
      "metadata": {
        "id": "lkClH69VFUoO"
      }
    },
    {
      "cell_type": "code",
      "source": [
        "from sklearn.svm import SVR\n",
        "from sklearn.metrics import mean_squared_error, mean_absolute_error, r2_score\n",
        "from sklearn.model_selection import train_test_split\n",
        "import numpy as np\n",
        "\n",
        "# Assuming 'df' is your DataFrame, 'final_selected_features_forward' is the list of selected features, and 'Appliances' is the target column\n",
        "\n",
        "# Step 1: Define the input features and target\n",
        "X = df[final_selected_features_forward]\n",
        "y = df['Appliances']\n",
        "\n",
        "# Step 2: Split the dataset into training and testing sets\n",
        "X_train_forward, X_test_forward, y_train, y_test = train_test_split(X, y, test_size=0.2, random_state=42)\n",
        "\n",
        "# Step 3: Initialize SVR with RBF kernel (you can customize kernel and parameters)\n",
        "svr = SVR(kernel='sigmoid', C=1.0, epsilon=0.1)\n",
        "\n",
        "# Step 4: Train the SVR model on the training data\n",
        "svr.fit(X_train_forward, y_train)\n",
        "\n",
        "# Step 5: Predict on the test data\n",
        "y_pred = svr.predict(X_test_forward)\n",
        "\n",
        "# Step 6: Calculate metrics\n",
        "mse = mean_squared_error(y_test, y_pred)\n",
        "rmse = np.sqrt(mse)\n",
        "mae = mean_absolute_error(y_test, y_pred)\n",
        "r2 = r2_score(y_test, y_pred)\n",
        "\n",
        "# Step 7: Display the metrics\n",
        "print(\"Metrics for SVR:\")\n",
        "print(f\"Mean Squared Error (MSE): {mse:.4f}\")\n",
        "print(f\"Root Mean Squared Error (RMSE): {rmse:.4f}\")\n",
        "print(f\"Mean Absolute Error (MAE): {mae:.4f}\")\n",
        "print(f\"R-squared (R²): {r2:.4f}\")\n"
      ],
      "metadata": {
        "colab": {
          "base_uri": "https://localhost:8080/"
        },
        "id": "SFsaFDNR9jkQ",
        "outputId": "ba55700d-e5d1-4b1e-c6c4-a04554f4602a"
      },
      "execution_count": null,
      "outputs": [
        {
          "output_type": "stream",
          "name": "stdout",
          "text": [
            "Metrics for SVR:\n",
            "Mean Squared Error (MSE): 1052.6799\n",
            "Root Mean Squared Error (RMSE): 32.4450\n",
            "Mean Absolute Error (MAE): 16.4049\n",
            "R-squared (R²): -32606.3440\n"
          ]
        }
      ]
    },
    {
      "cell_type": "markdown",
      "source": [
        "# SVR on final_selected_features_forward (poly)"
      ],
      "metadata": {
        "id": "iTElZ3XvFaHQ"
      }
    },
    {
      "cell_type": "code",
      "source": [
        "from sklearn.svm import SVR\n",
        "from sklearn.metrics import mean_squared_error, mean_absolute_error, r2_score\n",
        "from sklearn.model_selection import train_test_split\n",
        "import numpy as np\n",
        "\n",
        "# Assuming 'df' is your DataFrame, 'final_selected_features_forward' is the list of selected features, and 'Appliances' is the target column\n",
        "\n",
        "# Step 1: Define the input features and target\n",
        "X = df[final_selected_features_forward]\n",
        "y = df['Appliances']\n",
        "\n",
        "# Step 2: Split the dataset into training and testing sets\n",
        "X_train_forward, X_test_forward, y_train, y_test = train_test_split(X, y, test_size=0.2, random_state=42)\n",
        "\n",
        "# Step 3: Initialize SVR with RBF kernel (you can customize kernel and parameters)\n",
        "svr = SVR(kernel='poly', C=1.0, epsilon=0.1)\n",
        "\n",
        "# Step 4: Train the SVR model on the training data\n",
        "svr.fit(X_train_forward, y_train)\n",
        "\n",
        "# Step 5: Predict on the test data\n",
        "y_pred = svr.predict(X_test_forward)\n",
        "\n",
        "# Step 6: Calculate metrics\n",
        "mse = mean_squared_error(y_test, y_pred)\n",
        "rmse = np.sqrt(mse)\n",
        "mae = mean_absolute_error(y_test, y_pred)\n",
        "r2 = r2_score(y_test, y_pred)\n",
        "\n",
        "# Step 7: Display the metrics\n",
        "print(\"Metrics for SVR:\")\n",
        "print(f\"Mean Squared Error (MSE): {mse:.4f}\")\n",
        "print(f\"Root Mean Squared Error (RMSE): {rmse:.4f}\")\n",
        "print(f\"Mean Absolute Error (MAE): {mae:.4f}\")\n",
        "print(f\"R-squared (R²): {r2:.4f}\")\n",
        "\n"
      ],
      "metadata": {
        "colab": {
          "base_uri": "https://localhost:8080/"
        },
        "id": "tKm5T9sK9rug",
        "outputId": "6fd21388-617d-4fad-969a-694677db288e"
      },
      "execution_count": null,
      "outputs": [
        {
          "output_type": "stream",
          "name": "stdout",
          "text": [
            "Metrics for SVR:\n",
            "Mean Squared Error (MSE): 0.0057\n",
            "Root Mean Squared Error (RMSE): 0.0756\n",
            "Mean Absolute Error (MAE): 0.0591\n",
            "R-squared (R²): 0.8228\n"
          ]
        }
      ]
    },
    {
      "cell_type": "markdown",
      "source": [
        "# SVR on final_selected_features_forward (linear)"
      ],
      "metadata": {
        "id": "mOVCiMlXFdFZ"
      }
    },
    {
      "cell_type": "code",
      "source": [
        "from sklearn.svm import SVR\n",
        "from sklearn.metrics import mean_squared_error, mean_absolute_error, r2_score\n",
        "from sklearn.model_selection import train_test_split\n",
        "import numpy as np\n",
        "\n",
        "# Assuming 'df' is your DataFrame, 'final_selected_features_forward' is the list of selected features, and 'Appliances' is the target column\n",
        "\n",
        "# Step 1: Define the input features and target\n",
        "X = df[final_selected_features_forward]\n",
        "y = df['Appliances']\n",
        "\n",
        "# Step 2: Split the dataset into training and testing sets\n",
        "X_train_forward, X_test_forward, y_train, y_test = train_test_split(X, y, test_size=0.2, random_state=42)\n",
        "\n",
        "# Step 3: Initialize SVR with RBF kernel (you can customize kernel and parameters)\n",
        "svr = SVR(kernel='linear', C=1.0, epsilon=0.1)\n",
        "\n",
        "# Step 4: Train the SVR model on the training data\n",
        "svr.fit(X_train_forward, y_train)\n",
        "\n",
        "# Step 5: Predict on the test data\n",
        "y_pred = svr.predict(X_test_forward)\n",
        "\n",
        "# Step 6: Calculate metrics\n",
        "mse = mean_squared_error(y_test, y_pred)\n",
        "rmse = np.sqrt(mse)\n",
        "mae = mean_absolute_error(y_test, y_pred)\n",
        "r2 = r2_score(y_test, y_pred)\n",
        "\n",
        "# Step 7: Display the metrics\n",
        "print(\"Metrics for SVR:\")\n",
        "print(f\"Mean Squared Error (MSE): {mse:.4f}\")\n",
        "print(f\"Root Mean Squared Error (RMSE): {rmse:.4f}\")\n",
        "print(f\"Mean Absolute Error (MAE): {mae:.4f}\")\n",
        "print(f\"R-squared (R²): {r2:.4f}\")\n",
        "\n"
      ],
      "metadata": {
        "colab": {
          "base_uri": "https://localhost:8080/"
        },
        "id": "5vNopGql95ca",
        "outputId": "99cc6c5a-d23f-4fc6-8e26-f285e3de8580"
      },
      "execution_count": null,
      "outputs": [
        {
          "output_type": "stream",
          "name": "stdout",
          "text": [
            "Metrics for SVR:\n",
            "Mean Squared Error (MSE): 0.0045\n",
            "Root Mean Squared Error (RMSE): 0.0673\n",
            "Mean Absolute Error (MAE): 0.0530\n",
            "R-squared (R²): 0.8597\n"
          ]
        }
      ]
    },
    {
      "cell_type": "markdown",
      "source": [
        "# Linear regression on final_selected_features_backward"
      ],
      "metadata": {
        "id": "_HTrz77TFhxc"
      }
    },
    {
      "cell_type": "code",
      "source": [
        "import pandas as pd\n",
        "from sklearn.linear_model import LinearRegression\n",
        "from sklearn.model_selection import train_test_split\n",
        "from sklearn.metrics import mean_squared_error, mean_absolute_error, r2_score\n",
        "import numpy as np\n",
        "\n",
        "# Assuming 'df' is your DataFrame and 'final_selected_features_backward' is the list of selected features\n",
        "# Example: final_selected_features_backward = ['Feature1', 'Feature2', 'Feature3']\n",
        "\n",
        "# Define X (features) and y (target)\n",
        "X = df[final_selected_features_backward]\n",
        "y = df['Appliances']\n",
        "\n",
        "# Split the data into training and testing sets\n",
        "X_train, X_test, y_train, y_test = train_test_split(X, y, test_size=0.2, random_state=42)\n",
        "\n",
        "# Initialize and train the Linear Regression model\n",
        "model = LinearRegression()\n",
        "model.fit(X_train, y_train)\n",
        "\n",
        "# Predict on the test set\n",
        "y_pred = model.predict(X_test)\n",
        "\n",
        "# Calculate evaluation metrics\n",
        "mse = mean_squared_error(y_test, y_pred)\n",
        "rmse = np.sqrt(mse)\n",
        "mae = mean_absolute_error(y_test, y_pred)\n",
        "r2 = r2_score(y_test, y_pred)\n",
        "\n",
        "# Print the metrics\n",
        "print(\"Metrics for Linear Regression:\")\n",
        "print(f\"Mean Squared Error (MSE): {mse:.4f}\")\n",
        "print(f\"Root Mean Squared Error (RMSE): {rmse:.4f}\")\n",
        "print(f\"Mean Absolute Error (MAE): {mae:.4f}\")\n",
        "print(f\"R-squared (R²): {r2:.4f}\")\n"
      ],
      "metadata": {
        "colab": {
          "base_uri": "https://localhost:8080/"
        },
        "id": "8HuWd-Gx9_aI",
        "outputId": "cbe388e1-6d99-448c-b9d5-968c0943a7a7"
      },
      "execution_count": null,
      "outputs": [
        {
          "output_type": "stream",
          "name": "stdout",
          "text": [
            "Metrics for Linear Regression:\n",
            "Mean Squared Error (MSE): 0.0300\n",
            "Root Mean Squared Error (RMSE): 0.1732\n",
            "Mean Absolute Error (MAE): 0.1472\n",
            "R-squared (R²): 0.0709\n"
          ]
        }
      ]
    },
    {
      "cell_type": "markdown",
      "source": [
        "# KNN on final_selected_features_backward"
      ],
      "metadata": {
        "id": "AuYymGeiFp_2"
      }
    },
    {
      "cell_type": "code",
      "source": [
        "from sklearn.neighbors import KNeighborsRegressor\n",
        "from sklearn.metrics import mean_squared_error, mean_absolute_error, r2_score\n",
        "import numpy as np\n",
        "\n",
        "# Assuming you have final_selected_features_backward already defined\n",
        "X = df[final_selected_features_backward]\n",
        "y = df['Appliances']\n",
        "\n",
        "# Split the dataset into training and testing sets\n",
        "X_train, X_test, y_train, y_test = train_test_split(X, y, test_size=0.2, random_state=42)\n",
        "\n",
        "# Initialize the KNN Regressor\n",
        "knn = KNeighborsRegressor(n_neighbors=5)  # You can tune n_neighbors for better performance\n",
        "\n",
        "# Fit the model to the training data\n",
        "knn.fit(X_train, y_train)\n",
        "\n",
        "# Make predictions on the test data\n",
        "y_pred = knn.predict(X_test)\n",
        "\n",
        "# Calculate evaluation metrics\n",
        "mse = mean_squared_error(y_test, y_pred)\n",
        "rmse = np.sqrt(mse)\n",
        "mae = mean_absolute_error(y_test, y_pred)\n",
        "r2 = r2_score(y_test, y_pred)\n",
        "\n",
        "# Print the results\n",
        "print(\"KNN Regressor Performance Metrics:\")\n",
        "print(f\"Mean Squared Error (MSE): {mse:.4f}\")\n",
        "print(f\"Root Mean Squared Error (RMSE): {rmse:.4f}\")\n",
        "print(f\"Mean Absolute Error (MAE): {mae:.4f}\")\n",
        "print(f\"R-squared (R²): {r2:.4f}\")\n"
      ],
      "metadata": {
        "colab": {
          "base_uri": "https://localhost:8080/"
        },
        "id": "cxsRfOPn-M9a",
        "outputId": "8f9f34c9-c1d4-43fd-9ccf-b466fe75c6ea"
      },
      "execution_count": null,
      "outputs": [
        {
          "output_type": "stream",
          "name": "stdout",
          "text": [
            "KNN Regressor Performance Metrics:\n",
            "Mean Squared Error (MSE): 0.0360\n",
            "Root Mean Squared Error (RMSE): 0.1897\n",
            "Mean Absolute Error (MAE): 0.1584\n",
            "R-squared (R²): -0.1150\n"
          ]
        }
      ]
    },
    {
      "cell_type": "markdown",
      "source": [
        "# SVR on final_selected_features_backward (rbf)"
      ],
      "metadata": {
        "id": "aFlDoPbNFt-g"
      }
    },
    {
      "cell_type": "code",
      "source": [
        "from sklearn.svm import SVR\n",
        "from sklearn.metrics import mean_squared_error, mean_absolute_error, r2_score\n",
        "from sklearn.model_selection import train_test_split\n",
        "import numpy as np\n",
        "\n",
        "# Assuming 'df' is your DataFrame, 'final_selected_features_backward' is the list of selected features, and 'Appliances' is the target column\n",
        "\n",
        "# Step 1: Define the input features and target\n",
        "X = df[final_selected_features_backward]\n",
        "y = df['Appliances']\n",
        "\n",
        "# Step 2: Split the dataset into training and testing sets\n",
        "X_train_backward, X_test_backward, y_train, y_test = train_test_split(X, y, test_size=0.2, random_state=42)\n",
        "\n",
        "# Step 3: Initialize SVR with RBF kernel (you can customize kernel and parameters)\n",
        "svr = SVR(kernel='rbf', C=1.0, epsilon=0.1)\n",
        "\n",
        "# Step 4: Train the SVR model on the training data\n",
        "svr.fit(X_train_backward, y_train)\n",
        "\n",
        "# Step 5: Predict on the test data\n",
        "y_pred = svr.predict(X_test_backward)\n",
        "\n",
        "# Step 6: Calculate metrics\n",
        "mse = mean_squared_error(y_test, y_pred)\n",
        "rmse = np.sqrt(mse)\n",
        "mae = mean_absolute_error(y_test, y_pred)\n",
        "r2 = r2_score(y_test, y_pred)\n",
        "\n",
        "# Step 7: Display the metrics\n",
        "print(\"Metrics for SVR:\")\n",
        "print(f\"Mean Squared Error (MSE): {mse:.4f}\")\n",
        "print(f\"Root Mean Squared Error (RMSE): {rmse:.4f}\")\n",
        "print(f\"Mean Absolute Error (MAE): {mae:.4f}\")\n",
        "print(f\"R-squared (R²): {r2:.4f}\")\n"
      ],
      "metadata": {
        "colab": {
          "base_uri": "https://localhost:8080/"
        },
        "id": "G3AYfGAp-VvI",
        "outputId": "ce59c785-4e8e-4184-9073-a597d1fbb036"
      },
      "execution_count": null,
      "outputs": [
        {
          "output_type": "stream",
          "name": "stdout",
          "text": [
            "Metrics for SVR:\n",
            "Mean Squared Error (MSE): 0.0324\n",
            "Root Mean Squared Error (RMSE): 0.1800\n",
            "Mean Absolute Error (MAE): 0.1523\n",
            "R-squared (R²): -0.0035\n"
          ]
        }
      ]
    },
    {
      "cell_type": "markdown",
      "source": [
        "# SVR on final_selected_features_backward (sigmoid)"
      ],
      "metadata": {
        "id": "pFl4ZbilF0-5"
      }
    },
    {
      "cell_type": "code",
      "source": [
        "from sklearn.svm import SVR\n",
        "from sklearn.metrics import mean_squared_error, mean_absolute_error, r2_score\n",
        "from sklearn.model_selection import train_test_split\n",
        "import numpy as np\n",
        "\n",
        "# Assuming 'df' is your DataFrame, 'final_selected_features_backward' is the list of selected features, and 'Appliances' is the target column\n",
        "\n",
        "# Step 1: Define the input features and target\n",
        "X = df[final_selected_features_backward]\n",
        "y = df['Appliances']\n",
        "\n",
        "# Step 2: Split the dataset into training and testing sets\n",
        "X_train_backward, X_test_backward, y_train, y_test = train_test_split(X, y, test_size=0.2, random_state=42)\n",
        "\n",
        "# Step 3: Initialize SVR with RBF kernel (you can customize kernel and parameters)\n",
        "svr = SVR(kernel='sigmoid', C=1.0, epsilon=0.1)\n",
        "\n",
        "# Step 4: Train the SVR model on the training data\n",
        "svr.fit(X_train_backward, y_train)\n",
        "\n",
        "# Step 5: Predict on the test data\n",
        "y_pred = svr.predict(X_test_backward)\n",
        "\n",
        "# Step 6: Calculate metrics\n",
        "mse = mean_squared_error(y_test, y_pred)\n",
        "rmse = np.sqrt(mse)\n",
        "mae = mean_absolute_error(y_test, y_pred)\n",
        "r2 = r2_score(y_test, y_pred)\n",
        "\n",
        "# Step 7: Display the metrics\n",
        "print(\"Metrics for SVR:\")\n",
        "print(f\"Mean Squared Error (MSE): {mse:.4f}\")\n",
        "print(f\"Root Mean Squared Error (RMSE): {rmse:.4f}\")\n",
        "print(f\"Mean Absolute Error (MAE): {mae:.4f}\")\n",
        "print(f\"R-squared (R²): {r2:.4f}\")\n"
      ],
      "metadata": {
        "colab": {
          "base_uri": "https://localhost:8080/"
        },
        "id": "wGn4HaGg-uh6",
        "outputId": "d4781b0f-a16d-4a99-cda2-95d639323498"
      },
      "execution_count": null,
      "outputs": [
        {
          "output_type": "stream",
          "name": "stdout",
          "text": [
            "Metrics for SVR:\n",
            "Mean Squared Error (MSE): 763.4123\n",
            "Root Mean Squared Error (RMSE): 27.6299\n",
            "Mean Absolute Error (MAE): 12.8188\n",
            "R-squared (R²): -23646.1214\n"
          ]
        }
      ]
    },
    {
      "cell_type": "markdown",
      "source": [
        "# SVR on final_selected_features_backward (poly)"
      ],
      "metadata": {
        "id": "nKtDi-SeF3-N"
      }
    },
    {
      "cell_type": "code",
      "source": [
        "from sklearn.svm import SVR\n",
        "from sklearn.metrics import mean_squared_error, mean_absolute_error, r2_score\n",
        "from sklearn.model_selection import train_test_split\n",
        "import numpy as np\n",
        "\n",
        "# Assuming 'df' is your DataFrame, 'final_selected_features_backward' is the list of selected features, and 'Appliances' is the target column\n",
        "\n",
        "# Step 1: Define the input features and target\n",
        "X = df[final_selected_features_backward]\n",
        "y = df['Appliances']\n",
        "\n",
        "# Step 2: Split the dataset into training and testing sets\n",
        "X_train_backward, X_test_backward, y_train, y_test = train_test_split(X, y, test_size=0.2, random_state=42)\n",
        "\n",
        "# Step 3: Initialize SVR with RBF kernel (you can customize kernel and parameters)\n",
        "svr = SVR(kernel='poly', C=1.0, epsilon=0.1)\n",
        "\n",
        "# Step 4: Train the SVR model on the training data\n",
        "svr.fit(X_train_backward, y_train)\n",
        "\n",
        "# Step 5: Predict on the test data\n",
        "y_pred = svr.predict(X_test_backward)\n",
        "\n",
        "# Step 6: Calculate metrics\n",
        "mse = mean_squared_error(y_test, y_pred)\n",
        "rmse = np.sqrt(mse)\n",
        "mae = mean_absolute_error(y_test, y_pred)\n",
        "r2 = r2_score(y_test, y_pred)\n",
        "\n",
        "# Step 7: Display the metrics\n",
        "print(\"Metrics for SVR:\")\n",
        "print(f\"Mean Squared Error (MSE): {mse:.4f}\")\n",
        "print(f\"Root Mean Squared Error (RMSE): {rmse:.4f}\")\n",
        "print(f\"Mean Absolute Error (MAE): {mae:.4f}\")\n",
        "print(f\"R-squared (R²): {r2:.4f}\")\n"
      ],
      "metadata": {
        "colab": {
          "base_uri": "https://localhost:8080/"
        },
        "id": "G1hCEcCv-1e7",
        "outputId": "ff5707f3-c928-4e96-c353-965ab3acec47"
      },
      "execution_count": null,
      "outputs": [
        {
          "output_type": "stream",
          "name": "stdout",
          "text": [
            "Metrics for SVR:\n",
            "Mean Squared Error (MSE): 0.0323\n",
            "Root Mean Squared Error (RMSE): 0.1797\n",
            "Mean Absolute Error (MAE): 0.1519\n",
            "R-squared (R²): -0.0000\n"
          ]
        }
      ]
    },
    {
      "cell_type": "markdown",
      "source": [
        "# SVR on final_selected_features_backward (linear)"
      ],
      "metadata": {
        "id": "PRLFmNm0F7cJ"
      }
    },
    {
      "cell_type": "code",
      "source": [
        "from sklearn.svm import SVR\n",
        "from sklearn.metrics import mean_squared_error, mean_absolute_error, r2_score\n",
        "from sklearn.model_selection import train_test_split\n",
        "import numpy as np\n",
        "\n",
        "# Assuming 'df' is your DataFrame, 'final_selected_features_backward' is the list of selected features, and 'Appliances' is the target column\n",
        "\n",
        "# Step 1: Define the input features and target\n",
        "X = df[final_selected_features_backward]\n",
        "y = df['Appliances']\n",
        "\n",
        "# Step 2: Split the dataset into training and testing sets\n",
        "X_train_backward, X_test_backward, y_train, y_test = train_test_split(X, y, test_size=0.2, random_state=42)\n",
        "\n",
        "# Step 3: Initialize SVR with RBF kernel (you can customize kernel and parameters)\n",
        "svr = SVR(kernel='linear', C=1.0, epsilon=0.1)\n",
        "\n",
        "# Step 4: Train the SVR model on the training data\n",
        "svr.fit(X_train_backward, y_train)\n",
        "\n",
        "# Step 5: Predict on the test data\n",
        "y_pred = svr.predict(X_test_backward)\n",
        "\n",
        "# Step 6: Calculate metrics\n",
        "mse = mean_squared_error(y_test, y_pred)\n",
        "rmse = np.sqrt(mse)\n",
        "mae = mean_absolute_error(y_test, y_pred)\n",
        "r2 = r2_score(y_test, y_pred)\n",
        "\n",
        "# Step 7: Display the metrics\n",
        "print(\"Metrics for SVR:\")\n",
        "print(f\"Mean Squared Error (MSE): {mse:.4f}\")\n",
        "print(f\"Root Mean Squared Error (RMSE): {rmse:.4f}\")\n",
        "print(f\"Mean Absolute Error (MAE): {mae:.4f}\")\n",
        "print(f\"R-squared (R²): {r2:.4f}\")\n"
      ],
      "metadata": {
        "colab": {
          "base_uri": "https://localhost:8080/"
        },
        "id": "YZd5Fa9H-58o",
        "outputId": "1697cba4-b9ce-4172-930c-ec4bc02f3ca8"
      },
      "execution_count": null,
      "outputs": [
        {
          "output_type": "stream",
          "name": "stdout",
          "text": [
            "Metrics for SVR:\n",
            "Mean Squared Error (MSE): 0.0302\n",
            "Root Mean Squared Error (RMSE): 0.1739\n",
            "Mean Absolute Error (MAE): 0.1477\n",
            "R-squared (R²): 0.0634\n"
          ]
        }
      ]
    },
    {
      "cell_type": "markdown",
      "source": [
        "# Linear regression on PSO features"
      ],
      "metadata": {
        "id": "19Y0wIwVF_M5"
      }
    },
    {
      "cell_type": "code",
      "source": [
        "import pandas as pd\n",
        "from sklearn.linear_model import LinearRegression\n",
        "from sklearn.model_selection import train_test_split\n",
        "from sklearn.metrics import mean_squared_error, mean_absolute_error, r2_score\n",
        "import numpy as np\n",
        "\n",
        "# Assuming 'df' is your DataFrame and 'r2_pso' is the list of selected features\n",
        "# Example: r2_pso = ['Feature1', 'Feature2', 'Feature3']\n",
        "r2_pso = ['T1', 'RH_2', 'T3', 'T4', 'RH_4', 'RH_5', 'RH_6', 'T8']\n",
        "# Define X (features) and y (target)\n",
        "X = df[r2_pso]\n",
        "y = df['Appliances']\n",
        "\n",
        "# Split the data into training and testing sets\n",
        "X_train, X_test, y_train, y_test = train_test_split(X, y, test_size=0.2, random_state=42)\n",
        "\n",
        "# Initialize and train the Linear Regression model\n",
        "model = LinearRegression()\n",
        "model.fit(X_train, y_train)\n",
        "\n",
        "# Predict on the test set\n",
        "y_pred = model.predict(X_test)\n",
        "\n",
        "# Calculate evaluation metrics\n",
        "mse = mean_squared_error(y_test, y_pred)\n",
        "rmse = np.sqrt(mse)\n",
        "mae = mean_absolute_error(y_test, y_pred)\n",
        "r2 = r2_score(y_test, y_pred)\n",
        "\n",
        "# Print the metrics\n",
        "print(\"Metrics for Linear Regression:\")\n",
        "print(f\"Mean Squared Error (MSE): {mse:.4f}\")\n",
        "print(f\"Root Mean Squared Error (RMSE): {rmse:.4f}\")\n",
        "print(f\"Mean Absolute Error (MAE): {mae:.4f}\")\n",
        "print(f\"R-squared (R²): {r2:.4f}\")\n"
      ],
      "metadata": {
        "colab": {
          "base_uri": "https://localhost:8080/"
        },
        "id": "ClF7Uk_A_I7t",
        "outputId": "c814830b-e0ba-4d19-8e0f-c15fa1509773"
      },
      "execution_count": null,
      "outputs": [
        {
          "output_type": "stream",
          "name": "stdout",
          "text": [
            "Metrics for Linear Regression:\n",
            "Mean Squared Error (MSE): 0.0297\n",
            "Root Mean Squared Error (RMSE): 0.1723\n",
            "Mean Absolute Error (MAE): 0.1466\n",
            "R-squared (R²): 0.0803\n"
          ]
        }
      ]
    },
    {
      "cell_type": "markdown",
      "source": [
        "# KNN on PSO features"
      ],
      "metadata": {
        "id": "1oGhqktDGGAM"
      }
    },
    {
      "cell_type": "code",
      "source": [
        "from sklearn.neighbors import KNeighborsRegressor\n",
        "from sklearn.metrics import mean_squared_error, mean_absolute_error, r2_score\n",
        "import numpy as np\n",
        "r2_pso = ['T1', 'RH_2', 'T3', 'T4', 'RH_4', 'RH_5', 'RH_6', 'T8']\n",
        "# Define X (features) and y (target)\n",
        "X = df[r2_pso]\n",
        "y = df['Appliances']\n",
        "\n",
        "# Split the dataset into training and testing sets\n",
        "X_train, X_test, y_train, y_test = train_test_split(X, y, test_size=0.2, random_state=42)\n",
        "\n",
        "# Initialize the KNN Regressor\n",
        "knn = KNeighborsRegressor(n_neighbors=5)  # You can tune n_neighbors for better performance\n",
        "\n",
        "# Fit the model to the training data\n",
        "knn.fit(X_train, y_train)\n",
        "\n",
        "# Make predictions on the test data\n",
        "y_pred = knn.predict(X_test)\n",
        "\n",
        "# Calculate evaluation metrics\n",
        "mse = mean_squared_error(y_test, y_pred)\n",
        "rmse = np.sqrt(mse)\n",
        "mae = mean_absolute_error(y_test, y_pred)\n",
        "r2 = r2_score(y_test, y_pred)\n",
        "\n",
        "# Print the results\n",
        "print(\"KNN Regressor Performance Metrics:\")\n",
        "print(f\"Mean Squared Error (MSE): {mse:.4f}\")\n",
        "print(f\"Root Mean Squared Error (RMSE): {rmse:.4f}\")\n",
        "print(f\"Mean Absolute Error (MAE): {mae:.4f}\")\n",
        "print(f\"R-squared (R²): {r2:.4f}\")\n"
      ],
      "metadata": {
        "colab": {
          "base_uri": "https://localhost:8080/"
        },
        "id": "oV2CmYaMCXAm",
        "outputId": "823ddc7e-7519-4213-9947-6512ec15676c"
      },
      "execution_count": null,
      "outputs": [
        {
          "output_type": "stream",
          "name": "stdout",
          "text": [
            "KNN Regressor Performance Metrics:\n",
            "Mean Squared Error (MSE): 0.0370\n",
            "Root Mean Squared Error (RMSE): 0.1924\n",
            "Mean Absolute Error (MAE): 0.1608\n",
            "R-squared (R²): -0.1470\n"
          ]
        }
      ]
    },
    {
      "cell_type": "markdown",
      "source": [
        "# SVR on PSO features (linear)"
      ],
      "metadata": {
        "id": "_lNdiD7FGIyo"
      }
    },
    {
      "cell_type": "code",
      "source": [
        "from sklearn.svm import SVR\n",
        "from sklearn.metrics import mean_squared_error, mean_absolute_error, r2_score\n",
        "from sklearn.model_selection import train_test_split\n",
        "import numpy as np\n",
        "\n",
        "r2_pso = ['T1', 'RH_2', 'T3', 'T4', 'RH_4', 'RH_5', 'RH_6', 'T8']\n",
        "# Define X (features) and y (target)\n",
        "X = df[r2_pso]\n",
        "y = df['Appliances']\n",
        "\n",
        "# Step 2: Split the dataset into training and testing sets\n",
        "X_train_pso, X_test_pso, y_train, y_test = train_test_split(X, y, test_size=0.2, random_state=42)\n",
        "\n",
        "# Step 3: Initialize SVR with RBF kernel (you can customize kernel and parameters)\n",
        "svr = SVR(kernel='linear', C=1.0, epsilon=0.1)\n",
        "\n",
        "# Step 4: Train the SVR model on the training data\n",
        "svr.fit(X_train_pso, y_train)\n",
        "\n",
        "# Step 5: Predict on the test data\n",
        "y_pred = svr.predict(X_test_pso)\n",
        "\n",
        "# Step 6: Calculate metrics\n",
        "mse = mean_squared_error(y_test, y_pred)\n",
        "rmse = np.sqrt(mse)\n",
        "mae = mean_absolute_error(y_test, y_pred)\n",
        "r2 = r2_score(y_test, y_pred)\n",
        "\n",
        "# Step 7: Display the metrics\n",
        "print(\"Metrics for SVR:\")\n",
        "print(f\"Mean Squared Error (MSE): {mse:.4f}\")\n",
        "print(f\"Root Mean Squared Error (RMSE): {rmse:.4f}\")\n",
        "print(f\"Mean Absolute Error (MAE): {mae:.4f}\")\n",
        "print(f\"R-squared (R²): {r2:.4f}\")\n"
      ],
      "metadata": {
        "colab": {
          "base_uri": "https://localhost:8080/"
        },
        "id": "1xVM5s5PCkMN",
        "outputId": "273a4b68-8899-4982-836c-fe4ad84e4e8f"
      },
      "execution_count": null,
      "outputs": [
        {
          "output_type": "stream",
          "name": "stdout",
          "text": [
            "Metrics for SVR:\n",
            "Mean Squared Error (MSE): 0.0298\n",
            "Root Mean Squared Error (RMSE): 0.1726\n",
            "Mean Absolute Error (MAE): 0.1469\n",
            "R-squared (R²): 0.0776\n"
          ]
        }
      ]
    },
    {
      "cell_type": "markdown",
      "source": [
        "# SVR on PSO features (rbf)"
      ],
      "metadata": {
        "id": "N5RKhjjvGNbJ"
      }
    },
    {
      "cell_type": "code",
      "source": [
        "from sklearn.svm import SVR\n",
        "from sklearn.metrics import mean_squared_error, mean_absolute_error, r2_score\n",
        "from sklearn.model_selection import train_test_split\n",
        "import numpy as np\n",
        "\n",
        "r2_pso = ['T1', 'RH_2', 'T3', 'T4', 'RH_4', 'RH_5', 'RH_6', 'T8']\n",
        "# Define X (features) and y (target)\n",
        "X = df[r2_pso]\n",
        "y = df['Appliances']\n",
        "\n",
        "# Step 2: Split the dataset into training and testing sets\n",
        "X_train_pso, X_test_pso, y_train, y_test = train_test_split(X, y, test_size=0.2, random_state=42)\n",
        "\n",
        "# Step 3: Initialize SVR with RBF kernel (you can customize kernel and parameters)\n",
        "svr = SVR(kernel='rbf', C=1.0, epsilon=0.1)\n",
        "\n",
        "# Step 4: Train the SVR model on the training data\n",
        "svr.fit(X_train_pso, y_train)\n",
        "\n",
        "# Step 5: Predict on the test data\n",
        "y_pred = svr.predict(X_test_pso)\n",
        "\n",
        "# Step 6: Calculate metrics\n",
        "mse = mean_squared_error(y_test, y_pred)\n",
        "rmse = np.sqrt(mse)\n",
        "mae = mean_absolute_error(y_test, y_pred)\n",
        "r2 = r2_score(y_test, y_pred)\n",
        "\n",
        "# Step 7: Display the metrics\n",
        "print(\"Metrics for SVR:\")\n",
        "print(f\"Mean Squared Error (MSE): {mse:.4f}\")\n",
        "print(f\"Root Mean Squared Error (RMSE): {rmse:.4f}\")\n",
        "print(f\"Mean Absolute Error (MAE): {mae:.4f}\")\n",
        "print(f\"R-squared (R²): {r2:.4f}\")\n"
      ],
      "metadata": {
        "colab": {
          "base_uri": "https://localhost:8080/"
        },
        "id": "DjPkWI9iCykT",
        "outputId": "16ca8539-9b7a-43b0-d20b-584582a9ae92"
      },
      "execution_count": null,
      "outputs": [
        {
          "output_type": "stream",
          "name": "stdout",
          "text": [
            "Metrics for SVR:\n",
            "Mean Squared Error (MSE): 0.0312\n",
            "Root Mean Squared Error (RMSE): 0.1768\n",
            "Mean Absolute Error (MAE): 0.1492\n",
            "R-squared (R²): 0.0321\n"
          ]
        }
      ]
    },
    {
      "cell_type": "markdown",
      "source": [
        "# SVR on PSO features (sigmoid)"
      ],
      "metadata": {
        "id": "JVD0xjo9GQIl"
      }
    },
    {
      "cell_type": "code",
      "source": [
        "from sklearn.svm import SVR\n",
        "from sklearn.metrics import mean_squared_error, mean_absolute_error, r2_score\n",
        "from sklearn.model_selection import train_test_split\n",
        "import numpy as np\n",
        "\n",
        "r2_pso = ['T1', 'RH_2', 'T3', 'T4', 'RH_4', 'RH_5', 'RH_6', 'T8']\n",
        "# Define X (features) and y (target)\n",
        "X = df[r2_pso]\n",
        "y = df['Appliances']\n",
        "\n",
        "# Step 2: Split the dataset into training and testing sets\n",
        "X_train_pso, X_test_pso, y_train, y_test = train_test_split(X, y, test_size=0.2, random_state=42)\n",
        "\n",
        "# Step 3: Initialize SVR with RBF kernel (you can customize kernel and parameters)\n",
        "svr = SVR(kernel='sigmoid', C=1.0, epsilon=0.1)\n",
        "\n",
        "# Step 4: Train the SVR model on the training data\n",
        "svr.fit(X_train_pso, y_train)\n",
        "\n",
        "# Step 5: Predict on the test data\n",
        "y_pred = svr.predict(X_test_pso)\n",
        "\n",
        "# Step 6: Calculate metrics\n",
        "mse = mean_squared_error(y_test, y_pred)\n",
        "rmse = np.sqrt(mse)\n",
        "mae = mean_absolute_error(y_test, y_pred)\n",
        "r2 = r2_score(y_test, y_pred)\n",
        "\n",
        "# Step 7: Display the metrics\n",
        "print(\"Metrics for SVR:\")\n",
        "print(f\"Mean Squared Error (MSE): {mse:.4f}\")\n",
        "print(f\"Root Mean Squared Error (RMSE): {rmse:.4f}\")\n",
        "print(f\"Mean Absolute Error (MAE): {mae:.4f}\")\n",
        "print(f\"R-squared (R²): {r2:.4f}\")\n",
        "\n"
      ],
      "metadata": {
        "colab": {
          "base_uri": "https://localhost:8080/"
        },
        "id": "FxS5AxQmC0mc",
        "outputId": "63d38b08-9dca-440c-82e7-5b63d325e73a"
      },
      "execution_count": null,
      "outputs": [
        {
          "output_type": "stream",
          "name": "stdout",
          "text": [
            "Metrics for SVR:\n",
            "Mean Squared Error (MSE): 1978.2557\n",
            "Root Mean Squared Error (RMSE): 44.4776\n",
            "Mean Absolute Error (MAE): 20.1436\n",
            "R-squared (R²): -61276.5690\n"
          ]
        }
      ]
    },
    {
      "cell_type": "markdown",
      "source": [
        "# SVR on PSO features (poly)"
      ],
      "metadata": {
        "id": "2_rPheEVGTfc"
      }
    },
    {
      "cell_type": "code",
      "source": [
        "from sklearn.svm import SVR\n",
        "from sklearn.metrics import mean_squared_error, mean_absolute_error, r2_score\n",
        "from sklearn.model_selection import train_test_split\n",
        "import numpy as np\n",
        "\n",
        "r2_pso = ['T1', 'RH_2', 'T3', 'T4', 'RH_4', 'RH_5', 'RH_6', 'T8']\n",
        "# Define X (features) and y (target)\n",
        "X = df[r2_pso]\n",
        "y = df['Appliances']\n",
        "\n",
        "# Step 2: Split the dataset into training and testing sets\n",
        "X_train_pso, X_test_pso, y_train, y_test = train_test_split(X, y, test_size=0.2, random_state=42)\n",
        "\n",
        "# Step 3: Initialize SVR with RBF kernel (you can customize kernel and parameters)\n",
        "svr = SVR(kernel='poly', C=1.0, epsilon=0.1)\n",
        "\n",
        "# Step 4: Train the SVR model on the training data\n",
        "svr.fit(X_train_pso, y_train)\n",
        "\n",
        "# Step 5: Predict on the test data\n",
        "y_pred = svr.predict(X_test_pso)\n",
        "\n",
        "# Step 6: Calculate metrics\n",
        "mse = mean_squared_error(y_test, y_pred)\n",
        "rmse = np.sqrt(mse)\n",
        "mae = mean_absolute_error(y_test, y_pred)\n",
        "r2 = r2_score(y_test, y_pred)\n",
        "\n",
        "# Step 7: Display the metrics\n",
        "print(\"Metrics for SVR:\")\n",
        "print(f\"Mean Squared Error (MSE): {mse:.4f}\")\n",
        "print(f\"Root Mean Squared Error (RMSE): {rmse:.4f}\")\n",
        "print(f\"Mean Absolute Error (MAE): {mae:.4f}\")\n",
        "print(f\"R-squared (R²): {r2:.4f}\")\n"
      ],
      "metadata": {
        "colab": {
          "base_uri": "https://localhost:8080/"
        },
        "id": "YfK7nHQfC3sP",
        "outputId": "8aebec72-e4fa-47a2-e059-243aa1f9e0a8"
      },
      "execution_count": null,
      "outputs": [
        {
          "output_type": "stream",
          "name": "stdout",
          "text": [
            "Metrics for SVR:\n",
            "Mean Squared Error (MSE): 0.0307\n",
            "Root Mean Squared Error (RMSE): 0.1753\n",
            "Mean Absolute Error (MAE): 0.1490\n",
            "R-squared (R²): 0.0485\n"
          ]
        }
      ]
    },
    {
      "cell_type": "markdown",
      "source": [
        "# Linear regression on selected_columns_ga"
      ],
      "metadata": {
        "id": "lNmx6JbsGZC7"
      }
    },
    {
      "cell_type": "code",
      "source": [
        "import pandas as pd\n",
        "from sklearn.linear_model import LinearRegression\n",
        "from sklearn.model_selection import train_test_split\n",
        "from sklearn.metrics import mean_squared_error, mean_absolute_error, r2_score\n",
        "import numpy as np\n",
        "\n",
        "# Assuming 'df' is your DataFrame and 'selected_columns_ga' is the list of selected features\n",
        "# Example: selected_columns_ga = ['Feature1', 'Feature2', 'Feature3']\n",
        "\n",
        "# Define X (features) and y (target)\n",
        "X = df[selected_columns_ga]\n",
        "y = df['Appliances']\n",
        "\n",
        "# Split the data into training and testing sets\n",
        "X_train, X_test, y_train, y_test = train_test_split(X, y, test_size=0.2, random_state=42)\n",
        "\n",
        "# Initialize and train the Linear Regression model\n",
        "model = LinearRegression()\n",
        "model.fit(X_train, y_train)\n",
        "\n",
        "# Predict on the test set\n",
        "y_pred = model.predict(X_test)\n",
        "\n",
        "# Calculate evaluation metrics\n",
        "mse = mean_squared_error(y_test, y_pred)\n",
        "rmse = np.sqrt(mse)\n",
        "mae = mean_absolute_error(y_test, y_pred)\n",
        "r2 = r2_score(y_test, y_pred)\n",
        "\n",
        "# Print the metrics\n",
        "print(\"Metrics for Linear Regression:\")\n",
        "print(f\"Mean Squared Error (MSE): {mse:.4f}\")\n",
        "print(f\"Root Mean Squared Error (RMSE): {rmse:.4f}\")\n",
        "print(f\"Mean Absolute Error (MAE): {mae:.4f}\")\n",
        "print(f\"R-squared (R²): {r2:.4f}\")\n"
      ],
      "metadata": {
        "colab": {
          "base_uri": "https://localhost:8080/"
        },
        "id": "Oiwf7MRRDP5-",
        "outputId": "50c9449a-8645-4783-d8c5-f8de64fb9a7d"
      },
      "execution_count": null,
      "outputs": [
        {
          "output_type": "stream",
          "name": "stdout",
          "text": [
            "Metrics for Linear Regression:\n",
            "Mean Squared Error (MSE): 0.0045\n",
            "Root Mean Squared Error (RMSE): 0.0668\n",
            "Mean Absolute Error (MAE): 0.0527\n",
            "R-squared (R²): 0.8616\n"
          ]
        }
      ]
    },
    {
      "cell_type": "markdown",
      "source": [
        "# KNN on selected_columns_ga"
      ],
      "metadata": {
        "id": "6QKlIgjvGf3j"
      }
    },
    {
      "cell_type": "code",
      "source": [
        "from sklearn.neighbors import KNeighborsRegressor\n",
        "from sklearn.metrics import mean_squared_error, mean_absolute_error, r2_score\n",
        "import numpy as np\n",
        "\n",
        "# Assuming you have selected_features_ga already defined\n",
        "X = df[selected_features_ga]\n",
        "y = df['Appliances']\n",
        "\n",
        "# Split the dataset into training and testing sets\n",
        "X_train, X_test, y_train, y_test = train_test_split(X, y, test_size=0.2, random_state=42)\n",
        "\n",
        "# Initialize the KNN Regressor\n",
        "knn = KNeighborsRegressor(n_neighbors=5)  # You can tune n_neighbors for better performance\n",
        "\n",
        "# Fit the model to the training data\n",
        "knn.fit(X_train, y_train)\n",
        "\n",
        "# Make predictions on the test data\n",
        "y_pred = knn.predict(X_test)\n",
        "\n",
        "# Calculate evaluation metrics\n",
        "mse = mean_squared_error(y_test, y_pred)\n",
        "rmse = np.sqrt(mse)\n",
        "mae = mean_absolute_error(y_test, y_pred)\n",
        "r2 = r2_score(y_test, y_pred)\n",
        "\n",
        "# Print the results\n",
        "print(\"KNN Regressor Performance Metrics:\")\n",
        "print(f\"Mean Squared Error (MSE): {mse:.4f}\")\n",
        "print(f\"Root Mean Squared Error (RMSE): {rmse:.4f}\")\n",
        "print(f\"Mean Absolute Error (MAE): {mae:.4f}\")\n",
        "print(f\"R-squared (R²): {r2:.4f}\")\n"
      ],
      "metadata": {
        "colab": {
          "base_uri": "https://localhost:8080/"
        },
        "id": "O4rGnt4-DjN5",
        "outputId": "5f0b9bb5-dfbc-401d-eb00-889713f5f329"
      },
      "execution_count": null,
      "outputs": [
        {
          "output_type": "stream",
          "name": "stdout",
          "text": [
            "KNN Regressor Performance Metrics:\n",
            "Mean Squared Error (MSE): 0.0057\n",
            "Root Mean Squared Error (RMSE): 0.0758\n",
            "Mean Absolute Error (MAE): 0.0590\n",
            "R-squared (R²): 0.8222\n"
          ]
        }
      ]
    },
    {
      "cell_type": "markdown",
      "source": [
        "# SVR on selected_columns_ga (rbf)"
      ],
      "metadata": {
        "id": "KcGGA8hGGh8w"
      }
    },
    {
      "cell_type": "code",
      "source": [
        "from sklearn.svm import SVR\n",
        "from sklearn.metrics import mean_squared_error, mean_absolute_error, r2_score\n",
        "from sklearn.model_selection import train_test_split\n",
        "import numpy as np\n",
        "\n",
        "\n",
        "X = df[selected_features_ga]\n",
        "y = df['Appliances']\n",
        "\n",
        "# Step 2: Split the dataset into training and testing sets\n",
        "X_train_ga, X_test_ga, y_train, y_test = train_test_split(X, y, test_size=0.2, random_state=42)\n",
        "\n",
        "# Step 3: Initialize SVR with RBF kernel (you can customize kernel and parameters)\n",
        "svr = SVR(kernel='rbf', C=1.0, epsilon=0.1)\n",
        "\n",
        "# Step 4: Train the SVR model on the training data\n",
        "svr.fit(X_train_ga, y_train)\n",
        "\n",
        "# Step 5: Predict on the test data\n",
        "y_pred = svr.predict(X_test_ga)\n",
        "\n",
        "# Step 6: Calculate metrics\n",
        "mse = mean_squared_error(y_test, y_pred)\n",
        "rmse = np.sqrt(mse)\n",
        "mae = mean_absolute_error(y_test, y_pred)\n",
        "r2 = r2_score(y_test, y_pred)\n",
        "\n",
        "# Step 7: Display the metrics\n",
        "print(\"Metrics for SVR:\")\n",
        "print(f\"Mean Squared Error (MSE): {mse:.4f}\")\n",
        "print(f\"Root Mean Squared Error (RMSE): {rmse:.4f}\")\n",
        "print(f\"Mean Absolute Error (MAE): {mae:.4f}\")\n",
        "print(f\"R-squared (R²): {r2:.4f}\")\n"
      ],
      "metadata": {
        "colab": {
          "base_uri": "https://localhost:8080/"
        },
        "id": "VWn-wfIbDt_q",
        "outputId": "607b8b5e-7fa4-43df-cfb2-fcebcb755e56"
      },
      "execution_count": null,
      "outputs": [
        {
          "output_type": "stream",
          "name": "stdout",
          "text": [
            "Metrics for SVR:\n",
            "Mean Squared Error (MSE): 0.0049\n",
            "Root Mean Squared Error (RMSE): 0.0702\n",
            "Mean Absolute Error (MAE): 0.0555\n",
            "R-squared (R²): 0.8473\n"
          ]
        }
      ]
    },
    {
      "cell_type": "markdown",
      "source": [
        "# SVR on selected_columns_ga (poly)"
      ],
      "metadata": {
        "id": "3J6ZlQ0OGpkp"
      }
    },
    {
      "cell_type": "code",
      "source": [
        "from sklearn.svm import SVR\n",
        "from sklearn.metrics import mean_squared_error, mean_absolute_error, r2_score\n",
        "from sklearn.model_selection import train_test_split\n",
        "import numpy as np\n",
        "\n",
        "\n",
        "X = df[selected_features_ga]\n",
        "y = df['Appliances']\n",
        "\n",
        "# Step 2: Split the dataset into training and testing sets\n",
        "X_train_ga, X_test_ga, y_train, y_test = train_test_split(X, y, test_size=0.2, random_state=42)\n",
        "\n",
        "# Step 3: Initialize SVR with RBF kernel (you can customize kernel and parameters)\n",
        "svr = SVR(kernel='poly', C=1.0, epsilon=0.1)\n",
        "\n",
        "# Step 4: Train the SVR model on the training data\n",
        "svr.fit(X_train_ga, y_train)\n",
        "\n",
        "# Step 5: Predict on the test data\n",
        "y_pred = svr.predict(X_test_ga)\n",
        "\n",
        "# Step 6: Calculate metrics\n",
        "mse = mean_squared_error(y_test, y_pred)\n",
        "rmse = np.sqrt(mse)\n",
        "mae = mean_absolute_error(y_test, y_pred)\n",
        "r2 = r2_score(y_test, y_pred)\n",
        "\n",
        "# Step 7: Display the metrics\n",
        "print(\"Metrics for SVR:\")\n",
        "print(f\"Mean Squared Error (MSE): {mse:.4f}\")\n",
        "print(f\"Root Mean Squared Error (RMSE): {rmse:.4f}\")\n",
        "print(f\"Mean Absolute Error (MAE): {mae:.4f}\")\n",
        "print(f\"R-squared (R²): {r2:.4f}\")\n"
      ],
      "metadata": {
        "colab": {
          "base_uri": "https://localhost:8080/"
        },
        "id": "H2HZiOloD87f",
        "outputId": "8f91751d-c015-4643-ab36-1316c97904a8"
      },
      "execution_count": null,
      "outputs": [
        {
          "output_type": "stream",
          "name": "stdout",
          "text": [
            "Metrics for SVR:\n",
            "Mean Squared Error (MSE): 0.0057\n",
            "Root Mean Squared Error (RMSE): 0.0755\n",
            "Mean Absolute Error (MAE): 0.0595\n",
            "R-squared (R²): 0.8236\n"
          ]
        }
      ]
    },
    {
      "cell_type": "markdown",
      "source": [
        "# SVR on selected_columns_ga (sigmoid)"
      ],
      "metadata": {
        "id": "twyyXQZHGsi2"
      }
    },
    {
      "cell_type": "code",
      "source": [
        "from sklearn.svm import SVR\n",
        "from sklearn.metrics import mean_squared_error, mean_absolute_error, r2_score\n",
        "from sklearn.model_selection import train_test_split\n",
        "import numpy as np\n",
        "\n",
        "\n",
        "X = df[selected_features_ga]\n",
        "y = df['Appliances']\n",
        "\n",
        "# Step 2: Split the dataset into training and testing sets\n",
        "X_train_ga, X_test_ga, y_train, y_test = train_test_split(X, y, test_size=0.2, random_state=42)\n",
        "\n",
        "# Step 3: Initialize SVR with RBF kernel (you can customize kernel and parameters)\n",
        "svr = SVR(kernel='sigmoid', C=1.0, epsilon=0.1)\n",
        "\n",
        "# Step 4: Train the SVR model on the training data\n",
        "svr.fit(X_train_ga, y_train)\n",
        "\n",
        "# Step 5: Predict on the test data\n",
        "y_pred = svr.predict(X_test_ga)\n",
        "\n",
        "# Step 6: Calculate metrics\n",
        "mse = mean_squared_error(y_test, y_pred)\n",
        "rmse = np.sqrt(mse)\n",
        "mae = mean_absolute_error(y_test, y_pred)\n",
        "r2 = r2_score(y_test, y_pred)\n",
        "\n",
        "# Step 7: Display the metrics\n",
        "print(\"Metrics for SVR:\")\n",
        "print(f\"Mean Squared Error (MSE): {mse:.4f}\")\n",
        "print(f\"Root Mean Squared Error (RMSE): {rmse:.4f}\")\n",
        "print(f\"Mean Absolute Error (MAE): {mae:.4f}\")\n",
        "print(f\"R-squared (R²): {r2:.4f}\")\n"
      ],
      "metadata": {
        "colab": {
          "base_uri": "https://localhost:8080/"
        },
        "id": "T-QNaCmrEA43",
        "outputId": "14b206f7-5927-4c27-ceb0-7a462968789a"
      },
      "execution_count": null,
      "outputs": [
        {
          "output_type": "stream",
          "name": "stdout",
          "text": [
            "Metrics for SVR:\n",
            "Mean Squared Error (MSE): 2381.1964\n",
            "Root Mean Squared Error (RMSE): 48.7975\n",
            "Mean Absolute Error (MAE): 26.8964\n",
            "R-squared (R²): -73757.8809\n"
          ]
        }
      ]
    },
    {
      "cell_type": "markdown",
      "source": [
        "# SVR on selected_columns_ga (linear)"
      ],
      "metadata": {
        "id": "zuwMyhX_GwBV"
      }
    },
    {
      "cell_type": "code",
      "source": [
        "from sklearn.svm import SVR\n",
        "from sklearn.metrics import mean_squared_error, mean_absolute_error, r2_score\n",
        "from sklearn.model_selection import train_test_split\n",
        "import numpy as np\n",
        "\n",
        "\n",
        "X = df[selected_features_ga]\n",
        "y = df['Appliances']\n",
        "\n",
        "# Step 2: Split the dataset into training and testing sets\n",
        "X_train_ga, X_test_ga, y_train, y_test = train_test_split(X, y, test_size=0.2, random_state=42)\n",
        "\n",
        "# Step 3: Initialize SVR with RBF kernel (you can customize kernel and parameters)\n",
        "svr = SVR(kernel='linear', C=1.0, epsilon=0.1)\n",
        "\n",
        "# Step 4: Train the SVR model on the training data\n",
        "svr.fit(X_train_ga, y_train)\n",
        "\n",
        "# Step 5: Predict on the test data\n",
        "y_pred = svr.predict(X_test_ga)\n",
        "\n",
        "# Step 6: Calculate metrics\n",
        "mse = mean_squared_error(y_test, y_pred)\n",
        "rmse = np.sqrt(mse)\n",
        "mae = mean_absolute_error(y_test, y_pred)\n",
        "r2 = r2_score(y_test, y_pred)\n",
        "\n",
        "# Step 7: Display the metrics\n",
        "print(\"Metrics for SVR:\")\n",
        "print(f\"Mean Squared Error (MSE): {mse:.4f}\")\n",
        "print(f\"Root Mean Squared Error (RMSE): {rmse:.4f}\")\n",
        "print(f\"Mean Absolute Error (MAE): {mae:.4f}\")\n",
        "print(f\"R-squared (R²): {r2:.4f}\")\n",
        "\n"
      ],
      "metadata": {
        "colab": {
          "base_uri": "https://localhost:8080/"
        },
        "id": "Z-shVivVEJSt",
        "outputId": "2562e687-75b5-482c-fcb0-9c4a6c5daffc"
      },
      "execution_count": null,
      "outputs": [
        {
          "output_type": "stream",
          "name": "stdout",
          "text": [
            "Metrics for SVR:\n",
            "Mean Squared Error (MSE): 0.0047\n",
            "Root Mean Squared Error (RMSE): 0.0682\n",
            "Mean Absolute Error (MAE): 0.0538\n",
            "R-squared (R²): 0.8558\n"
          ]
        }
      ]
    },
    {
      "cell_type": "code",
      "source": [
        "import pandas as pd\n",
        "import matplotlib.pyplot as plt\n",
        "import numpy as np\n",
        "\n",
        "# RMSE values\n",
        "rmse_values_with_sigmoid = {\n",
        "    'Forward': {'SVR_linear': 0.0673, 'SVR_rbf': 0.0702, 'SVR_poly': 0.0756, 'SVR_sigmoid': 48.7975, 'Linear Regression': 0.0670, 'KNN': 0.0759},\n",
        "    'Backward': {'SVR_linear': 0.1739, 'SVR_rbf': 0.1800, 'SVR_poly': 0.1797, 'SVR_sigmoid': 44.4776, 'Linear Regression': 0.1732, 'KNN': 0.1897},\n",
        "    'PSO': {'SVR_linear': 0.1726, 'SVR_rbf': 0.1768, 'SVR_poly': 0.1753, 'SVR_sigmoid': 27.6299, 'Linear Regression': 0.1723, 'KNN': 0.1924},\n",
        "    'GA': {'SVR_linear': 0.0682, 'SVR_rbf': 0.0702, 'SVR_poly': 0.0755, 'SVR_sigmoid': 32.4450, 'Linear Regression': 0.0668, 'KNN': 0.0758}\n",
        "}\n",
        "\n",
        "rmse_values_without_sigmoid = {\n",
        "    'Forward': {'SVR_linear': 0.0673, 'SVR_rbf': 0.0702, 'SVR_poly': 0.0756, 'Linear Regression': 0.0670, 'KNN': 0.0759},\n",
        "    'Backward': {'SVR_linear': 0.1739, 'SVR_rbf': 0.1800, 'SVR_poly': 0.1797, 'Linear Regression': 0.1732, 'KNN': 0.1897},\n",
        "    'PSO': {'SVR_linear': 0.1726, 'SVR_rbf': 0.1768, 'SVR_poly': 0.1753, 'Linear Regression': 0.1723, 'KNN': 0.1924},\n",
        "    'GA': {'SVR_linear': 0.0682, 'SVR_rbf': 0.0702, 'SVR_poly': 0.0755, 'Linear Regression': 0.0668, 'KNN': 0.0758}\n",
        "}\n",
        "\n",
        "# Colors for bars\n",
        "colors = ['#5AD4E6', '#F392B2', '#F9C349', '#A59BEF']\n",
        "\n",
        "# Methods and models\n",
        "methods = list(rmse_values_with_sigmoid.keys())\n",
        "models_with_sigmoid = list(rmse_values_with_sigmoid['Forward'].keys())\n",
        "models_without_sigmoid = list(rmse_values_without_sigmoid['Forward'].keys())\n",
        "width = 0.15\n",
        "\n",
        "# Prepare x-axis values\n",
        "x_with_sigmoid = np.arange(len(models_with_sigmoid))\n",
        "x_without_sigmoid = np.arange(len(models_without_sigmoid))\n",
        "\n",
        "# Create subplots\n",
        "fig, axs = plt.subplots(1, 2, figsize=(16, 6))\n",
        "\n",
        "# Plot for RMSE values with SVR_sigmoid\n",
        "for i, method in enumerate(methods):\n",
        "    axs[0].bar(x_with_sigmoid + i * width, list(rmse_values_with_sigmoid[method].values()), width, label=method, color=colors[i])\n",
        "\n",
        "axs[0].set_title('With SVR_sigmoid')\n",
        "axs[0].set_xticks(x_with_sigmoid + width * len(methods) / 2)\n",
        "axs[0].set_xticklabels(models_with_sigmoid, rotation=45, ha='right')\n",
        "axs[0].set_ylabel('RMSE')\n",
        "axs[0].legend()\n",
        "\n",
        "# Plot for RMSE values without SVR_sigmoid\n",
        "for i, method in enumerate(methods):\n",
        "    axs[1].bar(x_without_sigmoid + i * width, list(rmse_values_without_sigmoid[method].values()), width, label=method, color=colors[i])\n",
        "\n",
        "axs[1].set_title('Without SVR_sigmoid')\n",
        "axs[1].set_xticks(x_without_sigmoid + width * len(methods) / 2)\n",
        "axs[1].set_xticklabels(models_without_sigmoid, rotation=45, ha='right')\n",
        "axs[1].legend()\n",
        "\n",
        "# Adjust layout\n",
        "fig.suptitle('Comparison of RMSE Values with and without SVR_sigmoid', fontsize=16)\n",
        "fig.tight_layout(rect=[0, 0, 1, 0.95])\n",
        "plt.show()\n"
      ],
      "metadata": {
        "colab": {
          "base_uri": "https://localhost:8080/",
          "height": 480
        },
        "id": "XgM3JAYF6dhF",
        "outputId": "1dc972a5-a156-4ddf-9e44-458ebb0f2788"
      },
      "execution_count": 25,
      "outputs": [
        {
          "output_type": "display_data",
          "data": {
            "text/plain": [
              "<Figure size 1600x600 with 2 Axes>"
            ],
            "image/png": "[encoded data removed]"
          },
          "metadata": {}
        }
      ]
    },
    {
      "cell_type": "code",
      "source": [
        "import pandas as pd\n",
        "import matplotlib.pyplot as plt\n",
        "import numpy as np\n",
        "\n",
        "# Sample R² values for both scenarios\n",
        "R_squared_values_with_sigmoid = {\n",
        "    'Forward': {'SVR_linear': 0.8597, 'SVR_rbf': 0.8475, 'SVR_poly': 0.8228, 'SVR_sigmoid': -32606.3440, 'Linear Regression': 0.8608, 'KNN': 0.8216},\n",
        "    'Backward': {'SVR_linear': 0.0634, 'SVR_rbf': -0.0035, 'SVR_poly': -0.0000, 'SVR_sigmoid': -23646.1214, 'Linear Regression': 0.0709, 'KNN': -0.1150},\n",
        "    'PSO': {'SVR_linear': 0.0776, 'SVR_rbf': 0.0321, 'SVR_poly': 0.0485, 'SVR_sigmoid': -61276.5690, 'Linear Regression': 0.0803, 'KNN': -0.1470},\n",
        "    'GA': {'SVR_linear': 0.8558, 'SVR_rbf': 0.8473, 'SVR_poly': 0.8236, 'SVR_sigmoid': -73757.8809, 'Linear Regression': 0.8616, 'KNN': 0.8222}\n",
        "}\n",
        "\n",
        "R_squared_values_without_sigmoid = {\n",
        "    'Forward': {'SVR_linear': 0.8597, 'SVR_rbf': 0.8475, 'SVR_poly': 0.8228, 'Linear Regression': 0.8608, 'KNN': 0.8216},\n",
        "    'Backward': {'SVR_linear': 0.0634, 'SVR_rbf': -0.0035, 'SVR_poly': -0.0000, 'Linear Regression': 0.0709, 'KNN': -0.1150},\n",
        "    'PSO': {'SVR_linear': 0.0776, 'SVR_rbf': 0.0321, 'SVR_poly': 0.0485, 'Linear Regression': 0.0803, 'KNN': -0.1470},\n",
        "    'GA': {'SVR_linear': 0.8558, 'SVR_rbf': 0.8473, 'SVR_poly': 0.8236, 'Linear Regression': 0.8616, 'KNN': 0.8222}\n",
        "}\n",
        "\n",
        "# Colors for each method\n",
        "colors = ['#5AD4E6', '#F392B2', '#F9C349', '#A59BEF']\n",
        "\n",
        "methods = list(R_squared_values_with_sigmoid.keys())\n",
        "models_with_sigmoid = list(R_squared_values_with_sigmoid['Forward'].keys())\n",
        "models_without_sigmoid = list(R_squared_values_without_sigmoid['Forward'].keys())\n",
        "width = 0.15\n",
        "\n",
        "x_with_sigmoid = np.arange(len(models_with_sigmoid))\n",
        "x_without_sigmoid = np.arange(len(models_without_sigmoid))\n",
        "\n",
        "# Create subplots\n",
        "fig, axs = plt.subplots(1, 2, figsize=(16, 6))\n",
        "\n",
        "# Plot for R² values with SVR_sigmoid\n",
        "for i, method in enumerate(methods):\n",
        "    axs[0].bar(x_with_sigmoid + i * width, list(R_squared_values_with_sigmoid[method].values()), width, label=method, color=colors[i])\n",
        "\n",
        "axs[0].invert_yaxis()\n",
        "axs[0].invert_xaxis()\n",
        "axs[0].set_title('With SVR_sigmoid')\n",
        "axs[0].set_xticks(x_with_sigmoid + width * len(methods) / 2)\n",
        "axs[0].set_xticklabels(models_with_sigmoid, rotation=45, ha='left')\n",
        "axs[0].set_ylabel('R² Score')\n",
        "axs[0].legend()\n",
        "\n",
        "# Plot for R² values without SVR_sigmoid\n",
        "for i, method in enumerate(methods):\n",
        "    axs[1].bar(x_without_sigmoid + i * width, list(R_squared_values_without_sigmoid[method].values()), width, label=method, color=colors[i])\n",
        "\n",
        "axs[1].set_title('Without SVR_sigmoid')\n",
        "axs[1].set_xticks(x_without_sigmoid + width * len(methods) / 2)\n",
        "axs[1].set_xticklabels(models_without_sigmoid, rotation=45, ha='right')\n",
        "axs[1].legend()\n",
        "\n",
        "# Adjust layout\n",
        "fig.suptitle('Comparison of R² Values with and without SVR_sigmoid')\n",
        "fig.tight_layout(rect=[0, 0, 1, 0.96])\n",
        "plt.show()\n"
      ],
      "metadata": {
        "colab": {
          "base_uri": "https://localhost:8080/",
          "height": 480
        },
        "id": "PNygWZXWABiZ",
        "outputId": "2de2bc47-9463-4622-b74d-f3d719c2a0c4"
      },
      "execution_count": 24,
      "outputs": [
        {
          "output_type": "display_data",
          "data": {
            "text/plain": [
              "<Figure size 1600x600 with 2 Axes>"
            ],
            "image/png": "[encoded data removed]"
          },
          "metadata": {}
        }
      ]
    },
    {
      "cell_type": "code",
      "source": [],
      "metadata": {
        "id": "4lW8A7cTK9d4"
      },
      "execution_count": null,
      "outputs": []
    }
  ]
}